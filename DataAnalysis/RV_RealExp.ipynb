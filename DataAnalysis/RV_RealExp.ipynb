{
 "cells": [
  {
   "cell_type": "code",
   "execution_count": 1,
   "metadata": {},
   "outputs": [],
   "source": [
    "import numpy as np\n",
    "import pandas as pd\n",
    "import matplotlib.pyplot as plt\n",
    "import seaborn as sns\n",
    "# import plotly.express as px\n",
    "# import plotly.io as pio\n",
    "import re\n",
    "# import rosbag_pandas\n",
    "import math\n",
    "import yaml\n",
    "import pickle\n",
    "import PyQt5\n",
    "# from rosbag.bag import Bag"
   ]
  },
  {
   "cell_type": "code",
   "execution_count": 2,
   "metadata": {},
   "outputs": [],
   "source": [
    "def failureProbability_linAcc(acc_z):\n",
    "    sigma1 = 0.4\n",
    "    sigma2 = -0.9\n",
    "    mu = 0\n",
    "    output = 1 - (1/(math.sqrt(2*math.pi)*sigma1))*(math.exp( - math.pow(acc_z - mu,2)/(2*math.pow(sigma2,2))))\n",
    "    if(output>1):\n",
    "        return 1\n",
    "    elif(output<0):\n",
    "        return 0\n",
    "    else:\n",
    "        return output\n",
    "\n",
    "def magROC_cdf(x):\n",
    "    a = -6\n",
    "    b = -0.15\n",
    "    try:\n",
    "        p_f = 1/(1 + math.exp(-a*x + a*b))\n",
    "    except OverflowError:\n",
    "        p_f = float(0)\n",
    "#         print('the values that caused this problem is:',x)\n",
    "    return p_f\n",
    "\n",
    "\n",
    "def odomError_cdf(timeSteps):\n",
    "    k = 0.2\n",
    "    p_f = k*timeSteps\n",
    "    #This is a threshold to make the graphs clearer\n",
    "    if(p_f>1):\n",
    "        return 1\n",
    "    elif(p_f<0):\n",
    "        return 0\n",
    "    else:\n",
    "        return p_f\n",
    "\n",
    "def vel_cdf(x):\n",
    "    a = 1.5\n",
    "    b = 2.5\n",
    "    try:\n",
    "        p_f = 1/(1 + math.exp(-a*x + a*b))\n",
    "    except OverflowError:\n",
    "        p_f = float(0)\n",
    "    return p_f\n",
    "\n",
    "\n",
    "def psnrError_cdf(x):\n",
    "    a = 5\n",
    "    b = 1\n",
    "    try:\n",
    "        p_f = 1/(1 + math.exp(-a*x + a*b))\n",
    "    except OverflowError:\n",
    "        p_f = float(0)\n",
    "#         print('the values that caused this problem is:',x)\n",
    "    return p_f\n",
    "\n",
    "def probabilityOfFailure(arrayOfProbabilities):\n",
    "    normalisationConstant = 1.0/(len(arrayOfProbabilities))\n",
    "    p_f_total = 0.0\n",
    "    for p_f in arrayOfProbabilities:\n",
    "        p_f_total = p_f_total + p_f*normalisationConstant\n",
    "    return p_f_total"
   ]
  },
  {
   "cell_type": "code",
   "execution_count": 3,
   "metadata": {},
   "outputs": [],
   "source": [
    "def dataframe_parser(path_to_file, path_to_infoDict, arena, difficulty,trial):\n",
    "#     print('Parsing Rosbag ',path_to_file)\n",
    "#     df = rosbag_pandas.bag_to_dataframe(path_to_file)\n",
    "#     info_dict = yaml.load(Bag(path_to_file, 'r')._get_yaml_info())\n",
    "    # df.head()\n",
    "    print('Parsing pickle file', path_to_file)\n",
    "    df = pd.read_pickle(path_to_file)\n",
    "    info_dict = pickle.load(open(path_to_infoDict, \"rb\"))\n",
    "    timeToComplete = info_dict['duration']\n",
    "    \n",
    "    rv_columns = ['move_base_current_goal__pose_position_x',\n",
    "                  'move_base_current_goal__pose_position_y',\n",
    "                  'move_base_current_goal__pose_position_z',\n",
    "                  'husky_velocity_controller_odom__pose_pose_position_x',\n",
    "                  'husky_velocity_controller_odom__pose_pose_position_y',\n",
    "                  'husky_velocity_controller_odom__pose_pose_position_z',\n",
    "                  'odometry_filtered__pose_pose_position_x',\n",
    "                  'odometry_filtered__pose_pose_position_y',\n",
    "                  'odometry_filtered__pose_pose_position_z',\n",
    "                  'imu_data__linear_acceleration_z',\n",
    "                  'psnr_laserScan__data']\n",
    "\n",
    "    df = df.fillna(method = 'ffill')\n",
    "    df = df.fillna(0)\n",
    "    df.describe()\n",
    "    df['arena'] = arena\n",
    "    df['difficulty'] = difficulty\n",
    "    df['trial'] = trial\n",
    "    \n",
    "    df['move_base_current_goal__pose_position_x'] = 16.3375\n",
    "    df['move_base_current_goal__pose_position_y']= 0.5000\n",
    "    df['move_base_current_goal__pose_position_z']= 0.0000\n",
    "    \n",
    "    df['move_base_current_goal__pose_position_x'] = df['move_base_current_goal__pose_position_x'].apply(lambda x: np.float32(16.3375) if(x == 0) else None)\n",
    "        \n",
    "    df['odom_diff_x'] = df['husky_velocity_controller_odom__pose_pose_position_x'] - df['odometry_filtered__pose_pose_position_x']\n",
    "    df['odom_diff_y'] = df['husky_velocity_controller_odom__pose_pose_position_y'] - df['odometry_filtered__pose_pose_position_y']\n",
    "    df['odom_diff_z'] = df['husky_velocity_controller_odom__pose_pose_position_z'] - df['odometry_filtered__pose_pose_position_z']\n",
    "    df['odom_posErr'] = np.linalg.norm(df[['odom_diff_x','odom_diff_y','odom_diff_z']].values, axis=1)\n",
    "\n",
    "    df['magDist_diff_x'] = df['move_base_current_goal__pose_position_x'] - df['odometry_filtered__pose_pose_position_x']\n",
    "    df['magDist_diff_y'] = df['move_base_current_goal__pose_position_y'] - df['odometry_filtered__pose_pose_position_y']\n",
    "    df['magDist_diff_z'] = df['move_base_current_goal__pose_position_z'] - df['odometry_filtered__pose_pose_position_z']\n",
    "    df['magDist_diff_x'] = df['magDist_diff_x'].astype('float')\n",
    "    df['magDist_diff_y'] = df['magDist_diff_y'].astype('float')\n",
    "    df['magDist_diff_z'] = df['magDist_diff_z'].astype('float')\n",
    "    df['mag_distFromGoal'] = np.linalg.norm(df[['magDist_diff_x','magDist_diff_y','magDist_diff_z']].values, axis=1)\n",
    "    \n",
    "    df = df.reset_index()\n",
    "    df = df.drop(columns = ['index'])\n",
    "    samplingRate = 240\n",
    "#     df.describe()\n",
    "    df_sampled = pd.DataFrame(columns = ['imu_data__linear_acceleration_z','mag_distFromGoal','odom_posErr','psnr_laserScan__data','odometry_filtered__pose_pose_position_x','odometry_filtered__pose_pose_position_y','odometry_filtered__pose_pose_position_z','arena','difficulty','trial'])\n",
    "    for i in range(0,len(df),samplingRate):\n",
    "        df_sampled = df_sampled.append(df[['imu_data__linear_acceleration_z','mag_distFromGoal','odom_posErr','psnr_laserScan__data','odometry_filtered__pose_pose_position_x','odometry_filtered__pose_pose_position_y','odometry_filtered__pose_pose_position_z','arena','difficulty','trial']].iloc[i,:],ignore_index = True)\n",
    "#     df_sampled = df_sampled.drop(index=df_sampled.index[:5],axis=0)\n",
    "    \n",
    "#     df_sampled.describe()\n",
    "\n",
    "    df_sampled['mag_distFromGoal_roc'] = df_sampled['mag_distFromGoal'].diff(periods = 3).fillna(0)\n",
    "    df_sampled['imu_data__linear_acceleration_z'].iloc[0] = df_sampled['imu_data__linear_acceleration_z'].iloc[1]\n",
    "    # df_sampled['mag_distFromGoal_roc'] = df_sampled['mag_distFromGoal_roc'].fillna(0)\n",
    "    df_sampled['imu_linAcc_z_roc'] = df_sampled['imu_data__linear_acceleration_z'].diff(2).fillna(method='bfill')\n",
    "    df_sampled['odom_posErr_roc'] = df_sampled['odom_posErr'].diff().fillna(0)\n",
    "#     df_sampled['psnr_laserScan__roc'] = df_sampled['psnr_laserScan__data'].diff(3).fillna(0)\n",
    "#     df_sampled['psnr_laserScan__roc'].iloc[0] = df_sampled['psnr_laserScan__roc'].iloc[1]\n",
    "    # df_sampled.head()\n",
    "#     print('Came here')\n",
    "    df_sampled['magROC_event'] = 500\n",
    "    \n",
    "    corr_vector = np.concatenate((np.linspace(0,-2.5,5), np.linspace(-2.5,0,6)[1:]), axis=None)\n",
    "    for i in range(0,len(df_sampled['mag_distFromGoal_roc']) - len(corr_vector)):\n",
    "        sum = 0\n",
    "        for j in range(0,len(corr_vector)):\n",
    "            sum = sum + (df_sampled['mag_distFromGoal_roc'].iloc[i+j] * corr_vector[len(corr_vector)-1 -j])\n",
    "#         print('Im here bro')\n",
    "        df_sampled['magROC_event'].iloc[i] = sum\n",
    "\n",
    "#     corr_vector = np.linspace(-2.5,2.5,5)\n",
    "#     for i in range(5,len(df_sampled['psnr_laserScan__roc']) - len(corr_vector)):\n",
    "#         sum = 0\n",
    "#         for j in range(0,len(corr_vector)):\n",
    "#             sum = sum + (df_sampled['psnr_laserScan__roc'].iloc[i+j] * corr_vector[len(corr_vector)-1 -j])\n",
    "# #         print('Im here bro')\n",
    "#         df_sampled['psnr_event'].iloc[i] = sum    \n",
    "   \n",
    "    df_sampled['velocity_event'] = 0\n",
    "    df_sampled['velocity_event_count'] = 0\n",
    "    df_sampled['odom_mag'] = np.linalg.norm(df_sampled[['odometry_filtered__pose_pose_position_x','odometry_filtered__pose_pose_position_y','odometry_filtered__pose_pose_position_z']].values, axis=1)\n",
    "    df_sampled['velocity_fromOdom'] = df_sampled['odom_mag'].diff(periods = 3)  \n",
    "    df_sampled['velocity_event'] = df_sampled['velocity_fromOdom'].apply(lambda x: 1 if (x<0.01) else 0)\n",
    "    a = df_sampled['velocity_event']!= 0\n",
    "    df_sampled['velocity_event_count'] = a.cumsum()-a.cumsum().where(~a).ffill().fillna(0).astype(int)\n",
    "    \n",
    "\n",
    "#     i = 5\n",
    "#     df_sampled['psnr_event'] = 0\n",
    "#     while(i in range (5,len(df_sampled['psnr_laserScan__roc']) - 1)):\n",
    "#         if(df_sampled['psnr_laserScan__roc'].iloc[i]<0.1):\n",
    "#             count = 1\n",
    "#             while(abs(df_sampled['psnr_laserScan__roc'].iloc[i+1] - df_sampled['psnr_laserScan__roc'].iloc[i])<0.1):\n",
    "#                 df_sampled['psnr_event'].iloc[i] = count\n",
    "#                 count = count + 1\n",
    "#                 i = i+1\n",
    "#         i = i+1\n",
    " \n",
    "    df_sampled['odom_event'] = 0\n",
    "\n",
    "    i = 1\n",
    "    while(i in range(5,len(df_sampled['odom_posErr_roc']) - 1)):\n",
    "    #     print('loop entered')\n",
    "        if(((i+1)< len(df_sampled['odom_posErr_roc'])) and \n",
    "             (abs(df_sampled['odom_posErr_roc'].iloc[i]) < 0.001 and abs(df_sampled['odom_posErr_roc'].iloc[i+1]) < 0.001)\n",
    "            ):\n",
    "            count = 1\n",
    "    #         print(i)\n",
    "            while(((i+1)< len(df_sampled['odom_posErr_roc'])) and (abs(df_sampled['odom_posErr_roc'].iloc[i+1]) < 0.001)):\n",
    "                df_sampled['odom_event'].iloc[i] = count\n",
    "                count = count+1\n",
    "                i = i+1\n",
    "        i = i+1\n",
    "    df_sampled['rv_magROC_event'] = df_sampled['magROC_event'].apply(magROC_cdf)\n",
    "    df_sampled['rv_vel_event'] = df_sampled['velocity_event_count'].apply(vel_cdf)\n",
    "    df_sampled['rv_odom_event'] = df_sampled['odom_event'].apply(odomError_cdf)\n",
    "    df_sampled['rv_linAcc_Z_event'] = df_sampled['imu_linAcc_z_roc'].apply(failureProbability_linAcc)\n",
    "    df_sampled['rv_snr_event'] = df_sampled['psnr_laserScan__data'].apply(psnrError_cdf)\n",
    "#     df_sampled['p_f_total'] = df_sampled.apply(lambda x: probabilityOfFailure(np.array([x['rv_magROC_event'],x['rv_linAcc_Z_event'],x['rv_snr_event'],x['rv_vel_event']])),axis = 1)\n",
    "    df_sampled['p_f_total'] = df_sampled.apply(lambda x: probabilityOfFailure(np.array([x['rv_magROC_event'],x['rv_odom_event'],x['rv_linAcc_Z_event'],x['rv_snr_event'],x['rv_vel_event']])),axis = 1)\n",
    "    df_sampled['robot_health'] = (df_sampled['p_f_total']*np.log10(df_sampled['p_f_total'])).rolling(10).sum()\n",
    "    df_sampled = df_sampled.reset_index()\n",
    "    mean_health = df_sampled['robot_health'].mean()\n",
    "    return [mean_health,timeToComplete,arena,difficulty,trial]"
   ]
  },
  {
   "cell_type": "code",
   "execution_count": 4,
   "metadata": {},
   "outputs": [],
   "source": [
    "def dataframe_parser_realRobot(path_to_file, path_to_infoDict, arena, difficulty,trial):\n",
    "    \n",
    "    print('Parsing pickle file', path_to_file)\n",
    "    df = pd.read_pickle(path_to_file)\n",
    "    info_dict = pickle.load(open(path_to_infoDict, \"rb\"))\n",
    "    timeToComplete = info_dict['duration']\n",
    "\n",
    "    rv_columns = ['move_base_current_goal__pose_position_x',\n",
    "                  'move_base_current_goal__pose_position_y',\n",
    "                  'move_base_current_goal__pose_position_z',\n",
    "                  'husky_velocity_controller_odom__pose_pose_position_x',\n",
    "                  'husky_velocity_controller_odom__pose_pose_position_y',\n",
    "                  'husky_velocity_controller_odom__pose_pose_position_z',\n",
    "                  'odometry_filtered__pose_pose_position_x',\n",
    "                  'odometry_filtered__pose_pose_position_y',\n",
    "                  'odometry_filtered__pose_pose_position_z',\n",
    "#                   'imu_data__linear_acceleration_z',\n",
    "                  'psnr_laserScan__data']\n",
    "\n",
    "    df = df.fillna(method = 'ffill')\n",
    "    df = df.fillna(0)\n",
    "    df.describe()\n",
    "    df['arena'] = arena\n",
    "    df['difficulty'] = difficulty\n",
    "    df['trial'] = trial\n",
    "\n",
    "#     df['move_base_current_goal__pose_position_x'] = 16.3375\n",
    "#     df['move_base_current_goal__pose_position_y']= 0.5000\n",
    "#     df['move_base_current_goal__pose_position_z']= 0.0000\n",
    "    \n",
    "#     df['move_base_current_goal__pose_position_x'] = df['move_base_current_goal__pose_position_x'].apply(lambda x: np.float32(16.3375) if(x == 0) else None)\n",
    "        \n",
    "    df['odom_diff_x'] = df['husky_velocity_controller_odom__pose_pose_position_x'] - df['odometry_filtered__pose_pose_position_x']\n",
    "    df['odom_diff_y'] = df['husky_velocity_controller_odom__pose_pose_position_y'] - df['odometry_filtered__pose_pose_position_y']\n",
    "    df['odom_diff_z'] = df['husky_velocity_controller_odom__pose_pose_position_z'] - df['odometry_filtered__pose_pose_position_z']\n",
    "    df['odom_posErr'] = np.linalg.norm(df[['odom_diff_x','odom_diff_y','odom_diff_z']].values, axis=1)\n",
    "\n",
    "    df['magDist_diff_x'] = df['move_base_current_goal__pose_position_x'] - df['odometry_filtered__pose_pose_position_x']\n",
    "    df['magDist_diff_y'] = df['move_base_current_goal__pose_position_y'] - df['odometry_filtered__pose_pose_position_y']\n",
    "    df['magDist_diff_z'] = df['move_base_current_goal__pose_position_z'] - df['odometry_filtered__pose_pose_position_z']\n",
    "    df['magDist_diff_x'] = df['magDist_diff_x'].astype('float')\n",
    "    df['magDist_diff_y'] = df['magDist_diff_y'].astype('float')\n",
    "    df['magDist_diff_z'] = df['magDist_diff_z'].astype('float')\n",
    "    df['mag_distFromGoal'] = np.linalg.norm(df[['magDist_diff_x','magDist_diff_y','magDist_diff_z']].values, axis=1)\n",
    "    \n",
    "    df = df.reset_index()\n",
    "    df = df.drop(columns = ['index'])\n",
    "    samplingRate = 240\n",
    "#     df.describe()\n",
    "    df_sampled = pd.DataFrame(columns = ['mag_distFromGoal','odom_posErr','psnr_laserScan__data','odometry_filtered__pose_pose_position_x','odometry_filtered__pose_pose_position_y','odometry_filtered__pose_pose_position_z','arena','difficulty','trial'])\n",
    "    for i in range(0,len(df),samplingRate):\n",
    "        df_sampled = df_sampled.append(df[['mag_distFromGoal','odom_posErr','psnr_laserScan__data','odometry_filtered__pose_pose_position_x','odometry_filtered__pose_pose_position_y','odometry_filtered__pose_pose_position_z','arena','difficulty','trial']].iloc[i,:],ignore_index = True)\n",
    "#     df_sampled = df_sampled.drop(index=df_sampled.index[:5],axis=0)\n",
    "    \n",
    "#     df_sampled.describe()\n",
    "\n",
    "    df_sampled['mag_distFromGoal_roc'] = df_sampled['mag_distFromGoal'].diff(periods = 3).fillna(0)\n",
    "#     df_sampled['imu_data__linear_acceleration_z'].iloc[0] = df_sampled['imu_data__linear_acceleration_z'].iloc[1]\n",
    "    # df_sampled['mag_distFromGoal_roc'] = df_sampled['mag_distFromGoal_roc'].fillna(0)\n",
    "#     df_sampled['imu_linAcc_z_roc'] = df_sampled['imu_data__linear_acceleration_z'].diff(2).fillna(method='bfill')\n",
    "    df_sampled['odom_posErr_roc'] = df_sampled['odom_posErr'].diff().fillna(0)\n",
    "#     df_sampled['psnr_laserScan__roc'] = df_sampled['psnr_laserScan__data'].diff(3).fillna(0)\n",
    "#     df_sampled['psnr_laserScan__roc'].iloc[0] = df_sampled['psnr_laserScan__roc'].iloc[1]\n",
    "    # df_sampled.head()\n",
    "#     print('Came here')\n",
    "    df_sampled['magROC_event'] = 500\n",
    "    \n",
    "    corr_vector = np.concatenate((np.linspace(0,-2.5,5), np.linspace(-2.5,0,6)[1:]), axis=None)\n",
    "    for i in range(0,len(df_sampled['mag_distFromGoal_roc']) - len(corr_vector)):\n",
    "        sum = 0\n",
    "        for j in range(0,len(corr_vector)):\n",
    "            sum = sum + (df_sampled['mag_distFromGoal_roc'].iloc[i+j] * corr_vector[len(corr_vector)-1 -j])\n",
    "#         print('Im here bro')\n",
    "        df_sampled['magROC_event'].iloc[i] = sum\n",
    "\n",
    "#     corr_vector = np.linspace(-2.5,2.5,5)\n",
    "#     for i in range(5,len(df_sampled['psnr_laserScan__roc']) - len(corr_vector)):\n",
    "#         sum = 0\n",
    "#         for j in range(0,len(corr_vector)):\n",
    "#             sum = sum + (df_sampled['psnr_laserScan__roc'].iloc[i+j] * corr_vector[len(corr_vector)-1 -j])\n",
    "# #         print('Im here bro')\n",
    "#         df_sampled['psnr_event'].iloc[i] = sum    \n",
    "   \n",
    "    df_sampled['velocity_event'] = 0\n",
    "    df_sampled['velocity_event_count'] = 0\n",
    "    df_sampled['odom_mag'] = np.linalg.norm(df_sampled[['odometry_filtered__pose_pose_position_x','odometry_filtered__pose_pose_position_y','odometry_filtered__pose_pose_position_z']].values, axis=1)\n",
    "    df_sampled['velocity_fromOdom'] = df_sampled['odom_mag'].diff(periods = 3)  \n",
    "    df_sampled['velocity_event'] = df_sampled['velocity_fromOdom'].apply(lambda x: 1 if (x<0.01) else 0)\n",
    "    a = df_sampled['velocity_event']!= 0\n",
    "    df_sampled['velocity_event_count'] = a.cumsum()-a.cumsum().where(~a).ffill().fillna(0).astype(int)\n",
    "    \n",
    "\n",
    "#     i = 5\n",
    "#     df_sampled['psnr_event'] = 0\n",
    "#     while(i in range (5,len(df_sampled['psnr_laserScan__roc']) - 1)):\n",
    "#         if(df_sampled['psnr_laserScan__roc'].iloc[i]<0.1):\n",
    "#             count = 1\n",
    "#             while(abs(df_sampled['psnr_laserScan__roc'].iloc[i+1] - df_sampled['psnr_laserScan__roc'].iloc[i])<0.1):\n",
    "#                 df_sampled['psnr_event'].iloc[i] = count\n",
    "#                 count = count + 1\n",
    "#                 i = i+1\n",
    "#         i = i+1\n",
    " \n",
    "    df_sampled['odom_event'] = 0\n",
    "\n",
    "    i = 1\n",
    "    while(i in range(5,len(df_sampled['odom_posErr_roc']) - 1)):\n",
    "    #     print('loop entered')\n",
    "        if(((i+1)< len(df_sampled['odom_posErr_roc'])) and \n",
    "             (abs(df_sampled['odom_posErr_roc'].iloc[i]) < 0.001 and abs(df_sampled['odom_posErr_roc'].iloc[i+1]) < 0.001)\n",
    "            ):\n",
    "            count = 1\n",
    "    #         print(i)\n",
    "            while(((i+1)< len(df_sampled['odom_posErr_roc'])) and (abs(df_sampled['odom_posErr_roc'].iloc[i+1]) < 0.001)):\n",
    "                df_sampled['odom_event'].iloc[i] = count\n",
    "                count = count+1\n",
    "                i = i+1\n",
    "        i = i+1\n",
    "    df_sampled['rv_magROC_event'] = df_sampled['magROC_event'].apply(magROC_cdf)\n",
    "    df_sampled['rv_vel_event'] = df_sampled['velocity_event_count'].apply(vel_cdf)\n",
    "    df_sampled['rv_odom_event'] = df_sampled['odom_event'].apply(odomError_cdf)\n",
    "#     df_sampled['rv_linAcc_Z_event'] = df_sampled['imu_linAcc_z_roc'].apply(failureProbability_linAcc)\n",
    "    df_sampled['rv_snr_event'] = df_sampled['psnr_laserScan__data'].apply(psnrError_cdf)\n",
    "#     df_sampled['p_f_total'] = df_sampled.apply(lambda x: probabilityOfFailure(np.array([x['rv_magROC_event'],x['rv_linAcc_Z_event'],x['rv_snr_event'],x['rv_vel_event']])),axis = 1)\n",
    "    df_sampled['p_f_total'] = df_sampled.apply(lambda x: probabilityOfFailure(np.array([x['rv_magROC_event'],x['rv_odom_event'],x['rv_snr_event'],x['rv_vel_event']])),axis = 1)\n",
    "    df_sampled['robot_health'] = (df_sampled['p_f_total']*np.log10(df_sampled['p_f_total'])).rolling(10).sum()\n",
    "    df_sampled = df_sampled.reset_index()\n",
    "    mean_health = df_sampled['robot_health'].mean()\n",
    "    return [mean_health,timeToComplete,arena,difficulty,trial]"
   ]
  },
  {
   "cell_type": "code",
   "execution_count": 5,
   "metadata": {},
   "outputs": [
    {
     "name": "stdout",
     "output_type": "stream",
     "text": [
      "Parsing pickle file /Volumes/Aniketh/rosbags/RealRobotExp_Combined/real_obstacles_8.pickle\n"
     ]
    },
    {
     "name": "stderr",
     "output_type": "stream",
     "text": [
      "/Users/anikethramesh/anaconda3/envs/py36/lib/python3.6/site-packages/pandas/core/indexing.py:670: SettingWithCopyWarning: \n",
      "A value is trying to be set on a copy of a slice from a DataFrame\n",
      "\n",
      "See the caveats in the documentation: https://pandas.pydata.org/pandas-docs/stable/user_guide/indexing.html#returning-a-view-versus-a-copy\n",
      "  iloc._setitem_with_indexer(indexer, value)\n"
     ]
    },
    {
     "name": "stdout",
     "output_type": "stream",
     "text": [
      "Parsing pickle file /Volumes/Aniketh/rosbags/RealRobotExp_Combined/real_obstacles_9.pickle\n"
     ]
    },
    {
     "name": "stderr",
     "output_type": "stream",
     "text": [
      "/Users/anikethramesh/anaconda3/envs/py36/lib/python3.6/site-packages/pandas/core/indexing.py:670: SettingWithCopyWarning: \n",
      "A value is trying to be set on a copy of a slice from a DataFrame\n",
      "\n",
      "See the caveats in the documentation: https://pandas.pydata.org/pandas-docs/stable/user_guide/indexing.html#returning-a-view-versus-a-copy\n",
      "  iloc._setitem_with_indexer(indexer, value)\n"
     ]
    },
    {
     "name": "stdout",
     "output_type": "stream",
     "text": [
      "Parsing pickle file /Volumes/Aniketh/rosbags/RealRobotExp_Combined/real_obstacles_10.pickle\n"
     ]
    },
    {
     "name": "stderr",
     "output_type": "stream",
     "text": [
      "/Users/anikethramesh/anaconda3/envs/py36/lib/python3.6/site-packages/pandas/core/indexing.py:670: SettingWithCopyWarning: \n",
      "A value is trying to be set on a copy of a slice from a DataFrame\n",
      "\n",
      "See the caveats in the documentation: https://pandas.pydata.org/pandas-docs/stable/user_guide/indexing.html#returning-a-view-versus-a-copy\n",
      "  iloc._setitem_with_indexer(indexer, value)\n"
     ]
    },
    {
     "name": "stdout",
     "output_type": "stream",
     "text": [
      "Parsing pickle file /Volumes/Aniketh/rosbags/RealRobotExp_Combined/real_obstacles_11.pickle\n"
     ]
    },
    {
     "name": "stderr",
     "output_type": "stream",
     "text": [
      "/Users/anikethramesh/anaconda3/envs/py36/lib/python3.6/site-packages/pandas/core/indexing.py:670: SettingWithCopyWarning: \n",
      "A value is trying to be set on a copy of a slice from a DataFrame\n",
      "\n",
      "See the caveats in the documentation: https://pandas.pydata.org/pandas-docs/stable/user_guide/indexing.html#returning-a-view-versus-a-copy\n",
      "  iloc._setitem_with_indexer(indexer, value)\n"
     ]
    },
    {
     "name": "stdout",
     "output_type": "stream",
     "text": [
      "Parsing pickle file /Volumes/Aniketh/rosbags/RealRobotExp_Combined/real_obstacles_12.pickle\n"
     ]
    },
    {
     "name": "stderr",
     "output_type": "stream",
     "text": [
      "/Users/anikethramesh/anaconda3/envs/py36/lib/python3.6/site-packages/pandas/core/indexing.py:670: SettingWithCopyWarning: \n",
      "A value is trying to be set on a copy of a slice from a DataFrame\n",
      "\n",
      "See the caveats in the documentation: https://pandas.pydata.org/pandas-docs/stable/user_guide/indexing.html#returning-a-view-versus-a-copy\n",
      "  iloc._setitem_with_indexer(indexer, value)\n"
     ]
    },
    {
     "name": "stdout",
     "output_type": "stream",
     "text": [
      "Parsing pickle file /Volumes/Aniketh/rosbags/RealRobotExp_Combined/real_obstacles_13.pickle\n"
     ]
    },
    {
     "name": "stderr",
     "output_type": "stream",
     "text": [
      "/Users/anikethramesh/anaconda3/envs/py36/lib/python3.6/site-packages/pandas/core/indexing.py:670: SettingWithCopyWarning: \n",
      "A value is trying to be set on a copy of a slice from a DataFrame\n",
      "\n",
      "See the caveats in the documentation: https://pandas.pydata.org/pandas-docs/stable/user_guide/indexing.html#returning-a-view-versus-a-copy\n",
      "  iloc._setitem_with_indexer(indexer, value)\n"
     ]
    },
    {
     "name": "stdout",
     "output_type": "stream",
     "text": [
      "Parsing pickle file /Volumes/Aniketh/rosbags/RealRobotExp_Combined/real_obstacles_14.pickle\n"
     ]
    },
    {
     "name": "stderr",
     "output_type": "stream",
     "text": [
      "/Users/anikethramesh/anaconda3/envs/py36/lib/python3.6/site-packages/pandas/core/indexing.py:670: SettingWithCopyWarning: \n",
      "A value is trying to be set on a copy of a slice from a DataFrame\n",
      "\n",
      "See the caveats in the documentation: https://pandas.pydata.org/pandas-docs/stable/user_guide/indexing.html#returning-a-view-versus-a-copy\n",
      "  iloc._setitem_with_indexer(indexer, value)\n"
     ]
    },
    {
     "name": "stdout",
     "output_type": "stream",
     "text": [
      "Parsing pickle file /Volumes/Aniketh/rosbags/RealRobotExp_Combined/real_roughTerrain_8.pickle\n"
     ]
    },
    {
     "name": "stderr",
     "output_type": "stream",
     "text": [
      "/Users/anikethramesh/anaconda3/envs/py36/lib/python3.6/site-packages/pandas/core/indexing.py:670: SettingWithCopyWarning: \n",
      "A value is trying to be set on a copy of a slice from a DataFrame\n",
      "\n",
      "See the caveats in the documentation: https://pandas.pydata.org/pandas-docs/stable/user_guide/indexing.html#returning-a-view-versus-a-copy\n",
      "  iloc._setitem_with_indexer(indexer, value)\n"
     ]
    },
    {
     "name": "stdout",
     "output_type": "stream",
     "text": [
      "Parsing pickle file /Volumes/Aniketh/rosbags/RealRobotExp_Combined/real_roughTerrain_14.pickle\n"
     ]
    },
    {
     "name": "stderr",
     "output_type": "stream",
     "text": [
      "/Users/anikethramesh/anaconda3/envs/py36/lib/python3.6/site-packages/pandas/core/indexing.py:670: SettingWithCopyWarning: \n",
      "A value is trying to be set on a copy of a slice from a DataFrame\n",
      "\n",
      "See the caveats in the documentation: https://pandas.pydata.org/pandas-docs/stable/user_guide/indexing.html#returning-a-view-versus-a-copy\n",
      "  iloc._setitem_with_indexer(indexer, value)\n"
     ]
    },
    {
     "name": "stdout",
     "output_type": "stream",
     "text": [
      "Parsing pickle file /Volumes/Aniketh/rosbags/RealRobotExp_Combined/real_roughTerrain_13.pickle\n"
     ]
    },
    {
     "name": "stderr",
     "output_type": "stream",
     "text": [
      "/Users/anikethramesh/anaconda3/envs/py36/lib/python3.6/site-packages/pandas/core/indexing.py:670: SettingWithCopyWarning: \n",
      "A value is trying to be set on a copy of a slice from a DataFrame\n",
      "\n",
      "See the caveats in the documentation: https://pandas.pydata.org/pandas-docs/stable/user_guide/indexing.html#returning-a-view-versus-a-copy\n",
      "  iloc._setitem_with_indexer(indexer, value)\n"
     ]
    },
    {
     "name": "stdout",
     "output_type": "stream",
     "text": [
      "Parsing pickle file /Volumes/Aniketh/rosbags/RealRobotExp_Combined/real_roughTerrain_12.pickle\n"
     ]
    },
    {
     "name": "stderr",
     "output_type": "stream",
     "text": [
      "/Users/anikethramesh/anaconda3/envs/py36/lib/python3.6/site-packages/pandas/core/indexing.py:670: SettingWithCopyWarning: \n",
      "A value is trying to be set on a copy of a slice from a DataFrame\n",
      "\n",
      "See the caveats in the documentation: https://pandas.pydata.org/pandas-docs/stable/user_guide/indexing.html#returning-a-view-versus-a-copy\n",
      "  iloc._setitem_with_indexer(indexer, value)\n"
     ]
    },
    {
     "name": "stdout",
     "output_type": "stream",
     "text": [
      "Parsing pickle file /Volumes/Aniketh/rosbags/RealRobotExp_Combined/real_roughTerrain_11.pickle\n"
     ]
    },
    {
     "name": "stderr",
     "output_type": "stream",
     "text": [
      "/Users/anikethramesh/anaconda3/envs/py36/lib/python3.6/site-packages/pandas/core/indexing.py:670: SettingWithCopyWarning: \n",
      "A value is trying to be set on a copy of a slice from a DataFrame\n",
      "\n",
      "See the caveats in the documentation: https://pandas.pydata.org/pandas-docs/stable/user_guide/indexing.html#returning-a-view-versus-a-copy\n",
      "  iloc._setitem_with_indexer(indexer, value)\n"
     ]
    },
    {
     "name": "stdout",
     "output_type": "stream",
     "text": [
      "Parsing pickle file /Volumes/Aniketh/rosbags/RealRobotExp_Combined/real_roughTerrain_10.pickle\n"
     ]
    },
    {
     "name": "stderr",
     "output_type": "stream",
     "text": [
      "/Users/anikethramesh/anaconda3/envs/py36/lib/python3.6/site-packages/pandas/core/indexing.py:670: SettingWithCopyWarning: \n",
      "A value is trying to be set on a copy of a slice from a DataFrame\n",
      "\n",
      "See the caveats in the documentation: https://pandas.pydata.org/pandas-docs/stable/user_guide/indexing.html#returning-a-view-versus-a-copy\n",
      "  iloc._setitem_with_indexer(indexer, value)\n"
     ]
    },
    {
     "name": "stdout",
     "output_type": "stream",
     "text": [
      "Parsing pickle file /Volumes/Aniketh/rosbags/RealRobotExp_Combined/real_roughTerrain_9.pickle\n"
     ]
    },
    {
     "name": "stderr",
     "output_type": "stream",
     "text": [
      "/Users/anikethramesh/anaconda3/envs/py36/lib/python3.6/site-packages/pandas/core/indexing.py:670: SettingWithCopyWarning: \n",
      "A value is trying to be set on a copy of a slice from a DataFrame\n",
      "\n",
      "See the caveats in the documentation: https://pandas.pydata.org/pandas-docs/stable/user_guide/indexing.html#returning-a-view-versus-a-copy\n",
      "  iloc._setitem_with_indexer(indexer, value)\n"
     ]
    },
    {
     "name": "stdout",
     "output_type": "stream",
     "text": [
      "Parsing pickle file /Volumes/Aniketh/rosbags/RealRobotExp_Combined/real_roughTerrainLaserNoise_8.pickle\n"
     ]
    },
    {
     "name": "stderr",
     "output_type": "stream",
     "text": [
      "/Users/anikethramesh/anaconda3/envs/py36/lib/python3.6/site-packages/pandas/core/indexing.py:670: SettingWithCopyWarning: \n",
      "A value is trying to be set on a copy of a slice from a DataFrame\n",
      "\n",
      "See the caveats in the documentation: https://pandas.pydata.org/pandas-docs/stable/user_guide/indexing.html#returning-a-view-versus-a-copy\n",
      "  iloc._setitem_with_indexer(indexer, value)\n"
     ]
    },
    {
     "name": "stdout",
     "output_type": "stream",
     "text": [
      "Parsing pickle file /Volumes/Aniketh/rosbags/RealRobotExp_Combined/real_roughTerrainLaserNoise_9.pickle\n"
     ]
    },
    {
     "name": "stderr",
     "output_type": "stream",
     "text": [
      "/Users/anikethramesh/anaconda3/envs/py36/lib/python3.6/site-packages/pandas/core/indexing.py:670: SettingWithCopyWarning: \n",
      "A value is trying to be set on a copy of a slice from a DataFrame\n",
      "\n",
      "See the caveats in the documentation: https://pandas.pydata.org/pandas-docs/stable/user_guide/indexing.html#returning-a-view-versus-a-copy\n",
      "  iloc._setitem_with_indexer(indexer, value)\n"
     ]
    },
    {
     "name": "stdout",
     "output_type": "stream",
     "text": [
      "Parsing pickle file /Volumes/Aniketh/rosbags/RealRobotExp_Combined/real_roughTerrainLaserNoise_14.pickle\n"
     ]
    },
    {
     "name": "stderr",
     "output_type": "stream",
     "text": [
      "/Users/anikethramesh/anaconda3/envs/py36/lib/python3.6/site-packages/pandas/core/indexing.py:670: SettingWithCopyWarning: \n",
      "A value is trying to be set on a copy of a slice from a DataFrame\n",
      "\n",
      "See the caveats in the documentation: https://pandas.pydata.org/pandas-docs/stable/user_guide/indexing.html#returning-a-view-versus-a-copy\n",
      "  iloc._setitem_with_indexer(indexer, value)\n"
     ]
    },
    {
     "name": "stdout",
     "output_type": "stream",
     "text": [
      "Parsing pickle file /Volumes/Aniketh/rosbags/RealRobotExp_Combined/real_roughTerrainLaserNoise_13.pickle\n"
     ]
    },
    {
     "name": "stderr",
     "output_type": "stream",
     "text": [
      "/Users/anikethramesh/anaconda3/envs/py36/lib/python3.6/site-packages/pandas/core/indexing.py:670: SettingWithCopyWarning: \n",
      "A value is trying to be set on a copy of a slice from a DataFrame\n",
      "\n",
      "See the caveats in the documentation: https://pandas.pydata.org/pandas-docs/stable/user_guide/indexing.html#returning-a-view-versus-a-copy\n",
      "  iloc._setitem_with_indexer(indexer, value)\n"
     ]
    },
    {
     "name": "stdout",
     "output_type": "stream",
     "text": [
      "Parsing pickle file /Volumes/Aniketh/rosbags/RealRobotExp_Combined/real_roughTerrainLaserNoise_12.pickle\n"
     ]
    },
    {
     "name": "stderr",
     "output_type": "stream",
     "text": [
      "/Users/anikethramesh/anaconda3/envs/py36/lib/python3.6/site-packages/pandas/core/indexing.py:670: SettingWithCopyWarning: \n",
      "A value is trying to be set on a copy of a slice from a DataFrame\n",
      "\n",
      "See the caveats in the documentation: https://pandas.pydata.org/pandas-docs/stable/user_guide/indexing.html#returning-a-view-versus-a-copy\n",
      "  iloc._setitem_with_indexer(indexer, value)\n"
     ]
    },
    {
     "name": "stdout",
     "output_type": "stream",
     "text": [
      "Parsing pickle file /Volumes/Aniketh/rosbags/RealRobotExp_Combined/real_roughTerrainLaserNoise_11.pickle\n"
     ]
    },
    {
     "name": "stderr",
     "output_type": "stream",
     "text": [
      "/Users/anikethramesh/anaconda3/envs/py36/lib/python3.6/site-packages/pandas/core/indexing.py:670: SettingWithCopyWarning: \n",
      "A value is trying to be set on a copy of a slice from a DataFrame\n",
      "\n",
      "See the caveats in the documentation: https://pandas.pydata.org/pandas-docs/stable/user_guide/indexing.html#returning-a-view-versus-a-copy\n",
      "  iloc._setitem_with_indexer(indexer, value)\n"
     ]
    },
    {
     "name": "stdout",
     "output_type": "stream",
     "text": [
      "Parsing pickle file /Volumes/Aniketh/rosbags/RealRobotExp_Combined/real_roughTerrainLaserNoise_10.pickle\n"
     ]
    },
    {
     "name": "stderr",
     "output_type": "stream",
     "text": [
      "/Users/anikethramesh/anaconda3/envs/py36/lib/python3.6/site-packages/pandas/core/indexing.py:670: SettingWithCopyWarning: \n",
      "A value is trying to be set on a copy of a slice from a DataFrame\n",
      "\n",
      "See the caveats in the documentation: https://pandas.pydata.org/pandas-docs/stable/user_guide/indexing.html#returning-a-view-versus-a-copy\n",
      "  iloc._setitem_with_indexer(indexer, value)\n"
     ]
    },
    {
     "name": "stdout",
     "output_type": "stream",
     "text": [
      "Parsing pickle file /Volumes/Aniketh/rosbags/RealRobotExp_Combined/real_obstacles_1.pickle\n"
     ]
    },
    {
     "name": "stderr",
     "output_type": "stream",
     "text": [
      "/Users/anikethramesh/anaconda3/envs/py36/lib/python3.6/site-packages/pandas/core/indexing.py:670: SettingWithCopyWarning: \n",
      "A value is trying to be set on a copy of a slice from a DataFrame\n",
      "\n",
      "See the caveats in the documentation: https://pandas.pydata.org/pandas-docs/stable/user_guide/indexing.html#returning-a-view-versus-a-copy\n",
      "  iloc._setitem_with_indexer(indexer, value)\n"
     ]
    },
    {
     "name": "stdout",
     "output_type": "stream",
     "text": [
      "Parsing pickle file /Volumes/Aniketh/rosbags/RealRobotExp_Combined/real_obstacles_2.pickle\n"
     ]
    },
    {
     "name": "stderr",
     "output_type": "stream",
     "text": [
      "/Users/anikethramesh/anaconda3/envs/py36/lib/python3.6/site-packages/pandas/core/indexing.py:670: SettingWithCopyWarning: \n",
      "A value is trying to be set on a copy of a slice from a DataFrame\n",
      "\n",
      "See the caveats in the documentation: https://pandas.pydata.org/pandas-docs/stable/user_guide/indexing.html#returning-a-view-versus-a-copy\n",
      "  iloc._setitem_with_indexer(indexer, value)\n"
     ]
    },
    {
     "name": "stdout",
     "output_type": "stream",
     "text": [
      "Parsing pickle file /Volumes/Aniketh/rosbags/RealRobotExp_Combined/real_obstacles_3.pickle\n"
     ]
    },
    {
     "name": "stderr",
     "output_type": "stream",
     "text": [
      "/Users/anikethramesh/anaconda3/envs/py36/lib/python3.6/site-packages/pandas/core/indexing.py:670: SettingWithCopyWarning: \n",
      "A value is trying to be set on a copy of a slice from a DataFrame\n",
      "\n",
      "See the caveats in the documentation: https://pandas.pydata.org/pandas-docs/stable/user_guide/indexing.html#returning-a-view-versus-a-copy\n",
      "  iloc._setitem_with_indexer(indexer, value)\n"
     ]
    },
    {
     "name": "stdout",
     "output_type": "stream",
     "text": [
      "Parsing pickle file /Volumes/Aniketh/rosbags/RealRobotExp_Combined/real_obstacles_4.pickle\n"
     ]
    },
    {
     "name": "stderr",
     "output_type": "stream",
     "text": [
      "/Users/anikethramesh/anaconda3/envs/py36/lib/python3.6/site-packages/pandas/core/indexing.py:670: SettingWithCopyWarning: \n",
      "A value is trying to be set on a copy of a slice from a DataFrame\n",
      "\n",
      "See the caveats in the documentation: https://pandas.pydata.org/pandas-docs/stable/user_guide/indexing.html#returning-a-view-versus-a-copy\n",
      "  iloc._setitem_with_indexer(indexer, value)\n"
     ]
    },
    {
     "name": "stdout",
     "output_type": "stream",
     "text": [
      "Parsing pickle file /Volumes/Aniketh/rosbags/RealRobotExp_Combined/real_obstacles_5.pickle\n"
     ]
    },
    {
     "name": "stderr",
     "output_type": "stream",
     "text": [
      "/Users/anikethramesh/anaconda3/envs/py36/lib/python3.6/site-packages/pandas/core/indexing.py:670: SettingWithCopyWarning: \n",
      "A value is trying to be set on a copy of a slice from a DataFrame\n",
      "\n",
      "See the caveats in the documentation: https://pandas.pydata.org/pandas-docs/stable/user_guide/indexing.html#returning-a-view-versus-a-copy\n",
      "  iloc._setitem_with_indexer(indexer, value)\n"
     ]
    },
    {
     "name": "stdout",
     "output_type": "stream",
     "text": [
      "Parsing pickle file /Volumes/Aniketh/rosbags/RealRobotExp_Combined/real_obstacles_6.pickle\n"
     ]
    },
    {
     "name": "stderr",
     "output_type": "stream",
     "text": [
      "/Users/anikethramesh/anaconda3/envs/py36/lib/python3.6/site-packages/pandas/core/indexing.py:670: SettingWithCopyWarning: \n",
      "A value is trying to be set on a copy of a slice from a DataFrame\n",
      "\n",
      "See the caveats in the documentation: https://pandas.pydata.org/pandas-docs/stable/user_guide/indexing.html#returning-a-view-versus-a-copy\n",
      "  iloc._setitem_with_indexer(indexer, value)\n"
     ]
    },
    {
     "name": "stdout",
     "output_type": "stream",
     "text": [
      "Parsing pickle file /Volumes/Aniketh/rosbags/RealRobotExp_Combined/real_obstacles_7.pickle\n"
     ]
    },
    {
     "name": "stderr",
     "output_type": "stream",
     "text": [
      "/Users/anikethramesh/anaconda3/envs/py36/lib/python3.6/site-packages/pandas/core/indexing.py:670: SettingWithCopyWarning: \n",
      "A value is trying to be set on a copy of a slice from a DataFrame\n",
      "\n",
      "See the caveats in the documentation: https://pandas.pydata.org/pandas-docs/stable/user_guide/indexing.html#returning-a-view-versus-a-copy\n",
      "  iloc._setitem_with_indexer(indexer, value)\n"
     ]
    },
    {
     "name": "stdout",
     "output_type": "stream",
     "text": [
      "Parsing pickle file /Volumes/Aniketh/rosbags/RealRobotExp_Combined/real_roughTerrain_01.pickle\n"
     ]
    },
    {
     "name": "stderr",
     "output_type": "stream",
     "text": [
      "/Users/anikethramesh/anaconda3/envs/py36/lib/python3.6/site-packages/pandas/core/indexing.py:670: SettingWithCopyWarning: \n",
      "A value is trying to be set on a copy of a slice from a DataFrame\n",
      "\n",
      "See the caveats in the documentation: https://pandas.pydata.org/pandas-docs/stable/user_guide/indexing.html#returning-a-view-versus-a-copy\n",
      "  iloc._setitem_with_indexer(indexer, value)\n"
     ]
    },
    {
     "name": "stdout",
     "output_type": "stream",
     "text": [
      "Parsing pickle file /Volumes/Aniketh/rosbags/RealRobotExp_Combined/real_roughTerrain_02.pickle\n"
     ]
    },
    {
     "name": "stderr",
     "output_type": "stream",
     "text": [
      "/Users/anikethramesh/anaconda3/envs/py36/lib/python3.6/site-packages/pandas/core/indexing.py:670: SettingWithCopyWarning: \n",
      "A value is trying to be set on a copy of a slice from a DataFrame\n",
      "\n",
      "See the caveats in the documentation: https://pandas.pydata.org/pandas-docs/stable/user_guide/indexing.html#returning-a-view-versus-a-copy\n",
      "  iloc._setitem_with_indexer(indexer, value)\n"
     ]
    },
    {
     "name": "stdout",
     "output_type": "stream",
     "text": [
      "Parsing pickle file /Volumes/Aniketh/rosbags/RealRobotExp_Combined/real_roughTerrain_03.pickle\n"
     ]
    },
    {
     "name": "stderr",
     "output_type": "stream",
     "text": [
      "/Users/anikethramesh/anaconda3/envs/py36/lib/python3.6/site-packages/pandas/core/indexing.py:670: SettingWithCopyWarning: \n",
      "A value is trying to be set on a copy of a slice from a DataFrame\n",
      "\n",
      "See the caveats in the documentation: https://pandas.pydata.org/pandas-docs/stable/user_guide/indexing.html#returning-a-view-versus-a-copy\n",
      "  iloc._setitem_with_indexer(indexer, value)\n"
     ]
    },
    {
     "name": "stdout",
     "output_type": "stream",
     "text": [
      "Parsing pickle file /Volumes/Aniketh/rosbags/RealRobotExp_Combined/real_roughTerrain_04.pickle\n"
     ]
    },
    {
     "name": "stderr",
     "output_type": "stream",
     "text": [
      "/Users/anikethramesh/anaconda3/envs/py36/lib/python3.6/site-packages/pandas/core/indexing.py:670: SettingWithCopyWarning: \n",
      "A value is trying to be set on a copy of a slice from a DataFrame\n",
      "\n",
      "See the caveats in the documentation: https://pandas.pydata.org/pandas-docs/stable/user_guide/indexing.html#returning-a-view-versus-a-copy\n",
      "  iloc._setitem_with_indexer(indexer, value)\n"
     ]
    },
    {
     "name": "stdout",
     "output_type": "stream",
     "text": [
      "Parsing pickle file /Volumes/Aniketh/rosbags/RealRobotExp_Combined/real_roughTerrain_05.pickle\n"
     ]
    },
    {
     "name": "stderr",
     "output_type": "stream",
     "text": [
      "/Users/anikethramesh/anaconda3/envs/py36/lib/python3.6/site-packages/pandas/core/indexing.py:670: SettingWithCopyWarning: \n",
      "A value is trying to be set on a copy of a slice from a DataFrame\n",
      "\n",
      "See the caveats in the documentation: https://pandas.pydata.org/pandas-docs/stable/user_guide/indexing.html#returning-a-view-versus-a-copy\n",
      "  iloc._setitem_with_indexer(indexer, value)\n"
     ]
    },
    {
     "name": "stdout",
     "output_type": "stream",
     "text": [
      "Parsing pickle file /Volumes/Aniketh/rosbags/RealRobotExp_Combined/real_roughTerrain_06.pickle\n"
     ]
    },
    {
     "name": "stderr",
     "output_type": "stream",
     "text": [
      "/Users/anikethramesh/anaconda3/envs/py36/lib/python3.6/site-packages/pandas/core/indexing.py:670: SettingWithCopyWarning: \n",
      "A value is trying to be set on a copy of a slice from a DataFrame\n",
      "\n",
      "See the caveats in the documentation: https://pandas.pydata.org/pandas-docs/stable/user_guide/indexing.html#returning-a-view-versus-a-copy\n",
      "  iloc._setitem_with_indexer(indexer, value)\n"
     ]
    },
    {
     "name": "stdout",
     "output_type": "stream",
     "text": [
      "Parsing pickle file /Volumes/Aniketh/rosbags/RealRobotExp_Combined/real_roughTerrain_07.pickle\n"
     ]
    },
    {
     "name": "stderr",
     "output_type": "stream",
     "text": [
      "/Users/anikethramesh/anaconda3/envs/py36/lib/python3.6/site-packages/pandas/core/indexing.py:670: SettingWithCopyWarning: \n",
      "A value is trying to be set on a copy of a slice from a DataFrame\n",
      "\n",
      "See the caveats in the documentation: https://pandas.pydata.org/pandas-docs/stable/user_guide/indexing.html#returning-a-view-versus-a-copy\n",
      "  iloc._setitem_with_indexer(indexer, value)\n"
     ]
    },
    {
     "name": "stdout",
     "output_type": "stream",
     "text": [
      "Parsing pickle file /Volumes/Aniketh/rosbags/RealRobotExp_Combined/real_roughTerrainLaserNoise_01.pickle\n"
     ]
    },
    {
     "name": "stderr",
     "output_type": "stream",
     "text": [
      "/Users/anikethramesh/anaconda3/envs/py36/lib/python3.6/site-packages/pandas/core/indexing.py:670: SettingWithCopyWarning: \n",
      "A value is trying to be set on a copy of a slice from a DataFrame\n",
      "\n",
      "See the caveats in the documentation: https://pandas.pydata.org/pandas-docs/stable/user_guide/indexing.html#returning-a-view-versus-a-copy\n",
      "  iloc._setitem_with_indexer(indexer, value)\n"
     ]
    },
    {
     "name": "stdout",
     "output_type": "stream",
     "text": [
      "Parsing pickle file /Volumes/Aniketh/rosbags/RealRobotExp_Combined/real_roughTerrainLaserNoise_02.pickle\n"
     ]
    },
    {
     "name": "stderr",
     "output_type": "stream",
     "text": [
      "/Users/anikethramesh/anaconda3/envs/py36/lib/python3.6/site-packages/pandas/core/indexing.py:670: SettingWithCopyWarning: \n",
      "A value is trying to be set on a copy of a slice from a DataFrame\n",
      "\n",
      "See the caveats in the documentation: https://pandas.pydata.org/pandas-docs/stable/user_guide/indexing.html#returning-a-view-versus-a-copy\n",
      "  iloc._setitem_with_indexer(indexer, value)\n"
     ]
    },
    {
     "name": "stdout",
     "output_type": "stream",
     "text": [
      "Parsing pickle file /Volumes/Aniketh/rosbags/RealRobotExp_Combined/real_roughTerrainLaserNoise_03.pickle\n"
     ]
    },
    {
     "name": "stderr",
     "output_type": "stream",
     "text": [
      "/Users/anikethramesh/anaconda3/envs/py36/lib/python3.6/site-packages/pandas/core/indexing.py:670: SettingWithCopyWarning: \n",
      "A value is trying to be set on a copy of a slice from a DataFrame\n",
      "\n",
      "See the caveats in the documentation: https://pandas.pydata.org/pandas-docs/stable/user_guide/indexing.html#returning-a-view-versus-a-copy\n",
      "  iloc._setitem_with_indexer(indexer, value)\n"
     ]
    },
    {
     "name": "stdout",
     "output_type": "stream",
     "text": [
      "Parsing pickle file /Volumes/Aniketh/rosbags/RealRobotExp_Combined/real_roughTerrainLaserNoise_04.pickle\n"
     ]
    },
    {
     "name": "stderr",
     "output_type": "stream",
     "text": [
      "/Users/anikethramesh/anaconda3/envs/py36/lib/python3.6/site-packages/pandas/core/indexing.py:670: SettingWithCopyWarning: \n",
      "A value is trying to be set on a copy of a slice from a DataFrame\n",
      "\n",
      "See the caveats in the documentation: https://pandas.pydata.org/pandas-docs/stable/user_guide/indexing.html#returning-a-view-versus-a-copy\n",
      "  iloc._setitem_with_indexer(indexer, value)\n"
     ]
    },
    {
     "name": "stdout",
     "output_type": "stream",
     "text": [
      "Parsing pickle file /Volumes/Aniketh/rosbags/RealRobotExp_Combined/real_roughTerrainLaserNoise_05.pickle\n"
     ]
    },
    {
     "name": "stderr",
     "output_type": "stream",
     "text": [
      "/Users/anikethramesh/anaconda3/envs/py36/lib/python3.6/site-packages/pandas/core/indexing.py:670: SettingWithCopyWarning: \n",
      "A value is trying to be set on a copy of a slice from a DataFrame\n",
      "\n",
      "See the caveats in the documentation: https://pandas.pydata.org/pandas-docs/stable/user_guide/indexing.html#returning-a-view-versus-a-copy\n",
      "  iloc._setitem_with_indexer(indexer, value)\n"
     ]
    },
    {
     "name": "stdout",
     "output_type": "stream",
     "text": [
      "Parsing pickle file /Volumes/Aniketh/rosbags/RealRobotExp_Combined/real_roughTerrainLaserNoise_06.pickle\n"
     ]
    },
    {
     "name": "stderr",
     "output_type": "stream",
     "text": [
      "/Users/anikethramesh/anaconda3/envs/py36/lib/python3.6/site-packages/pandas/core/indexing.py:670: SettingWithCopyWarning: \n",
      "A value is trying to be set on a copy of a slice from a DataFrame\n",
      "\n",
      "See the caveats in the documentation: https://pandas.pydata.org/pandas-docs/stable/user_guide/indexing.html#returning-a-view-versus-a-copy\n",
      "  iloc._setitem_with_indexer(indexer, value)\n"
     ]
    },
    {
     "name": "stdout",
     "output_type": "stream",
     "text": [
      "Parsing pickle file /Volumes/Aniketh/rosbags/RealRobotExp_Combined/real_roughTerrainLaserNoise_07.pickle\n"
     ]
    },
    {
     "name": "stderr",
     "output_type": "stream",
     "text": [
      "/Users/anikethramesh/anaconda3/envs/py36/lib/python3.6/site-packages/pandas/core/indexing.py:670: SettingWithCopyWarning: \n",
      "A value is trying to be set on a copy of a slice from a DataFrame\n",
      "\n",
      "See the caveats in the documentation: https://pandas.pydata.org/pandas-docs/stable/user_guide/indexing.html#returning-a-view-versus-a-copy\n",
      "  iloc._setitem_with_indexer(indexer, value)\n"
     ]
    }
   ],
   "source": [
    "import os\n",
    "directory = r'/Volumes/Aniketh/rosbags/RealRobotExp_Combined'\n",
    "# n = len(os.listdir(directory))\n",
    "matrix = []\n",
    "# count = 0\n",
    "for filename in os.listdir(directory):\n",
    "    if filename.endswith('bag'):\n",
    "        df_filename = filename[:-3]+'pickle'\n",
    "        info_dict_filename = filename[:-4]+'__info_dict.pickle'\n",
    "        myList = dataframe_parser_realRobot(os.path.join(directory, df_filename),os.path.join(directory, info_dict_filename),filename.split('_')[0],filename.split('_')[1],filename.split('_')[2][:-4])\n",
    "        matrix.append(myList)\n",
    "#         matrix[count,1] = myArray[1]\n",
    "#         count = count + 1\n",
    "\n",
    "df = pd.DataFrame(matrix,columns = ['average_robotHealth','timeTaken','Condition','Difficulty','Trial'])\n"
   ]
  },
  {
   "cell_type": "code",
   "execution_count": 7,
   "metadata": {},
   "outputs": [],
   "source": [
    "df['Difficulty'] = df['Difficulty'].replace('obstacles','Baseline')\n",
    "df['Difficulty'] = df['Difficulty'].replace('roughTerrain','Rough Terrain')\n",
    "df['Difficulty'] = df['Difficulty'].replace('roughTerrainLaserNoise','Noise and Rough Terrain')"
   ]
  },
  {
   "cell_type": "code",
   "execution_count": 8,
   "metadata": {},
   "outputs": [
    {
     "data": {
      "text/html": [
       "<div>\n",
       "<style scoped>\n",
       "    .dataframe tbody tr th:only-of-type {\n",
       "        vertical-align: middle;\n",
       "    }\n",
       "\n",
       "    .dataframe tbody tr th {\n",
       "        vertical-align: top;\n",
       "    }\n",
       "\n",
       "    .dataframe thead th {\n",
       "        text-align: right;\n",
       "    }\n",
       "</style>\n",
       "<table border=\"1\" class=\"dataframe\">\n",
       "  <thead>\n",
       "    <tr style=\"text-align: right;\">\n",
       "      <th></th>\n",
       "      <th>average_robotHealth</th>\n",
       "      <th>timeTaken</th>\n",
       "      <th>Condition</th>\n",
       "      <th>Difficulty</th>\n",
       "      <th>Trial</th>\n",
       "      <th>Level</th>\n",
       "    </tr>\n",
       "  </thead>\n",
       "  <tbody>\n",
       "    <tr>\n",
       "      <th>0</th>\n",
       "      <td>-0.960648</td>\n",
       "      <td>53.780558</td>\n",
       "      <td>real</td>\n",
       "      <td>Baseline</td>\n",
       "      <td>8</td>\n",
       "      <td>NaN</td>\n",
       "    </tr>\n",
       "    <tr>\n",
       "      <th>1</th>\n",
       "      <td>-0.755479</td>\n",
       "      <td>46.443009</td>\n",
       "      <td>real</td>\n",
       "      <td>Baseline</td>\n",
       "      <td>9</td>\n",
       "      <td>NaN</td>\n",
       "    </tr>\n",
       "    <tr>\n",
       "      <th>2</th>\n",
       "      <td>-1.017322</td>\n",
       "      <td>48.263377</td>\n",
       "      <td>real</td>\n",
       "      <td>Baseline</td>\n",
       "      <td>10</td>\n",
       "      <td>NaN</td>\n",
       "    </tr>\n",
       "    <tr>\n",
       "      <th>3</th>\n",
       "      <td>-1.004726</td>\n",
       "      <td>55.283123</td>\n",
       "      <td>real</td>\n",
       "      <td>Baseline</td>\n",
       "      <td>11</td>\n",
       "      <td>NaN</td>\n",
       "    </tr>\n",
       "    <tr>\n",
       "      <th>4</th>\n",
       "      <td>-0.821814</td>\n",
       "      <td>48.287068</td>\n",
       "      <td>real</td>\n",
       "      <td>Baseline</td>\n",
       "      <td>12</td>\n",
       "      <td>NaN</td>\n",
       "    </tr>\n",
       "    <tr>\n",
       "      <th>5</th>\n",
       "      <td>-0.789254</td>\n",
       "      <td>42.748224</td>\n",
       "      <td>real</td>\n",
       "      <td>Baseline</td>\n",
       "      <td>13</td>\n",
       "      <td>NaN</td>\n",
       "    </tr>\n",
       "    <tr>\n",
       "      <th>6</th>\n",
       "      <td>-0.882956</td>\n",
       "      <td>46.686962</td>\n",
       "      <td>real</td>\n",
       "      <td>Baseline</td>\n",
       "      <td>14</td>\n",
       "      <td>NaN</td>\n",
       "    </tr>\n",
       "    <tr>\n",
       "      <th>7</th>\n",
       "      <td>-1.476356</td>\n",
       "      <td>100.008975</td>\n",
       "      <td>real</td>\n",
       "      <td>Rough Terrain</td>\n",
       "      <td>8</td>\n",
       "      <td>NaN</td>\n",
       "    </tr>\n",
       "    <tr>\n",
       "      <th>8</th>\n",
       "      <td>-1.305236</td>\n",
       "      <td>104.861324</td>\n",
       "      <td>real</td>\n",
       "      <td>Rough Terrain</td>\n",
       "      <td>14</td>\n",
       "      <td>NaN</td>\n",
       "    </tr>\n",
       "    <tr>\n",
       "      <th>9</th>\n",
       "      <td>-1.216439</td>\n",
       "      <td>55.832678</td>\n",
       "      <td>real</td>\n",
       "      <td>Rough Terrain</td>\n",
       "      <td>13</td>\n",
       "      <td>NaN</td>\n",
       "    </tr>\n",
       "    <tr>\n",
       "      <th>10</th>\n",
       "      <td>-1.081554</td>\n",
       "      <td>54.688930</td>\n",
       "      <td>real</td>\n",
       "      <td>Rough Terrain</td>\n",
       "      <td>12</td>\n",
       "      <td>NaN</td>\n",
       "    </tr>\n",
       "    <tr>\n",
       "      <th>11</th>\n",
       "      <td>-1.065818</td>\n",
       "      <td>58.820584</td>\n",
       "      <td>real</td>\n",
       "      <td>Rough Terrain</td>\n",
       "      <td>11</td>\n",
       "      <td>NaN</td>\n",
       "    </tr>\n",
       "    <tr>\n",
       "      <th>12</th>\n",
       "      <td>-1.259358</td>\n",
       "      <td>104.996879</td>\n",
       "      <td>real</td>\n",
       "      <td>Rough Terrain</td>\n",
       "      <td>10</td>\n",
       "      <td>NaN</td>\n",
       "    </tr>\n",
       "    <tr>\n",
       "      <th>13</th>\n",
       "      <td>-0.984413</td>\n",
       "      <td>52.590738</td>\n",
       "      <td>real</td>\n",
       "      <td>Rough Terrain</td>\n",
       "      <td>9</td>\n",
       "      <td>NaN</td>\n",
       "    </tr>\n",
       "    <tr>\n",
       "      <th>14</th>\n",
       "      <td>-1.007180</td>\n",
       "      <td>74.905375</td>\n",
       "      <td>real</td>\n",
       "      <td>Noise and Rough Terrain</td>\n",
       "      <td>8</td>\n",
       "      <td>NaN</td>\n",
       "    </tr>\n",
       "    <tr>\n",
       "      <th>15</th>\n",
       "      <td>-0.891088</td>\n",
       "      <td>92.446682</td>\n",
       "      <td>real</td>\n",
       "      <td>Noise and Rough Terrain</td>\n",
       "      <td>9</td>\n",
       "      <td>NaN</td>\n",
       "    </tr>\n",
       "    <tr>\n",
       "      <th>16</th>\n",
       "      <td>-1.232678</td>\n",
       "      <td>81.617253</td>\n",
       "      <td>real</td>\n",
       "      <td>Noise and Rough Terrain</td>\n",
       "      <td>14</td>\n",
       "      <td>NaN</td>\n",
       "    </tr>\n",
       "    <tr>\n",
       "      <th>17</th>\n",
       "      <td>-0.963835</td>\n",
       "      <td>56.558838</td>\n",
       "      <td>real</td>\n",
       "      <td>Noise and Rough Terrain</td>\n",
       "      <td>13</td>\n",
       "      <td>NaN</td>\n",
       "    </tr>\n",
       "    <tr>\n",
       "      <th>18</th>\n",
       "      <td>-1.153049</td>\n",
       "      <td>61.084594</td>\n",
       "      <td>real</td>\n",
       "      <td>Noise and Rough Terrain</td>\n",
       "      <td>12</td>\n",
       "      <td>NaN</td>\n",
       "    </tr>\n",
       "    <tr>\n",
       "      <th>19</th>\n",
       "      <td>-1.347014</td>\n",
       "      <td>62.262610</td>\n",
       "      <td>real</td>\n",
       "      <td>Noise and Rough Terrain</td>\n",
       "      <td>11</td>\n",
       "      <td>NaN</td>\n",
       "    </tr>\n",
       "    <tr>\n",
       "      <th>20</th>\n",
       "      <td>-1.191220</td>\n",
       "      <td>70.768572</td>\n",
       "      <td>real</td>\n",
       "      <td>Noise and Rough Terrain</td>\n",
       "      <td>10</td>\n",
       "      <td>NaN</td>\n",
       "    </tr>\n",
       "    <tr>\n",
       "      <th>21</th>\n",
       "      <td>-0.960648</td>\n",
       "      <td>53.780558</td>\n",
       "      <td>real</td>\n",
       "      <td>Baseline</td>\n",
       "      <td>1</td>\n",
       "      <td>NaN</td>\n",
       "    </tr>\n",
       "    <tr>\n",
       "      <th>22</th>\n",
       "      <td>-0.755479</td>\n",
       "      <td>46.443009</td>\n",
       "      <td>real</td>\n",
       "      <td>Baseline</td>\n",
       "      <td>2</td>\n",
       "      <td>NaN</td>\n",
       "    </tr>\n",
       "    <tr>\n",
       "      <th>23</th>\n",
       "      <td>-1.017322</td>\n",
       "      <td>48.263377</td>\n",
       "      <td>real</td>\n",
       "      <td>Baseline</td>\n",
       "      <td>3</td>\n",
       "      <td>NaN</td>\n",
       "    </tr>\n",
       "    <tr>\n",
       "      <th>24</th>\n",
       "      <td>-1.004726</td>\n",
       "      <td>55.283123</td>\n",
       "      <td>real</td>\n",
       "      <td>Baseline</td>\n",
       "      <td>4</td>\n",
       "      <td>NaN</td>\n",
       "    </tr>\n",
       "    <tr>\n",
       "      <th>25</th>\n",
       "      <td>-0.821814</td>\n",
       "      <td>48.287068</td>\n",
       "      <td>real</td>\n",
       "      <td>Baseline</td>\n",
       "      <td>5</td>\n",
       "      <td>NaN</td>\n",
       "    </tr>\n",
       "    <tr>\n",
       "      <th>26</th>\n",
       "      <td>-0.789254</td>\n",
       "      <td>42.748224</td>\n",
       "      <td>real</td>\n",
       "      <td>Baseline</td>\n",
       "      <td>6</td>\n",
       "      <td>NaN</td>\n",
       "    </tr>\n",
       "    <tr>\n",
       "      <th>27</th>\n",
       "      <td>-0.882956</td>\n",
       "      <td>46.686962</td>\n",
       "      <td>real</td>\n",
       "      <td>Baseline</td>\n",
       "      <td>7</td>\n",
       "      <td>NaN</td>\n",
       "    </tr>\n",
       "    <tr>\n",
       "      <th>28</th>\n",
       "      <td>-0.941494</td>\n",
       "      <td>58.010998</td>\n",
       "      <td>real</td>\n",
       "      <td>Rough Terrain</td>\n",
       "      <td>01</td>\n",
       "      <td>NaN</td>\n",
       "    </tr>\n",
       "    <tr>\n",
       "      <th>29</th>\n",
       "      <td>-0.983938</td>\n",
       "      <td>57.233429</td>\n",
       "      <td>real</td>\n",
       "      <td>Rough Terrain</td>\n",
       "      <td>02</td>\n",
       "      <td>NaN</td>\n",
       "    </tr>\n",
       "    <tr>\n",
       "      <th>30</th>\n",
       "      <td>-0.913237</td>\n",
       "      <td>53.164307</td>\n",
       "      <td>real</td>\n",
       "      <td>Rough Terrain</td>\n",
       "      <td>03</td>\n",
       "      <td>NaN</td>\n",
       "    </tr>\n",
       "    <tr>\n",
       "      <th>31</th>\n",
       "      <td>-1.137570</td>\n",
       "      <td>70.129969</td>\n",
       "      <td>real</td>\n",
       "      <td>Rough Terrain</td>\n",
       "      <td>04</td>\n",
       "      <td>NaN</td>\n",
       "    </tr>\n",
       "    <tr>\n",
       "      <th>32</th>\n",
       "      <td>-0.971300</td>\n",
       "      <td>60.968902</td>\n",
       "      <td>real</td>\n",
       "      <td>Rough Terrain</td>\n",
       "      <td>05</td>\n",
       "      <td>NaN</td>\n",
       "    </tr>\n",
       "    <tr>\n",
       "      <th>33</th>\n",
       "      <td>-0.947451</td>\n",
       "      <td>55.302336</td>\n",
       "      <td>real</td>\n",
       "      <td>Rough Terrain</td>\n",
       "      <td>06</td>\n",
       "      <td>NaN</td>\n",
       "    </tr>\n",
       "    <tr>\n",
       "      <th>34</th>\n",
       "      <td>-1.029938</td>\n",
       "      <td>50.145012</td>\n",
       "      <td>real</td>\n",
       "      <td>Rough Terrain</td>\n",
       "      <td>07</td>\n",
       "      <td>NaN</td>\n",
       "    </tr>\n",
       "    <tr>\n",
       "      <th>35</th>\n",
       "      <td>-1.066868</td>\n",
       "      <td>65.541155</td>\n",
       "      <td>real</td>\n",
       "      <td>Noise and Rough Terrain</td>\n",
       "      <td>01</td>\n",
       "      <td>NaN</td>\n",
       "    </tr>\n",
       "    <tr>\n",
       "      <th>36</th>\n",
       "      <td>-1.446370</td>\n",
       "      <td>100.859540</td>\n",
       "      <td>real</td>\n",
       "      <td>Noise and Rough Terrain</td>\n",
       "      <td>02</td>\n",
       "      <td>NaN</td>\n",
       "    </tr>\n",
       "    <tr>\n",
       "      <th>37</th>\n",
       "      <td>-1.206756</td>\n",
       "      <td>98.503147</td>\n",
       "      <td>real</td>\n",
       "      <td>Noise and Rough Terrain</td>\n",
       "      <td>03</td>\n",
       "      <td>NaN</td>\n",
       "    </tr>\n",
       "    <tr>\n",
       "      <th>38</th>\n",
       "      <td>-1.143630</td>\n",
       "      <td>86.006693</td>\n",
       "      <td>real</td>\n",
       "      <td>Noise and Rough Terrain</td>\n",
       "      <td>04</td>\n",
       "      <td>NaN</td>\n",
       "    </tr>\n",
       "    <tr>\n",
       "      <th>39</th>\n",
       "      <td>-1.003018</td>\n",
       "      <td>62.690715</td>\n",
       "      <td>real</td>\n",
       "      <td>Noise and Rough Terrain</td>\n",
       "      <td>05</td>\n",
       "      <td>NaN</td>\n",
       "    </tr>\n",
       "    <tr>\n",
       "      <th>40</th>\n",
       "      <td>-1.009653</td>\n",
       "      <td>61.069231</td>\n",
       "      <td>real</td>\n",
       "      <td>Noise and Rough Terrain</td>\n",
       "      <td>06</td>\n",
       "      <td>NaN</td>\n",
       "    </tr>\n",
       "    <tr>\n",
       "      <th>41</th>\n",
       "      <td>-1.428507</td>\n",
       "      <td>112.353158</td>\n",
       "      <td>real</td>\n",
       "      <td>Noise and Rough Terrain</td>\n",
       "      <td>07</td>\n",
       "      <td>NaN</td>\n",
       "    </tr>\n",
       "  </tbody>\n",
       "</table>\n",
       "</div>"
      ],
      "text/plain": [
       "    average_robotHealth   timeTaken Condition               Difficulty Trial  \\\n",
       "0             -0.960648   53.780558      real                 Baseline     8   \n",
       "1             -0.755479   46.443009      real                 Baseline     9   \n",
       "2             -1.017322   48.263377      real                 Baseline    10   \n",
       "3             -1.004726   55.283123      real                 Baseline    11   \n",
       "4             -0.821814   48.287068      real                 Baseline    12   \n",
       "5             -0.789254   42.748224      real                 Baseline    13   \n",
       "6             -0.882956   46.686962      real                 Baseline    14   \n",
       "7             -1.476356  100.008975      real            Rough Terrain     8   \n",
       "8             -1.305236  104.861324      real            Rough Terrain    14   \n",
       "9             -1.216439   55.832678      real            Rough Terrain    13   \n",
       "10            -1.081554   54.688930      real            Rough Terrain    12   \n",
       "11            -1.065818   58.820584      real            Rough Terrain    11   \n",
       "12            -1.259358  104.996879      real            Rough Terrain    10   \n",
       "13            -0.984413   52.590738      real            Rough Terrain     9   \n",
       "14            -1.007180   74.905375      real  Noise and Rough Terrain     8   \n",
       "15            -0.891088   92.446682      real  Noise and Rough Terrain     9   \n",
       "16            -1.232678   81.617253      real  Noise and Rough Terrain    14   \n",
       "17            -0.963835   56.558838      real  Noise and Rough Terrain    13   \n",
       "18            -1.153049   61.084594      real  Noise and Rough Terrain    12   \n",
       "19            -1.347014   62.262610      real  Noise and Rough Terrain    11   \n",
       "20            -1.191220   70.768572      real  Noise and Rough Terrain    10   \n",
       "21            -0.960648   53.780558      real                 Baseline     1   \n",
       "22            -0.755479   46.443009      real                 Baseline     2   \n",
       "23            -1.017322   48.263377      real                 Baseline     3   \n",
       "24            -1.004726   55.283123      real                 Baseline     4   \n",
       "25            -0.821814   48.287068      real                 Baseline     5   \n",
       "26            -0.789254   42.748224      real                 Baseline     6   \n",
       "27            -0.882956   46.686962      real                 Baseline     7   \n",
       "28            -0.941494   58.010998      real            Rough Terrain    01   \n",
       "29            -0.983938   57.233429      real            Rough Terrain    02   \n",
       "30            -0.913237   53.164307      real            Rough Terrain    03   \n",
       "31            -1.137570   70.129969      real            Rough Terrain    04   \n",
       "32            -0.971300   60.968902      real            Rough Terrain    05   \n",
       "33            -0.947451   55.302336      real            Rough Terrain    06   \n",
       "34            -1.029938   50.145012      real            Rough Terrain    07   \n",
       "35            -1.066868   65.541155      real  Noise and Rough Terrain    01   \n",
       "36            -1.446370  100.859540      real  Noise and Rough Terrain    02   \n",
       "37            -1.206756   98.503147      real  Noise and Rough Terrain    03   \n",
       "38            -1.143630   86.006693      real  Noise and Rough Terrain    04   \n",
       "39            -1.003018   62.690715      real  Noise and Rough Terrain    05   \n",
       "40            -1.009653   61.069231      real  Noise and Rough Terrain    06   \n",
       "41            -1.428507  112.353158      real  Noise and Rough Terrain    07   \n",
       "\n",
       "   Level  \n",
       "0    NaN  \n",
       "1    NaN  \n",
       "2    NaN  \n",
       "3    NaN  \n",
       "4    NaN  \n",
       "5    NaN  \n",
       "6    NaN  \n",
       "7    NaN  \n",
       "8    NaN  \n",
       "9    NaN  \n",
       "10   NaN  \n",
       "11   NaN  \n",
       "12   NaN  \n",
       "13   NaN  \n",
       "14   NaN  \n",
       "15   NaN  \n",
       "16   NaN  \n",
       "17   NaN  \n",
       "18   NaN  \n",
       "19   NaN  \n",
       "20   NaN  \n",
       "21   NaN  \n",
       "22   NaN  \n",
       "23   NaN  \n",
       "24   NaN  \n",
       "25   NaN  \n",
       "26   NaN  \n",
       "27   NaN  \n",
       "28   NaN  \n",
       "29   NaN  \n",
       "30   NaN  \n",
       "31   NaN  \n",
       "32   NaN  \n",
       "33   NaN  \n",
       "34   NaN  \n",
       "35   NaN  \n",
       "36   NaN  \n",
       "37   NaN  \n",
       "38   NaN  \n",
       "39   NaN  \n",
       "40   NaN  \n",
       "41   NaN  "
      ]
     },
     "execution_count": 8,
     "metadata": {},
     "output_type": "execute_result"
    }
   ],
   "source": [
    "df"
   ]
  },
  {
   "cell_type": "code",
   "execution_count": 9,
   "metadata": {},
   "outputs": [],
   "source": [
    "df.loc[(df.Difficulty == 'Baseline'), 'Level'] = 'Level 1'\n",
    "df.loc[(df.Difficulty == 'Rough Terrain'), 'Level'] = 'Level 2'\n",
    "df.loc[(df.Difficulty == 'Noise and Rough Terrain'), 'Level'] = 'Level 3'"
   ]
  },
  {
   "cell_type": "code",
   "execution_count": 10,
   "metadata": {},
   "outputs": [
    {
     "data": {
      "text/html": [
       "<div>\n",
       "<style scoped>\n",
       "    .dataframe tbody tr th:only-of-type {\n",
       "        vertical-align: middle;\n",
       "    }\n",
       "\n",
       "    .dataframe tbody tr th {\n",
       "        vertical-align: top;\n",
       "    }\n",
       "\n",
       "    .dataframe thead th {\n",
       "        text-align: right;\n",
       "    }\n",
       "</style>\n",
       "<table border=\"1\" class=\"dataframe\">\n",
       "  <thead>\n",
       "    <tr style=\"text-align: right;\">\n",
       "      <th></th>\n",
       "      <th>average_robotHealth</th>\n",
       "      <th>timeTaken</th>\n",
       "      <th>Condition</th>\n",
       "      <th>Difficulty</th>\n",
       "      <th>Trial</th>\n",
       "      <th>Level</th>\n",
       "    </tr>\n",
       "  </thead>\n",
       "  <tbody>\n",
       "    <tr>\n",
       "      <th>0</th>\n",
       "      <td>-0.960648</td>\n",
       "      <td>53.780558</td>\n",
       "      <td>Baseline</td>\n",
       "      <td>Baseline</td>\n",
       "      <td>8</td>\n",
       "      <td>Level 1</td>\n",
       "    </tr>\n",
       "    <tr>\n",
       "      <th>1</th>\n",
       "      <td>-0.755479</td>\n",
       "      <td>46.443009</td>\n",
       "      <td>Baseline</td>\n",
       "      <td>Baseline</td>\n",
       "      <td>9</td>\n",
       "      <td>Level 1</td>\n",
       "    </tr>\n",
       "    <tr>\n",
       "      <th>2</th>\n",
       "      <td>-1.017322</td>\n",
       "      <td>48.263377</td>\n",
       "      <td>Baseline</td>\n",
       "      <td>Baseline</td>\n",
       "      <td>10</td>\n",
       "      <td>Level 1</td>\n",
       "    </tr>\n",
       "    <tr>\n",
       "      <th>3</th>\n",
       "      <td>-1.004726</td>\n",
       "      <td>55.283123</td>\n",
       "      <td>Baseline</td>\n",
       "      <td>Baseline</td>\n",
       "      <td>11</td>\n",
       "      <td>Level 1</td>\n",
       "    </tr>\n",
       "    <tr>\n",
       "      <th>4</th>\n",
       "      <td>-0.821814</td>\n",
       "      <td>48.287068</td>\n",
       "      <td>Baseline</td>\n",
       "      <td>Baseline</td>\n",
       "      <td>12</td>\n",
       "      <td>Level 1</td>\n",
       "    </tr>\n",
       "    <tr>\n",
       "      <th>5</th>\n",
       "      <td>-0.789254</td>\n",
       "      <td>42.748224</td>\n",
       "      <td>Baseline</td>\n",
       "      <td>Baseline</td>\n",
       "      <td>13</td>\n",
       "      <td>Level 1</td>\n",
       "    </tr>\n",
       "    <tr>\n",
       "      <th>6</th>\n",
       "      <td>-0.882956</td>\n",
       "      <td>46.686962</td>\n",
       "      <td>Baseline</td>\n",
       "      <td>Baseline</td>\n",
       "      <td>14</td>\n",
       "      <td>Level 1</td>\n",
       "    </tr>\n",
       "    <tr>\n",
       "      <th>7</th>\n",
       "      <td>-1.476356</td>\n",
       "      <td>100.008975</td>\n",
       "      <td>Rough Terrain</td>\n",
       "      <td>Rough Terrain</td>\n",
       "      <td>8</td>\n",
       "      <td>Level 2</td>\n",
       "    </tr>\n",
       "    <tr>\n",
       "      <th>8</th>\n",
       "      <td>-1.305236</td>\n",
       "      <td>104.861324</td>\n",
       "      <td>Rough Terrain</td>\n",
       "      <td>Rough Terrain</td>\n",
       "      <td>14</td>\n",
       "      <td>Level 2</td>\n",
       "    </tr>\n",
       "    <tr>\n",
       "      <th>9</th>\n",
       "      <td>-1.216439</td>\n",
       "      <td>55.832678</td>\n",
       "      <td>Rough Terrain</td>\n",
       "      <td>Rough Terrain</td>\n",
       "      <td>13</td>\n",
       "      <td>Level 2</td>\n",
       "    </tr>\n",
       "    <tr>\n",
       "      <th>10</th>\n",
       "      <td>-1.081554</td>\n",
       "      <td>54.688930</td>\n",
       "      <td>Rough Terrain</td>\n",
       "      <td>Rough Terrain</td>\n",
       "      <td>12</td>\n",
       "      <td>Level 2</td>\n",
       "    </tr>\n",
       "    <tr>\n",
       "      <th>11</th>\n",
       "      <td>-1.065818</td>\n",
       "      <td>58.820584</td>\n",
       "      <td>Rough Terrain</td>\n",
       "      <td>Rough Terrain</td>\n",
       "      <td>11</td>\n",
       "      <td>Level 2</td>\n",
       "    </tr>\n",
       "    <tr>\n",
       "      <th>12</th>\n",
       "      <td>-1.259358</td>\n",
       "      <td>104.996879</td>\n",
       "      <td>Rough Terrain</td>\n",
       "      <td>Rough Terrain</td>\n",
       "      <td>10</td>\n",
       "      <td>Level 2</td>\n",
       "    </tr>\n",
       "    <tr>\n",
       "      <th>13</th>\n",
       "      <td>-0.984413</td>\n",
       "      <td>52.590738</td>\n",
       "      <td>Rough Terrain</td>\n",
       "      <td>Rough Terrain</td>\n",
       "      <td>9</td>\n",
       "      <td>Level 2</td>\n",
       "    </tr>\n",
       "    <tr>\n",
       "      <th>14</th>\n",
       "      <td>-1.007180</td>\n",
       "      <td>74.905375</td>\n",
       "      <td>Noise and Rough Terrain</td>\n",
       "      <td>Noise and Rough Terrain</td>\n",
       "      <td>8</td>\n",
       "      <td>Level 3</td>\n",
       "    </tr>\n",
       "    <tr>\n",
       "      <th>15</th>\n",
       "      <td>-0.891088</td>\n",
       "      <td>92.446682</td>\n",
       "      <td>Noise and Rough Terrain</td>\n",
       "      <td>Noise and Rough Terrain</td>\n",
       "      <td>9</td>\n",
       "      <td>Level 3</td>\n",
       "    </tr>\n",
       "    <tr>\n",
       "      <th>16</th>\n",
       "      <td>-1.232678</td>\n",
       "      <td>81.617253</td>\n",
       "      <td>Noise and Rough Terrain</td>\n",
       "      <td>Noise and Rough Terrain</td>\n",
       "      <td>14</td>\n",
       "      <td>Level 3</td>\n",
       "    </tr>\n",
       "    <tr>\n",
       "      <th>17</th>\n",
       "      <td>-0.963835</td>\n",
       "      <td>56.558838</td>\n",
       "      <td>Noise and Rough Terrain</td>\n",
       "      <td>Noise and Rough Terrain</td>\n",
       "      <td>13</td>\n",
       "      <td>Level 3</td>\n",
       "    </tr>\n",
       "    <tr>\n",
       "      <th>18</th>\n",
       "      <td>-1.153049</td>\n",
       "      <td>61.084594</td>\n",
       "      <td>Noise and Rough Terrain</td>\n",
       "      <td>Noise and Rough Terrain</td>\n",
       "      <td>12</td>\n",
       "      <td>Level 3</td>\n",
       "    </tr>\n",
       "    <tr>\n",
       "      <th>19</th>\n",
       "      <td>-1.347014</td>\n",
       "      <td>62.262610</td>\n",
       "      <td>Noise and Rough Terrain</td>\n",
       "      <td>Noise and Rough Terrain</td>\n",
       "      <td>11</td>\n",
       "      <td>Level 3</td>\n",
       "    </tr>\n",
       "    <tr>\n",
       "      <th>20</th>\n",
       "      <td>-1.191220</td>\n",
       "      <td>70.768572</td>\n",
       "      <td>Noise and Rough Terrain</td>\n",
       "      <td>Noise and Rough Terrain</td>\n",
       "      <td>10</td>\n",
       "      <td>Level 3</td>\n",
       "    </tr>\n",
       "    <tr>\n",
       "      <th>21</th>\n",
       "      <td>-0.960648</td>\n",
       "      <td>53.780558</td>\n",
       "      <td>Baseline</td>\n",
       "      <td>Baseline</td>\n",
       "      <td>1</td>\n",
       "      <td>Level 1</td>\n",
       "    </tr>\n",
       "    <tr>\n",
       "      <th>22</th>\n",
       "      <td>-0.755479</td>\n",
       "      <td>46.443009</td>\n",
       "      <td>Baseline</td>\n",
       "      <td>Baseline</td>\n",
       "      <td>2</td>\n",
       "      <td>Level 1</td>\n",
       "    </tr>\n",
       "    <tr>\n",
       "      <th>23</th>\n",
       "      <td>-1.017322</td>\n",
       "      <td>48.263377</td>\n",
       "      <td>Baseline</td>\n",
       "      <td>Baseline</td>\n",
       "      <td>3</td>\n",
       "      <td>Level 1</td>\n",
       "    </tr>\n",
       "    <tr>\n",
       "      <th>24</th>\n",
       "      <td>-1.004726</td>\n",
       "      <td>55.283123</td>\n",
       "      <td>Baseline</td>\n",
       "      <td>Baseline</td>\n",
       "      <td>4</td>\n",
       "      <td>Level 1</td>\n",
       "    </tr>\n",
       "    <tr>\n",
       "      <th>25</th>\n",
       "      <td>-0.821814</td>\n",
       "      <td>48.287068</td>\n",
       "      <td>Baseline</td>\n",
       "      <td>Baseline</td>\n",
       "      <td>5</td>\n",
       "      <td>Level 1</td>\n",
       "    </tr>\n",
       "    <tr>\n",
       "      <th>26</th>\n",
       "      <td>-0.789254</td>\n",
       "      <td>42.748224</td>\n",
       "      <td>Baseline</td>\n",
       "      <td>Baseline</td>\n",
       "      <td>6</td>\n",
       "      <td>Level 1</td>\n",
       "    </tr>\n",
       "    <tr>\n",
       "      <th>27</th>\n",
       "      <td>-0.882956</td>\n",
       "      <td>46.686962</td>\n",
       "      <td>Baseline</td>\n",
       "      <td>Baseline</td>\n",
       "      <td>7</td>\n",
       "      <td>Level 1</td>\n",
       "    </tr>\n",
       "    <tr>\n",
       "      <th>28</th>\n",
       "      <td>-0.941494</td>\n",
       "      <td>58.010998</td>\n",
       "      <td>Rough Terrain</td>\n",
       "      <td>Rough Terrain</td>\n",
       "      <td>01</td>\n",
       "      <td>Level 2</td>\n",
       "    </tr>\n",
       "    <tr>\n",
       "      <th>29</th>\n",
       "      <td>-0.983938</td>\n",
       "      <td>57.233429</td>\n",
       "      <td>Rough Terrain</td>\n",
       "      <td>Rough Terrain</td>\n",
       "      <td>02</td>\n",
       "      <td>Level 2</td>\n",
       "    </tr>\n",
       "    <tr>\n",
       "      <th>30</th>\n",
       "      <td>-0.913237</td>\n",
       "      <td>53.164307</td>\n",
       "      <td>Rough Terrain</td>\n",
       "      <td>Rough Terrain</td>\n",
       "      <td>03</td>\n",
       "      <td>Level 2</td>\n",
       "    </tr>\n",
       "    <tr>\n",
       "      <th>31</th>\n",
       "      <td>-1.137570</td>\n",
       "      <td>70.129969</td>\n",
       "      <td>Rough Terrain</td>\n",
       "      <td>Rough Terrain</td>\n",
       "      <td>04</td>\n",
       "      <td>Level 2</td>\n",
       "    </tr>\n",
       "    <tr>\n",
       "      <th>32</th>\n",
       "      <td>-0.971300</td>\n",
       "      <td>60.968902</td>\n",
       "      <td>Rough Terrain</td>\n",
       "      <td>Rough Terrain</td>\n",
       "      <td>05</td>\n",
       "      <td>Level 2</td>\n",
       "    </tr>\n",
       "    <tr>\n",
       "      <th>33</th>\n",
       "      <td>-0.947451</td>\n",
       "      <td>55.302336</td>\n",
       "      <td>Rough Terrain</td>\n",
       "      <td>Rough Terrain</td>\n",
       "      <td>06</td>\n",
       "      <td>Level 2</td>\n",
       "    </tr>\n",
       "    <tr>\n",
       "      <th>34</th>\n",
       "      <td>-1.029938</td>\n",
       "      <td>50.145012</td>\n",
       "      <td>Rough Terrain</td>\n",
       "      <td>Rough Terrain</td>\n",
       "      <td>07</td>\n",
       "      <td>Level 2</td>\n",
       "    </tr>\n",
       "    <tr>\n",
       "      <th>35</th>\n",
       "      <td>-1.066868</td>\n",
       "      <td>65.541155</td>\n",
       "      <td>Noise and Rough Terrain</td>\n",
       "      <td>Noise and Rough Terrain</td>\n",
       "      <td>01</td>\n",
       "      <td>Level 3</td>\n",
       "    </tr>\n",
       "    <tr>\n",
       "      <th>36</th>\n",
       "      <td>-1.446370</td>\n",
       "      <td>100.859540</td>\n",
       "      <td>Noise and Rough Terrain</td>\n",
       "      <td>Noise and Rough Terrain</td>\n",
       "      <td>02</td>\n",
       "      <td>Level 3</td>\n",
       "    </tr>\n",
       "    <tr>\n",
       "      <th>37</th>\n",
       "      <td>-1.206756</td>\n",
       "      <td>98.503147</td>\n",
       "      <td>Noise and Rough Terrain</td>\n",
       "      <td>Noise and Rough Terrain</td>\n",
       "      <td>03</td>\n",
       "      <td>Level 3</td>\n",
       "    </tr>\n",
       "    <tr>\n",
       "      <th>38</th>\n",
       "      <td>-1.143630</td>\n",
       "      <td>86.006693</td>\n",
       "      <td>Noise and Rough Terrain</td>\n",
       "      <td>Noise and Rough Terrain</td>\n",
       "      <td>04</td>\n",
       "      <td>Level 3</td>\n",
       "    </tr>\n",
       "    <tr>\n",
       "      <th>39</th>\n",
       "      <td>-1.003018</td>\n",
       "      <td>62.690715</td>\n",
       "      <td>Noise and Rough Terrain</td>\n",
       "      <td>Noise and Rough Terrain</td>\n",
       "      <td>05</td>\n",
       "      <td>Level 3</td>\n",
       "    </tr>\n",
       "    <tr>\n",
       "      <th>40</th>\n",
       "      <td>-1.009653</td>\n",
       "      <td>61.069231</td>\n",
       "      <td>Noise and Rough Terrain</td>\n",
       "      <td>Noise and Rough Terrain</td>\n",
       "      <td>06</td>\n",
       "      <td>Level 3</td>\n",
       "    </tr>\n",
       "    <tr>\n",
       "      <th>41</th>\n",
       "      <td>-1.428507</td>\n",
       "      <td>112.353158</td>\n",
       "      <td>Noise and Rough Terrain</td>\n",
       "      <td>Noise and Rough Terrain</td>\n",
       "      <td>07</td>\n",
       "      <td>Level 3</td>\n",
       "    </tr>\n",
       "  </tbody>\n",
       "</table>\n",
       "</div>"
      ],
      "text/plain": [
       "    average_robotHealth   timeTaken                Condition  \\\n",
       "0             -0.960648   53.780558                 Baseline   \n",
       "1             -0.755479   46.443009                 Baseline   \n",
       "2             -1.017322   48.263377                 Baseline   \n",
       "3             -1.004726   55.283123                 Baseline   \n",
       "4             -0.821814   48.287068                 Baseline   \n",
       "5             -0.789254   42.748224                 Baseline   \n",
       "6             -0.882956   46.686962                 Baseline   \n",
       "7             -1.476356  100.008975            Rough Terrain   \n",
       "8             -1.305236  104.861324            Rough Terrain   \n",
       "9             -1.216439   55.832678            Rough Terrain   \n",
       "10            -1.081554   54.688930            Rough Terrain   \n",
       "11            -1.065818   58.820584            Rough Terrain   \n",
       "12            -1.259358  104.996879            Rough Terrain   \n",
       "13            -0.984413   52.590738            Rough Terrain   \n",
       "14            -1.007180   74.905375  Noise and Rough Terrain   \n",
       "15            -0.891088   92.446682  Noise and Rough Terrain   \n",
       "16            -1.232678   81.617253  Noise and Rough Terrain   \n",
       "17            -0.963835   56.558838  Noise and Rough Terrain   \n",
       "18            -1.153049   61.084594  Noise and Rough Terrain   \n",
       "19            -1.347014   62.262610  Noise and Rough Terrain   \n",
       "20            -1.191220   70.768572  Noise and Rough Terrain   \n",
       "21            -0.960648   53.780558                 Baseline   \n",
       "22            -0.755479   46.443009                 Baseline   \n",
       "23            -1.017322   48.263377                 Baseline   \n",
       "24            -1.004726   55.283123                 Baseline   \n",
       "25            -0.821814   48.287068                 Baseline   \n",
       "26            -0.789254   42.748224                 Baseline   \n",
       "27            -0.882956   46.686962                 Baseline   \n",
       "28            -0.941494   58.010998            Rough Terrain   \n",
       "29            -0.983938   57.233429            Rough Terrain   \n",
       "30            -0.913237   53.164307            Rough Terrain   \n",
       "31            -1.137570   70.129969            Rough Terrain   \n",
       "32            -0.971300   60.968902            Rough Terrain   \n",
       "33            -0.947451   55.302336            Rough Terrain   \n",
       "34            -1.029938   50.145012            Rough Terrain   \n",
       "35            -1.066868   65.541155  Noise and Rough Terrain   \n",
       "36            -1.446370  100.859540  Noise and Rough Terrain   \n",
       "37            -1.206756   98.503147  Noise and Rough Terrain   \n",
       "38            -1.143630   86.006693  Noise and Rough Terrain   \n",
       "39            -1.003018   62.690715  Noise and Rough Terrain   \n",
       "40            -1.009653   61.069231  Noise and Rough Terrain   \n",
       "41            -1.428507  112.353158  Noise and Rough Terrain   \n",
       "\n",
       "                 Difficulty Trial    Level  \n",
       "0                  Baseline     8  Level 1  \n",
       "1                  Baseline     9  Level 1  \n",
       "2                  Baseline    10  Level 1  \n",
       "3                  Baseline    11  Level 1  \n",
       "4                  Baseline    12  Level 1  \n",
       "5                  Baseline    13  Level 1  \n",
       "6                  Baseline    14  Level 1  \n",
       "7             Rough Terrain     8  Level 2  \n",
       "8             Rough Terrain    14  Level 2  \n",
       "9             Rough Terrain    13  Level 2  \n",
       "10            Rough Terrain    12  Level 2  \n",
       "11            Rough Terrain    11  Level 2  \n",
       "12            Rough Terrain    10  Level 2  \n",
       "13            Rough Terrain     9  Level 2  \n",
       "14  Noise and Rough Terrain     8  Level 3  \n",
       "15  Noise and Rough Terrain     9  Level 3  \n",
       "16  Noise and Rough Terrain    14  Level 3  \n",
       "17  Noise and Rough Terrain    13  Level 3  \n",
       "18  Noise and Rough Terrain    12  Level 3  \n",
       "19  Noise and Rough Terrain    11  Level 3  \n",
       "20  Noise and Rough Terrain    10  Level 3  \n",
       "21                 Baseline     1  Level 1  \n",
       "22                 Baseline     2  Level 1  \n",
       "23                 Baseline     3  Level 1  \n",
       "24                 Baseline     4  Level 1  \n",
       "25                 Baseline     5  Level 1  \n",
       "26                 Baseline     6  Level 1  \n",
       "27                 Baseline     7  Level 1  \n",
       "28            Rough Terrain    01  Level 2  \n",
       "29            Rough Terrain    02  Level 2  \n",
       "30            Rough Terrain    03  Level 2  \n",
       "31            Rough Terrain    04  Level 2  \n",
       "32            Rough Terrain    05  Level 2  \n",
       "33            Rough Terrain    06  Level 2  \n",
       "34            Rough Terrain    07  Level 2  \n",
       "35  Noise and Rough Terrain    01  Level 3  \n",
       "36  Noise and Rough Terrain    02  Level 3  \n",
       "37  Noise and Rough Terrain    03  Level 3  \n",
       "38  Noise and Rough Terrain    04  Level 3  \n",
       "39  Noise and Rough Terrain    05  Level 3  \n",
       "40  Noise and Rough Terrain    06  Level 3  \n",
       "41  Noise and Rough Terrain    07  Level 3  "
      ]
     },
     "execution_count": 10,
     "metadata": {},
     "output_type": "execute_result"
    }
   ],
   "source": [
    "df_levels = df.loc[df['Level'] != '']\n",
    "df_levels['Condition'] = df_levels['Difficulty']\n",
    "df_levels"
   ]
  },
  {
   "cell_type": "code",
   "execution_count": 11,
   "metadata": {},
   "outputs": [
    {
     "data": {
      "text/plain": [
       "[Text(0, 0.5, 'Average Robot Health over run time'),\n",
       " Text(0.5, 0, 'Time taken to complete the task')]"
      ]
     },
     "execution_count": 11,
     "metadata": {},
     "output_type": "execute_result"
    }
   ],
   "source": [
    "%matplotlib qt\n",
    "ax =sns.scatterplot(data=df_levels, x=\"timeTaken\", y=\"average_robotHealth\",hue='Condition')\n",
    "ax.set_title('Correlation Plot for Exp II. Spearman\\'s Rho Value = -0.76 ')\n",
    "ax.set(ylabel = 'Average Robot Health over run time', xlabel = 'Time taken to complete the task')\n",
    "# ax.legend(title='Condition',loc='upper right')"
   ]
  },
  {
   "cell_type": "code",
   "execution_count": 12,
   "metadata": {},
   "outputs": [],
   "source": [
    "corr_matrix = df_levels[['timeTaken','average_robotHealth']].corr( method = 'pearson')"
   ]
  },
  {
   "cell_type": "code",
   "execution_count": 13,
   "metadata": {},
   "outputs": [
    {
     "data": {
      "text/html": [
       "<div>\n",
       "<style scoped>\n",
       "    .dataframe tbody tr th:only-of-type {\n",
       "        vertical-align: middle;\n",
       "    }\n",
       "\n",
       "    .dataframe tbody tr th {\n",
       "        vertical-align: top;\n",
       "    }\n",
       "\n",
       "    .dataframe thead th {\n",
       "        text-align: right;\n",
       "    }\n",
       "</style>\n",
       "<table border=\"1\" class=\"dataframe\">\n",
       "  <thead>\n",
       "    <tr style=\"text-align: right;\">\n",
       "      <th></th>\n",
       "      <th>timeTaken</th>\n",
       "      <th>average_robotHealth</th>\n",
       "    </tr>\n",
       "  </thead>\n",
       "  <tbody>\n",
       "    <tr>\n",
       "      <th>timeTaken</th>\n",
       "      <td>1.000000</td>\n",
       "      <td>-0.781139</td>\n",
       "    </tr>\n",
       "    <tr>\n",
       "      <th>average_robotHealth</th>\n",
       "      <td>-0.781139</td>\n",
       "      <td>1.000000</td>\n",
       "    </tr>\n",
       "  </tbody>\n",
       "</table>\n",
       "</div>"
      ],
      "text/plain": [
       "                     timeTaken  average_robotHealth\n",
       "timeTaken             1.000000            -0.781139\n",
       "average_robotHealth  -0.781139             1.000000"
      ]
     },
     "execution_count": 13,
     "metadata": {},
     "output_type": "execute_result"
    }
   ],
   "source": [
    "corr_matrix"
   ]
  },
  {
   "cell_type": "code",
   "execution_count": 14,
   "metadata": {},
   "outputs": [
    {
     "name": "stdout",
     "output_type": "stream",
     "text": [
      "Python 3.6.9 :: Anaconda, Inc.\r\n"
     ]
    }
   ],
   "source": [
    "!python --version"
   ]
  },
  {
   "cell_type": "code",
   "execution_count": 15,
   "metadata": {},
   "outputs": [
    {
     "data": {
      "text/plain": [
       "[Text(0.5, 0, 'Levels of Performance degradation'),\n",
       " Text(0, 0.5, 'Time taken to complete the task')]"
      ]
     },
     "execution_count": 15,
     "metadata": {},
     "output_type": "execute_result"
    }
   ],
   "source": [
    "%matplotlib qt\n",
    "ax = sns.boxplot(x=\"Level\", y=\"timeTaken\",hue=\"Condition\", data=df_levels)\n",
    "ax.set_title('Time taken vs performance degradation in Exp II')\n",
    "ax.set(xlabel = 'Levels of Performance degradation', ylabel = 'Time taken to complete the task')\n",
    "# ax.legend(title='Condition',loc='upper left')"
   ]
  },
  {
   "cell_type": "code",
   "execution_count": 16,
   "metadata": {},
   "outputs": [
    {
     "data": {
      "text/plain": [
       "[Text(0.5, 0, 'Levels of Performance degradation'),\n",
       " Text(0, 0.5, 'Average Robot Health over run time')]"
      ]
     },
     "execution_count": 16,
     "metadata": {},
     "output_type": "execute_result"
    }
   ],
   "source": [
    "%matplotlib qt\n",
    "ax = sns.boxplot(x=\"Level\", y=\"average_robotHealth\",hue=\"Condition\", data=df_levels)\n",
    "ax.set_title('Run Time Average Robot Health vs performance degradation in Exp II')\n",
    "ax.set(xlabel = 'Levels of Performance degradation', ylabel = 'Average Robot Health over run time')\n",
    "# ax.legend(title='Condition',loc='upper left')"
   ]
  },
  {
   "cell_type": "code",
   "execution_count": 24,
   "metadata": {},
   "outputs": [
    {
     "data": {
      "text/plain": [
       "<matplotlib.legend.Legend at 0x7fa956dbce80>"
      ]
     },
     "execution_count": 24,
     "metadata": {},
     "output_type": "execute_result"
    }
   ],
   "source": [
    "%matplotlib qt\n",
    "\n",
    "fig, axs = plt.subplots(1,2)\n",
    "sns.boxplot(x=\"Level\", y=\"timeTaken\",hue=\"Condition\", data=df_levels, ax = axs[0])\n",
    "# axs[0].set_title('Time taken vs performance degradation in Exp II')\n",
    "# axs[0].set(xlabel = 'Levels of Performance degradation', ylabel = 'Time taken to complete the task (in seconds)')\n",
    "\n",
    "sns.boxplot(x=\"Level\", y=\"average_robotHealth\",hue=\"Condition\", data=df_levels, ax = axs[1])\n",
    "# axs[1].set_title('Average Robot Health vs performance degradation in Exp II')\n",
    "# axs[1].set(xlabel = 'Levels of Performance degradation', ylabel = 'Average Robot Health over run time')\n",
    "\n",
    "\n",
    "\n",
    "axs[0].set_title('Time taken vs performance degradation in Exp II', fontsize='large')\n",
    "axs[0].set_xlabel('Levels of Performance degradation',fontsize='large')\n",
    "axs[0].set_ylabel('Time taken to complete the task (in seconds)',fontsize='large')\n",
    "axs[0].legend(fontsize=14)\n",
    "\n",
    "# sns.boxplot(x=\"Level\", y=\"average_robotHealth\",hue=\"Condition\", data=df_levels, ax = axs[1])\n",
    "axs[1].set_title('Run Time Average Robot Health vs performance degradation in Exp II',fontsize='large')\n",
    "axs[1].set_xlabel ('Levels of Performance degradation',fontsize='large')\n",
    "axs[1].set_ylabel ('Average Robot Health over run time',fontsize='large')\n",
    "axs[1].legend(fontsize=14)"
   ]
  },
  {
   "cell_type": "code",
   "execution_count": 37,
   "metadata": {},
   "outputs": [
    {
     "data": {
      "text/plain": [
       "array([ 53.780558,  46.443009,  48.263377,  55.283123,  48.287068,\n",
       "        42.748224,  46.686962, 100.008975, 104.861324,  55.832678,\n",
       "        54.68893 ,  58.820584, 104.996879,  52.590738,  74.905375,\n",
       "        92.446682,  81.617253,  56.558838,  61.084594,  62.26261 ,\n",
       "        70.768572,  53.780558,  46.443009,  48.263377,  55.283123,\n",
       "        48.287068,  42.748224,  46.686962,  58.010998,  57.233429,\n",
       "        53.164307,  70.129969,  60.968902,  55.302336,  50.145012,\n",
       "        65.541155, 100.85954 ,  98.503147,  86.006693,  62.690715,\n",
       "        61.069231, 112.353158])"
      ]
     },
     "execution_count": 37,
     "metadata": {},
     "output_type": "execute_result"
    }
   ],
   "source": [
    "df_levels['timeTaken'].values"
   ]
  },
  {
   "cell_type": "code",
   "execution_count": null,
   "metadata": {},
   "outputs": [],
   "source": []
  }
 ],
 "metadata": {
  "kernelspec": {
   "display_name": "Python 3",
   "language": "python",
   "name": "python3"
  },
  "language_info": {
   "codemirror_mode": {
    "name": "ipython",
    "version": 3
   },
   "file_extension": ".py",
   "mimetype": "text/x-python",
   "name": "python",
   "nbconvert_exporter": "python",
   "pygments_lexer": "ipython3",
   "version": "3.6.9"
  }
 },
 "nbformat": 4,
 "nbformat_minor": 2
}
