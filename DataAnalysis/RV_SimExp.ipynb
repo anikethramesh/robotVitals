{
 "cells": [
  {
   "cell_type": "code",
   "execution_count": 2,
   "metadata": {},
   "outputs": [],
   "source": [
    "import numpy as np\n",
    "import pandas as pd\n",
    "import matplotlib.pyplot as plt\n",
    "import seaborn as sns\n",
    "# import plotly.express as px\n",
    "# import plotly.io as pio\n",
    "import re\n",
    "# import rosbag_pandas\n",
    "import math\n",
    "import yaml\n",
    "import pickle\n",
    "import PyQt5\n",
    "# from rosbag.bag import Bag"
   ]
  },
  {
   "cell_type": "code",
   "execution_count": 3,
   "metadata": {},
   "outputs": [],
   "source": [
    "def failureProbability_linAcc(acc_z):\n",
    "    sigma1 = 0.4\n",
    "    sigma2 = -0.9\n",
    "    mu = 0\n",
    "    output = 1 - (1/(math.sqrt(2*math.pi)*sigma1))*(math.exp( - math.pow(acc_z - mu,2)/(2*math.pow(sigma2,2))))\n",
    "    if(output>1):\n",
    "        return 1\n",
    "    elif(output<0):\n",
    "        return 0\n",
    "    else:\n",
    "        return output\n",
    "\n",
    "def magROC_cdf(x):\n",
    "    a = -6\n",
    "    b = -0.15\n",
    "    try:\n",
    "        p_f = 1/(1 + math.exp(-a*x + a*b))\n",
    "    except OverflowError:\n",
    "        p_f = float(0)\n",
    "#         print('the values that caused this problem is:',x)\n",
    "    return p_f\n",
    "\n",
    "\n",
    "def odomError_cdf(timeSteps):\n",
    "    k = 0.2\n",
    "    p_f = k*timeSteps\n",
    "    #This is a threshold to make the graphs clearer\n",
    "    if(p_f>1):\n",
    "        return 1\n",
    "    elif(p_f<0):\n",
    "        return 0\n",
    "    else:\n",
    "        return p_f\n",
    "\n",
    "def vel_cdf(x):\n",
    "    a = 1.5\n",
    "    b = 2.5\n",
    "    try:\n",
    "        p_f = 1/(1 + math.exp(-a*x + a*b))\n",
    "    except OverflowError:\n",
    "        p_f = float(0)\n",
    "    return p_f\n",
    "\n",
    "\n",
    "def psnrError_cdf(x):\n",
    "    a = 5\n",
    "    b = 1\n",
    "    try:\n",
    "        p_f = 1/(1 + math.exp(-a*x + a*b))\n",
    "    except OverflowError:\n",
    "        p_f = float(0)\n",
    "#         print('the values that caused this problem is:',x)\n",
    "    return p_f\n",
    "\n",
    "def probabilityOfFailure(arrayOfProbabilities):\n",
    "    normalisationConstant = 1.0/(len(arrayOfProbabilities))\n",
    "    p_f_total = 0.0\n",
    "    for p_f in arrayOfProbabilities:\n",
    "        p_f_total = p_f_total + p_f*normalisationConstant\n",
    "    return p_f_total"
   ]
  },
  {
   "cell_type": "code",
   "execution_count": 4,
   "metadata": {},
   "outputs": [],
   "source": [
    "def dataframe_parser(path_to_file, path_to_infoDict, arena, difficulty,trial):\n",
    "#     print('Parsing Rosbag ',path_to_file)\n",
    "#     df = rosbag_pandas.bag_to_dataframe(path_to_file)\n",
    "#     info_dict = yaml.load(Bag(path_to_file, 'r')._get_yaml_info())\n",
    "    # df.head()\n",
    "    print('Parsing pickle file', path_to_file)\n",
    "    df = pd.read_pickle(path_to_file)\n",
    "    info_dict = pickle.load(open(path_to_infoDict, \"rb\"))\n",
    "    timeToComplete = info_dict['duration']\n",
    "    \n",
    "    rv_columns = ['move_base_current_goal__pose_position_x',\n",
    "                  'move_base_current_goal__pose_position_y',\n",
    "                  'move_base_current_goal__pose_position_z',\n",
    "                  'husky_velocity_controller_odom__pose_pose_position_x',\n",
    "                  'husky_velocity_controller_odom__pose_pose_position_y',\n",
    "                  'husky_velocity_controller_odom__pose_pose_position_z',\n",
    "                  'odometry_filtered__pose_pose_position_x',\n",
    "                  'odometry_filtered__pose_pose_position_y',\n",
    "                  'odometry_filtered__pose_pose_position_z',\n",
    "                  'imu_data__linear_acceleration_z',\n",
    "                  'psnr_laserScan__data']\n",
    "\n",
    "    df = df.fillna(method = 'ffill')\n",
    "    df = df.fillna(0)\n",
    "    df.describe()\n",
    "    df['arena'] = arena\n",
    "    df['difficulty'] = difficulty\n",
    "    df['trial'] = trial\n",
    "\n",
    "    df['move_base_current_goal__pose_position_x'] = 16.3375\n",
    "    df['move_base_current_goal__pose_position_y']= 0.5000\n",
    "    df['move_base_current_goal__pose_position_z']= 0.0000\n",
    "    \n",
    "    df['move_base_current_goal__pose_position_x'] = df['move_base_current_goal__pose_position_x'].apply(lambda x: np.float32(16.3375) if(x == 0) else None)\n",
    "        \n",
    "    df['odom_diff_x'] = df['husky_velocity_controller_odom__pose_pose_position_x'] - df['odometry_filtered__pose_pose_position_x']\n",
    "    df['odom_diff_y'] = df['husky_velocity_controller_odom__pose_pose_position_y'] - df['odometry_filtered__pose_pose_position_y']\n",
    "    df['odom_diff_z'] = df['husky_velocity_controller_odom__pose_pose_position_z'] - df['odometry_filtered__pose_pose_position_z']\n",
    "    df['odom_posErr'] = np.linalg.norm(df[['odom_diff_x','odom_diff_y','odom_diff_z']].values, axis=1)\n",
    "\n",
    "    df['magDist_diff_x'] = df['move_base_current_goal__pose_position_x'] - df['odometry_filtered__pose_pose_position_x']\n",
    "    df['magDist_diff_y'] = df['move_base_current_goal__pose_position_y'] - df['odometry_filtered__pose_pose_position_y']\n",
    "    df['magDist_diff_z'] = df['move_base_current_goal__pose_position_z'] - df['odometry_filtered__pose_pose_position_z']\n",
    "    df['magDist_diff_x'] = df['magDist_diff_x'].astype('float')\n",
    "    df['magDist_diff_y'] = df['magDist_diff_y'].astype('float')\n",
    "    df['magDist_diff_z'] = df['magDist_diff_z'].astype('float')\n",
    "    df['mag_distFromGoal'] = np.linalg.norm(df[['magDist_diff_x','magDist_diff_y','magDist_diff_z']].values, axis=1)\n",
    "    \n",
    "    df = df.reset_index()\n",
    "    df = df.drop(columns = ['index'])\n",
    "    samplingRate = 240\n",
    "#     df.describe()\n",
    "    df_sampled = pd.DataFrame(columns = ['imu_data__linear_acceleration_z','mag_distFromGoal','odom_posErr','psnr_laserScan__data','odometry_filtered__pose_pose_position_x','odometry_filtered__pose_pose_position_y','odometry_filtered__pose_pose_position_z','arena','difficulty','trial'])\n",
    "    for i in range(0,len(df),samplingRate):\n",
    "        df_sampled = df_sampled.append(df[['imu_data__linear_acceleration_z','mag_distFromGoal','odom_posErr','psnr_laserScan__data','odometry_filtered__pose_pose_position_x','odometry_filtered__pose_pose_position_y','odometry_filtered__pose_pose_position_z','arena','difficulty','trial']].iloc[i,:],ignore_index = True)\n",
    "#     df_sampled = df_sampled.drop(index=df_sampled.index[:5],axis=0)\n",
    "    \n",
    "#     df_sampled.describe()\n",
    "\n",
    "    df_sampled['mag_distFromGoal_roc'] = df_sampled['mag_distFromGoal'].diff(periods = 3).fillna(0)\n",
    "    df_sampled['imu_data__linear_acceleration_z'].iloc[0] = df_sampled['imu_data__linear_acceleration_z'].iloc[1]\n",
    "    # df_sampled['mag_distFromGoal_roc'] = df_sampled['mag_distFromGoal_roc'].fillna(0)\n",
    "    df_sampled['imu_linAcc_z_roc'] = df_sampled['imu_data__linear_acceleration_z'].diff(2).fillna(method='bfill')\n",
    "    df_sampled['odom_posErr_roc'] = df_sampled['odom_posErr'].diff().fillna(0)\n",
    "#     df_sampled['psnr_laserScan__roc'] = df_sampled['psnr_laserScan__data'].diff(3).fillna(0)\n",
    "#     df_sampled['psnr_laserScan__roc'].iloc[0] = df_sampled['psnr_laserScan__roc'].iloc[1]\n",
    "    # df_sampled.head()\n",
    "#     print('Came here')\n",
    "    df_sampled['magROC_event'] = 500\n",
    "    \n",
    "    corr_vector = np.concatenate((np.linspace(0,-2.5,5), np.linspace(-2.5,0,6)[1:]), axis=None)\n",
    "    for i in range(0,len(df_sampled['mag_distFromGoal_roc']) - len(corr_vector)):\n",
    "        sum = 0\n",
    "        for j in range(0,len(corr_vector)):\n",
    "            sum = sum + (df_sampled['mag_distFromGoal_roc'].iloc[i+j] * corr_vector[len(corr_vector)-1 -j])\n",
    "#         print('Im here bro')\n",
    "        df_sampled['magROC_event'].iloc[i] = sum\n",
    "\n",
    "#     corr_vector = np.linspace(-2.5,2.5,5)\n",
    "#     for i in range(5,len(df_sampled['psnr_laserScan__roc']) - len(corr_vector)):\n",
    "#         sum = 0\n",
    "#         for j in range(0,len(corr_vector)):\n",
    "#             sum = sum + (df_sampled['psnr_laserScan__roc'].iloc[i+j] * corr_vector[len(corr_vector)-1 -j])\n",
    "# #         print('Im here bro')\n",
    "#         df_sampled['psnr_event'].iloc[i] = sum    \n",
    "   \n",
    "    df_sampled['velocity_event'] = 0\n",
    "    df_sampled['velocity_event_count'] = 0\n",
    "    df_sampled['odom_mag'] = np.linalg.norm(df_sampled[['odometry_filtered__pose_pose_position_x','odometry_filtered__pose_pose_position_y','odometry_filtered__pose_pose_position_z']].values, axis=1)\n",
    "    df_sampled['velocity_fromOdom'] = df_sampled['odom_mag'].diff(periods = 3)  \n",
    "    df_sampled['velocity_event'] = df_sampled['velocity_fromOdom'].apply(lambda x: 1 if (x<0.01) else 0)\n",
    "    a = df_sampled['velocity_event']!= 0\n",
    "    df_sampled['velocity_event_count'] = a.cumsum()-a.cumsum().where(~a).ffill().fillna(0).astype(int)\n",
    "    \n",
    "\n",
    "#     i = 5\n",
    "#     df_sampled['psnr_event'] = 0\n",
    "#     while(i in range (5,len(df_sampled['psnr_laserScan__roc']) - 1)):\n",
    "#         if(df_sampled['psnr_laserScan__roc'].iloc[i]<0.1):\n",
    "#             count = 1\n",
    "#             while(abs(df_sampled['psnr_laserScan__roc'].iloc[i+1] - df_sampled['psnr_laserScan__roc'].iloc[i])<0.1):\n",
    "#                 df_sampled['psnr_event'].iloc[i] = count\n",
    "#                 count = count + 1\n",
    "#                 i = i+1\n",
    "#         i = i+1\n",
    " \n",
    "    df_sampled['odom_event'] = 0\n",
    "\n",
    "    i = 1\n",
    "    while(i in range(5,len(df_sampled['odom_posErr_roc']) - 1)):\n",
    "    #     print('loop entered')\n",
    "        if(((i+1)< len(df_sampled['odom_posErr_roc'])) and \n",
    "             (abs(df_sampled['odom_posErr_roc'].iloc[i]) < 0.001 and abs(df_sampled['odom_posErr_roc'].iloc[i+1]) < 0.001)\n",
    "            ):\n",
    "            count = 1\n",
    "    #         print(i)\n",
    "            while(((i+1)< len(df_sampled['odom_posErr_roc'])) and (abs(df_sampled['odom_posErr_roc'].iloc[i+1]) < 0.001)):\n",
    "                df_sampled['odom_event'].iloc[i] = count\n",
    "                count = count+1\n",
    "                i = i+1\n",
    "        i = i+1\n",
    "    df_sampled['rv_magROC_event'] = df_sampled['magROC_event'].apply(magROC_cdf)\n",
    "    df_sampled['rv_vel_event'] = df_sampled['velocity_event_count'].apply(vel_cdf)\n",
    "    df_sampled['rv_odom_event'] = df_sampled['odom_event'].apply(odomError_cdf)\n",
    "    df_sampled['rv_linAcc_Z_event'] = df_sampled['imu_linAcc_z_roc'].apply(failureProbability_linAcc)\n",
    "    df_sampled['rv_snr_event'] = df_sampled['psnr_laserScan__data'].apply(psnrError_cdf)\n",
    "#     df_sampled['p_f_total'] = df_sampled.apply(lambda x: probabilityOfFailure(np.array([x['rv_magROC_event'],x['rv_linAcc_Z_event'],x['rv_snr_event'],x['rv_vel_event']])),axis = 1)\n",
    "    df_sampled['p_f_total'] = df_sampled.apply(lambda x: probabilityOfFailure(np.array([x['rv_magROC_event'],x['rv_odom_event'],x['rv_linAcc_Z_event'],x['rv_snr_event'],x['rv_vel_event']])),axis = 1)\n",
    "    df_sampled['robot_health'] = (df_sampled['p_f_total']*np.log10(df_sampled['p_f_total'])).rolling(10).sum()\n",
    "    df_sampled = df_sampled.reset_index()\n",
    "    mean_health = df_sampled['robot_health'].mean()\n",
    "    return [mean_health,timeToComplete,arena,difficulty,trial]"
   ]
  },
  {
   "cell_type": "code",
   "execution_count": 49,
   "metadata": {},
   "outputs": [],
   "source": [
    "def dataframe_parser_healthTrend(path_to_file, path_to_infoDict, arena, difficulty,trial):\n",
    "#     print('Parsing Rosbag ',path_to_file)\n",
    "#     df = rosbag_pandas.bag_to_dataframe(path_to_file)\n",
    "#     info_dict = yaml.load(Bag(path_to_file, 'r')._get_yaml_info())\n",
    "    # df.head()\n",
    "    print('Parsing pickle file', path_to_file)\n",
    "    df = pd.read_pickle(path_to_file)\n",
    "    info_dict = pickle.load(open(path_to_infoDict, \"rb\"))\n",
    "    timeToComplete = info_dict['duration']\n",
    "    \n",
    "    rv_columns = ['move_base_current_goal__pose_position_x',\n",
    "                  'move_base_current_goal__pose_position_y',\n",
    "                  'move_base_current_goal__pose_position_z',\n",
    "                  'husky_velocity_controller_odom__pose_pose_position_x',\n",
    "                  'husky_velocity_controller_odom__pose_pose_position_y',\n",
    "                  'husky_velocity_controller_odom__pose_pose_position_z',\n",
    "                  'odometry_filtered__pose_pose_position_x',\n",
    "                  'odometry_filtered__pose_pose_position_y',\n",
    "                  'odometry_filtered__pose_pose_position_z',\n",
    "                  'imu_data__linear_acceleration_z',\n",
    "                  'psnr_laserScan__data']\n",
    "\n",
    "    df = df.fillna(method = 'ffill')\n",
    "    df = df.fillna(0)\n",
    "    df.describe()\n",
    "    df['arena'] = arena\n",
    "    df['difficulty'] = difficulty\n",
    "    df['trial'] = trial\n",
    "\n",
    "    df['move_base_current_goal__pose_position_x'] = 16.3375\n",
    "    df['move_base_current_goal__pose_position_y']= 0.5000\n",
    "    df['move_base_current_goal__pose_position_z']= 0.0000\n",
    "    \n",
    "    df['move_base_current_goal__pose_position_x'] = df['move_base_current_goal__pose_position_x'].apply(lambda x: np.float32(16.3375) if(x == 0) else None)\n",
    "        \n",
    "    df['odom_diff_x'] = df['husky_velocity_controller_odom__pose_pose_position_x'] - df['odometry_filtered__pose_pose_position_x']\n",
    "    df['odom_diff_y'] = df['husky_velocity_controller_odom__pose_pose_position_y'] - df['odometry_filtered__pose_pose_position_y']\n",
    "    df['odom_diff_z'] = df['husky_velocity_controller_odom__pose_pose_position_z'] - df['odometry_filtered__pose_pose_position_z']\n",
    "    df['odom_posErr'] = np.linalg.norm(df[['odom_diff_x','odom_diff_y','odom_diff_z']].values, axis=1)\n",
    "\n",
    "    df['magDist_diff_x'] = df['move_base_current_goal__pose_position_x'] - df['odometry_filtered__pose_pose_position_x']\n",
    "    df['magDist_diff_y'] = df['move_base_current_goal__pose_position_y'] - df['odometry_filtered__pose_pose_position_y']\n",
    "    df['magDist_diff_z'] = df['move_base_current_goal__pose_position_z'] - df['odometry_filtered__pose_pose_position_z']\n",
    "    df['magDist_diff_x'] = df['magDist_diff_x'].astype('float')\n",
    "    df['magDist_diff_y'] = df['magDist_diff_y'].astype('float')\n",
    "    df['magDist_diff_z'] = df['magDist_diff_z'].astype('float')\n",
    "    df['mag_distFromGoal'] = np.linalg.norm(df[['magDist_diff_x','magDist_diff_y','magDist_diff_z']].values, axis=1)\n",
    "    \n",
    "    df = df.reset_index()\n",
    "    df = df.drop(columns = ['index'])\n",
    "#     samplingRate = 240\n",
    "    samplingRate = int(len(df.index)/timeToComplete)\n",
    "#     df.describe()\n",
    "    df_sampled = pd.DataFrame(columns = ['imu_data__linear_acceleration_z','mag_distFromGoal','odom_posErr','psnr_laserScan__data','odometry_filtered__pose_pose_position_x','odometry_filtered__pose_pose_position_y','odometry_filtered__pose_pose_position_z','arena','difficulty','trial'])\n",
    "    for i in range(0,len(df),samplingRate):\n",
    "        df_sampled = df_sampled.append(df[['imu_data__linear_acceleration_z','mag_distFromGoal','odom_posErr','psnr_laserScan__data','odometry_filtered__pose_pose_position_x','odometry_filtered__pose_pose_position_y','odometry_filtered__pose_pose_position_z','arena','difficulty','trial']].iloc[i,:],ignore_index = True)\n",
    "#     df_sampled = df_sampled.drop(index=df_sampled.index[:5],axis=0)\n",
    "    \n",
    "#     df_sampled.describe()\n",
    "\n",
    "    df_sampled['mag_distFromGoal_roc'] = df_sampled['mag_distFromGoal'].diff(periods = 3).fillna(0)\n",
    "    df_sampled['imu_data__linear_acceleration_z'].iloc[0] = df_sampled['imu_data__linear_acceleration_z'].iloc[1]\n",
    "    # df_sampled['mag_distFromGoal_roc'] = df_sampled['mag_distFromGoal_roc'].fillna(0)\n",
    "    df_sampled['imu_linAcc_z_roc'] = df_sampled['imu_data__linear_acceleration_z'].diff(2).fillna(method='bfill')\n",
    "    df_sampled['odom_posErr_roc'] = df_sampled['odom_posErr'].diff().fillna(0)\n",
    "#     df_sampled['psnr_laserScan__roc'] = df_sampled['psnr_laserScan__data'].diff(3).fillna(0)\n",
    "#     df_sampled['psnr_laserScan__roc'].iloc[0] = df_sampled['psnr_laserScan__roc'].iloc[1]\n",
    "    # df_sampled.head()\n",
    "#     print('Came here')\n",
    "    df_sampled['magROC_event'] = 500\n",
    "    \n",
    "    corr_vector = np.concatenate((np.linspace(0,-2.5,5), np.linspace(-2.5,0,6)[1:]), axis=None)\n",
    "    for i in range(0,len(df_sampled['mag_distFromGoal_roc']) - len(corr_vector)):\n",
    "        sum = 0\n",
    "        for j in range(0,len(corr_vector)):\n",
    "            sum = sum + (df_sampled['mag_distFromGoal_roc'].iloc[i+j] * corr_vector[len(corr_vector)-1 -j])\n",
    "#         print('Im here bro')\n",
    "        df_sampled['magROC_event'].iloc[i] = sum\n",
    "\n",
    "#     corr_vector = np.linspace(-2.5,2.5,5)\n",
    "#     for i in range(5,len(df_sampled['psnr_laserScan__roc']) - len(corr_vector)):\n",
    "#         sum = 0\n",
    "#         for j in range(0,len(corr_vector)):\n",
    "#             sum = sum + (df_sampled['psnr_laserScan__roc'].iloc[i+j] * corr_vector[len(corr_vector)-1 -j])\n",
    "# #         print('Im here bro')\n",
    "#         df_sampled['psnr_event'].iloc[i] = sum    \n",
    "   \n",
    "    df_sampled['velocity_event'] = 0\n",
    "    df_sampled['velocity_event_count'] = 0\n",
    "    df_sampled['odom_mag'] = np.linalg.norm(df_sampled[['odometry_filtered__pose_pose_position_x','odometry_filtered__pose_pose_position_y','odometry_filtered__pose_pose_position_z']].values, axis=1)\n",
    "    df_sampled['velocity_fromOdom'] = df_sampled['odom_mag'].diff(periods = 3)  \n",
    "    df_sampled['velocity_event'] = df_sampled['velocity_fromOdom'].apply(lambda x: 1 if (x<0.01) else 0)\n",
    "    a = df_sampled['velocity_event']!= 0\n",
    "    df_sampled['velocity_event_count'] = a.cumsum()-a.cumsum().where(~a).ffill().fillna(0).astype(int)\n",
    "    \n",
    "\n",
    "#     i = 5\n",
    "#     df_sampled['psnr_event'] = 0\n",
    "#     while(i in range (5,len(df_sampled['psnr_laserScan__roc']) - 1)):\n",
    "#         if(df_sampled['psnr_laserScan__roc'].iloc[i]<0.1):\n",
    "#             count = 1\n",
    "#             while(abs(df_sampled['psnr_laserScan__roc'].iloc[i+1] - df_sampled['psnr_laserScan__roc'].iloc[i])<0.1):\n",
    "#                 df_sampled['psnr_event'].iloc[i] = count\n",
    "#                 count = count + 1\n",
    "#                 i = i+1\n",
    "#         i = i+1\n",
    " \n",
    "    df_sampled['odom_event'] = 0\n",
    "\n",
    "    i = 1\n",
    "    while(i in range(5,len(df_sampled['odom_posErr_roc']) - 1)):\n",
    "    #     print('loop entered')\n",
    "        if(((i+1)< len(df_sampled['odom_posErr_roc'])) and \n",
    "             (abs(df_sampled['odom_posErr_roc'].iloc[i]) < 0.001 and abs(df_sampled['odom_posErr_roc'].iloc[i+1]) < 0.001)\n",
    "            ):\n",
    "            count = 1\n",
    "    #         print(i)\n",
    "            while(((i+1)< len(df_sampled['odom_posErr_roc'])) and (abs(df_sampled['odom_posErr_roc'].iloc[i+1]) < 0.001)):\n",
    "                df_sampled['odom_event'].iloc[i] = count\n",
    "                count = count+1\n",
    "                i = i+1\n",
    "        i = i+1\n",
    "    df_sampled['rv_magROC_event'] = df_sampled['magROC_event'].apply(magROC_cdf)\n",
    "    df_sampled['rv_vel_event'] = df_sampled['velocity_event_count'].apply(vel_cdf)\n",
    "    df_sampled['rv_odom_event'] = df_sampled['odom_event'].apply(odomError_cdf)\n",
    "    df_sampled['rv_linAcc_Z_event'] = df_sampled['imu_linAcc_z_roc'].apply(failureProbability_linAcc)\n",
    "    df_sampled['rv_snr_event'] = df_sampled['psnr_laserScan__data'].apply(psnrError_cdf)\n",
    "#     df_sampled['p_f_total'] = df_sampled.apply(lambda x: probabilityOfFailure(np.array([x['rv_magROC_event'],x['rv_linAcc_Z_event'],x['rv_snr_event'],x['rv_vel_event']])),axis = 1)\n",
    "    df_sampled['p_f_total'] = df_sampled.apply(lambda x: probabilityOfFailure(np.array([x['rv_magROC_event'],x['rv_odom_event'],x['rv_linAcc_Z_event'],x['rv_snr_event'],x['rv_vel_event']])),axis = 1)\n",
    "    df_sampled['robot_health'] = -(df_sampled['p_f_total']*np.log10(df_sampled['p_f_total'])).rolling(10).sum()\n",
    "    df_sampled = df_sampled.reset_index()\n",
    "    mean_health = df_sampled['robot_health'].mean()\n",
    "    return [mean_health,timeToComplete,arena,difficulty,trial,df_sampled['robot_health'].values]"
   ]
  },
  {
   "cell_type": "code",
   "execution_count": 50,
   "metadata": {
    "scrolled": false
   },
   "outputs": [
    {
     "name": "stdout",
     "output_type": "stream",
     "text": [
      "Parsing pickle file /Volumes/Aniketh/rosbags/NovemberTrial_1/obstacles_0_1.pickle\n"
     ]
    },
    {
     "name": "stderr",
     "output_type": "stream",
     "text": [
      "/Users/anikethramesh/anaconda3/envs/py36/lib/python3.6/site-packages/pandas/core/indexing.py:670: SettingWithCopyWarning: \n",
      "A value is trying to be set on a copy of a slice from a DataFrame\n",
      "\n",
      "See the caveats in the documentation: https://pandas.pydata.org/pandas-docs/stable/user_guide/indexing.html#returning-a-view-versus-a-copy\n",
      "  iloc._setitem_with_indexer(indexer, value)\n"
     ]
    },
    {
     "name": "stdout",
     "output_type": "stream",
     "text": [
      "Parsing pickle file /Volumes/Aniketh/rosbags/NovemberTrial_1/obstacles_0_2.pickle\n"
     ]
    },
    {
     "name": "stderr",
     "output_type": "stream",
     "text": [
      "/Users/anikethramesh/anaconda3/envs/py36/lib/python3.6/site-packages/pandas/core/indexing.py:670: SettingWithCopyWarning: \n",
      "A value is trying to be set on a copy of a slice from a DataFrame\n",
      "\n",
      "See the caveats in the documentation: https://pandas.pydata.org/pandas-docs/stable/user_guide/indexing.html#returning-a-view-versus-a-copy\n",
      "  iloc._setitem_with_indexer(indexer, value)\n"
     ]
    },
    {
     "name": "stdout",
     "output_type": "stream",
     "text": [
      "Parsing pickle file /Volumes/Aniketh/rosbags/NovemberTrial_1/obstacles_0_3.pickle\n"
     ]
    },
    {
     "name": "stderr",
     "output_type": "stream",
     "text": [
      "/Users/anikethramesh/anaconda3/envs/py36/lib/python3.6/site-packages/pandas/core/indexing.py:670: SettingWithCopyWarning: \n",
      "A value is trying to be set on a copy of a slice from a DataFrame\n",
      "\n",
      "See the caveats in the documentation: https://pandas.pydata.org/pandas-docs/stable/user_guide/indexing.html#returning-a-view-versus-a-copy\n",
      "  iloc._setitem_with_indexer(indexer, value)\n"
     ]
    },
    {
     "name": "stdout",
     "output_type": "stream",
     "text": [
      "Parsing pickle file /Volumes/Aniketh/rosbags/NovemberTrial_1/obstacles_0_4.pickle\n"
     ]
    },
    {
     "name": "stderr",
     "output_type": "stream",
     "text": [
      "/Users/anikethramesh/anaconda3/envs/py36/lib/python3.6/site-packages/pandas/core/indexing.py:670: SettingWithCopyWarning: \n",
      "A value is trying to be set on a copy of a slice from a DataFrame\n",
      "\n",
      "See the caveats in the documentation: https://pandas.pydata.org/pandas-docs/stable/user_guide/indexing.html#returning-a-view-versus-a-copy\n",
      "  iloc._setitem_with_indexer(indexer, value)\n"
     ]
    },
    {
     "name": "stdout",
     "output_type": "stream",
     "text": [
      "Parsing pickle file /Volumes/Aniketh/rosbags/NovemberTrial_1/obstacles_0_5.pickle\n"
     ]
    },
    {
     "name": "stderr",
     "output_type": "stream",
     "text": [
      "/Users/anikethramesh/anaconda3/envs/py36/lib/python3.6/site-packages/pandas/core/indexing.py:670: SettingWithCopyWarning: \n",
      "A value is trying to be set on a copy of a slice from a DataFrame\n",
      "\n",
      "See the caveats in the documentation: https://pandas.pydata.org/pandas-docs/stable/user_guide/indexing.html#returning-a-view-versus-a-copy\n",
      "  iloc._setitem_with_indexer(indexer, value)\n"
     ]
    },
    {
     "name": "stdout",
     "output_type": "stream",
     "text": [
      "Parsing pickle file /Volumes/Aniketh/rosbags/NovemberTrial_1/obstacles_10_1.pickle\n"
     ]
    },
    {
     "name": "stderr",
     "output_type": "stream",
     "text": [
      "/Users/anikethramesh/anaconda3/envs/py36/lib/python3.6/site-packages/pandas/core/indexing.py:670: SettingWithCopyWarning: \n",
      "A value is trying to be set on a copy of a slice from a DataFrame\n",
      "\n",
      "See the caveats in the documentation: https://pandas.pydata.org/pandas-docs/stable/user_guide/indexing.html#returning-a-view-versus-a-copy\n",
      "  iloc._setitem_with_indexer(indexer, value)\n"
     ]
    },
    {
     "name": "stdout",
     "output_type": "stream",
     "text": [
      "Parsing pickle file /Volumes/Aniketh/rosbags/NovemberTrial_1/obstacles_10_2.pickle\n"
     ]
    },
    {
     "name": "stderr",
     "output_type": "stream",
     "text": [
      "/Users/anikethramesh/anaconda3/envs/py36/lib/python3.6/site-packages/pandas/core/indexing.py:670: SettingWithCopyWarning: \n",
      "A value is trying to be set on a copy of a slice from a DataFrame\n",
      "\n",
      "See the caveats in the documentation: https://pandas.pydata.org/pandas-docs/stable/user_guide/indexing.html#returning-a-view-versus-a-copy\n",
      "  iloc._setitem_with_indexer(indexer, value)\n"
     ]
    },
    {
     "name": "stdout",
     "output_type": "stream",
     "text": [
      "Parsing pickle file /Volumes/Aniketh/rosbags/NovemberTrial_1/obstacles_10_3.pickle\n"
     ]
    },
    {
     "name": "stderr",
     "output_type": "stream",
     "text": [
      "/Users/anikethramesh/anaconda3/envs/py36/lib/python3.6/site-packages/pandas/core/indexing.py:670: SettingWithCopyWarning: \n",
      "A value is trying to be set on a copy of a slice from a DataFrame\n",
      "\n",
      "See the caveats in the documentation: https://pandas.pydata.org/pandas-docs/stable/user_guide/indexing.html#returning-a-view-versus-a-copy\n",
      "  iloc._setitem_with_indexer(indexer, value)\n"
     ]
    },
    {
     "name": "stdout",
     "output_type": "stream",
     "text": [
      "Parsing pickle file /Volumes/Aniketh/rosbags/NovemberTrial_1/obstacles_10_4.pickle\n"
     ]
    },
    {
     "name": "stderr",
     "output_type": "stream",
     "text": [
      "/Users/anikethramesh/anaconda3/envs/py36/lib/python3.6/site-packages/pandas/core/indexing.py:670: SettingWithCopyWarning: \n",
      "A value is trying to be set on a copy of a slice from a DataFrame\n",
      "\n",
      "See the caveats in the documentation: https://pandas.pydata.org/pandas-docs/stable/user_guide/indexing.html#returning-a-view-versus-a-copy\n",
      "  iloc._setitem_with_indexer(indexer, value)\n"
     ]
    },
    {
     "name": "stdout",
     "output_type": "stream",
     "text": [
      "Parsing pickle file /Volumes/Aniketh/rosbags/NovemberTrial_1/obstacles_10_5.pickle\n"
     ]
    },
    {
     "name": "stderr",
     "output_type": "stream",
     "text": [
      "/Users/anikethramesh/anaconda3/envs/py36/lib/python3.6/site-packages/pandas/core/indexing.py:670: SettingWithCopyWarning: \n",
      "A value is trying to be set on a copy of a slice from a DataFrame\n",
      "\n",
      "See the caveats in the documentation: https://pandas.pydata.org/pandas-docs/stable/user_guide/indexing.html#returning-a-view-versus-a-copy\n",
      "  iloc._setitem_with_indexer(indexer, value)\n"
     ]
    },
    {
     "name": "stdout",
     "output_type": "stream",
     "text": [
      "Parsing pickle file /Volumes/Aniketh/rosbags/NovemberTrial_1/obstacles_20_1.pickle\n"
     ]
    },
    {
     "name": "stderr",
     "output_type": "stream",
     "text": [
      "/Users/anikethramesh/anaconda3/envs/py36/lib/python3.6/site-packages/pandas/core/indexing.py:670: SettingWithCopyWarning: \n",
      "A value is trying to be set on a copy of a slice from a DataFrame\n",
      "\n",
      "See the caveats in the documentation: https://pandas.pydata.org/pandas-docs/stable/user_guide/indexing.html#returning-a-view-versus-a-copy\n",
      "  iloc._setitem_with_indexer(indexer, value)\n"
     ]
    },
    {
     "name": "stdout",
     "output_type": "stream",
     "text": [
      "Parsing pickle file /Volumes/Aniketh/rosbags/NovemberTrial_1/obstacles_20_2.pickle\n"
     ]
    },
    {
     "name": "stderr",
     "output_type": "stream",
     "text": [
      "/Users/anikethramesh/anaconda3/envs/py36/lib/python3.6/site-packages/pandas/core/indexing.py:670: SettingWithCopyWarning: \n",
      "A value is trying to be set on a copy of a slice from a DataFrame\n",
      "\n",
      "See the caveats in the documentation: https://pandas.pydata.org/pandas-docs/stable/user_guide/indexing.html#returning-a-view-versus-a-copy\n",
      "  iloc._setitem_with_indexer(indexer, value)\n"
     ]
    },
    {
     "name": "stdout",
     "output_type": "stream",
     "text": [
      "Parsing pickle file /Volumes/Aniketh/rosbags/NovemberTrial_1/obstacles_20_3.pickle\n"
     ]
    },
    {
     "name": "stderr",
     "output_type": "stream",
     "text": [
      "/Users/anikethramesh/anaconda3/envs/py36/lib/python3.6/site-packages/pandas/core/indexing.py:670: SettingWithCopyWarning: \n",
      "A value is trying to be set on a copy of a slice from a DataFrame\n",
      "\n",
      "See the caveats in the documentation: https://pandas.pydata.org/pandas-docs/stable/user_guide/indexing.html#returning-a-view-versus-a-copy\n",
      "  iloc._setitem_with_indexer(indexer, value)\n"
     ]
    },
    {
     "name": "stdout",
     "output_type": "stream",
     "text": [
      "Parsing pickle file /Volumes/Aniketh/rosbags/NovemberTrial_1/obstacles_20_4.pickle\n"
     ]
    },
    {
     "name": "stderr",
     "output_type": "stream",
     "text": [
      "/Users/anikethramesh/anaconda3/envs/py36/lib/python3.6/site-packages/pandas/core/indexing.py:670: SettingWithCopyWarning: \n",
      "A value is trying to be set on a copy of a slice from a DataFrame\n",
      "\n",
      "See the caveats in the documentation: https://pandas.pydata.org/pandas-docs/stable/user_guide/indexing.html#returning-a-view-versus-a-copy\n",
      "  iloc._setitem_with_indexer(indexer, value)\n"
     ]
    },
    {
     "name": "stdout",
     "output_type": "stream",
     "text": [
      "Parsing pickle file /Volumes/Aniketh/rosbags/NovemberTrial_1/obstacles_20_5.pickle\n"
     ]
    },
    {
     "name": "stderr",
     "output_type": "stream",
     "text": [
      "/Users/anikethramesh/anaconda3/envs/py36/lib/python3.6/site-packages/pandas/core/indexing.py:670: SettingWithCopyWarning: \n",
      "A value is trying to be set on a copy of a slice from a DataFrame\n",
      "\n",
      "See the caveats in the documentation: https://pandas.pydata.org/pandas-docs/stable/user_guide/indexing.html#returning-a-view-versus-a-copy\n",
      "  iloc._setitem_with_indexer(indexer, value)\n"
     ]
    },
    {
     "name": "stdout",
     "output_type": "stream",
     "text": [
      "Parsing pickle file /Volumes/Aniketh/rosbags/NovemberTrial_1/obstacles_40_1.pickle\n"
     ]
    },
    {
     "name": "stderr",
     "output_type": "stream",
     "text": [
      "/Users/anikethramesh/anaconda3/envs/py36/lib/python3.6/site-packages/pandas/core/indexing.py:670: SettingWithCopyWarning: \n",
      "A value is trying to be set on a copy of a slice from a DataFrame\n",
      "\n",
      "See the caveats in the documentation: https://pandas.pydata.org/pandas-docs/stable/user_guide/indexing.html#returning-a-view-versus-a-copy\n",
      "  iloc._setitem_with_indexer(indexer, value)\n"
     ]
    },
    {
     "name": "stdout",
     "output_type": "stream",
     "text": [
      "Parsing pickle file /Volumes/Aniketh/rosbags/NovemberTrial_1/obstacles_40_2.pickle\n"
     ]
    },
    {
     "name": "stderr",
     "output_type": "stream",
     "text": [
      "/Users/anikethramesh/anaconda3/envs/py36/lib/python3.6/site-packages/pandas/core/indexing.py:670: SettingWithCopyWarning: \n",
      "A value is trying to be set on a copy of a slice from a DataFrame\n",
      "\n",
      "See the caveats in the documentation: https://pandas.pydata.org/pandas-docs/stable/user_guide/indexing.html#returning-a-view-versus-a-copy\n",
      "  iloc._setitem_with_indexer(indexer, value)\n"
     ]
    },
    {
     "name": "stdout",
     "output_type": "stream",
     "text": [
      "Parsing pickle file /Volumes/Aniketh/rosbags/NovemberTrial_1/obstacles_40_3.pickle\n"
     ]
    },
    {
     "name": "stderr",
     "output_type": "stream",
     "text": [
      "/Users/anikethramesh/anaconda3/envs/py36/lib/python3.6/site-packages/pandas/core/indexing.py:670: SettingWithCopyWarning: \n",
      "A value is trying to be set on a copy of a slice from a DataFrame\n",
      "\n",
      "See the caveats in the documentation: https://pandas.pydata.org/pandas-docs/stable/user_guide/indexing.html#returning-a-view-versus-a-copy\n",
      "  iloc._setitem_with_indexer(indexer, value)\n"
     ]
    },
    {
     "name": "stdout",
     "output_type": "stream",
     "text": [
      "Parsing pickle file /Volumes/Aniketh/rosbags/NovemberTrial_1/obstacles_40_4.pickle\n"
     ]
    },
    {
     "name": "stderr",
     "output_type": "stream",
     "text": [
      "/Users/anikethramesh/anaconda3/envs/py36/lib/python3.6/site-packages/pandas/core/indexing.py:670: SettingWithCopyWarning: \n",
      "A value is trying to be set on a copy of a slice from a DataFrame\n",
      "\n",
      "See the caveats in the documentation: https://pandas.pydata.org/pandas-docs/stable/user_guide/indexing.html#returning-a-view-versus-a-copy\n",
      "  iloc._setitem_with_indexer(indexer, value)\n"
     ]
    },
    {
     "name": "stdout",
     "output_type": "stream",
     "text": [
      "Parsing pickle file /Volumes/Aniketh/rosbags/NovemberTrial_1/obstacles_40_5.pickle\n"
     ]
    },
    {
     "name": "stderr",
     "output_type": "stream",
     "text": [
      "/Users/anikethramesh/anaconda3/envs/py36/lib/python3.6/site-packages/pandas/core/indexing.py:670: SettingWithCopyWarning: \n",
      "A value is trying to be set on a copy of a slice from a DataFrame\n",
      "\n",
      "See the caveats in the documentation: https://pandas.pydata.org/pandas-docs/stable/user_guide/indexing.html#returning-a-view-versus-a-copy\n",
      "  iloc._setitem_with_indexer(indexer, value)\n"
     ]
    },
    {
     "name": "stdout",
     "output_type": "stream",
     "text": [
      "Parsing pickle file /Volumes/Aniketh/rosbags/NovemberTrial_1/snr_0_1.pickle\n"
     ]
    },
    {
     "name": "stderr",
     "output_type": "stream",
     "text": [
      "/Users/anikethramesh/anaconda3/envs/py36/lib/python3.6/site-packages/pandas/core/indexing.py:670: SettingWithCopyWarning: \n",
      "A value is trying to be set on a copy of a slice from a DataFrame\n",
      "\n",
      "See the caveats in the documentation: https://pandas.pydata.org/pandas-docs/stable/user_guide/indexing.html#returning-a-view-versus-a-copy\n",
      "  iloc._setitem_with_indexer(indexer, value)\n"
     ]
    },
    {
     "name": "stdout",
     "output_type": "stream",
     "text": [
      "Parsing pickle file /Volumes/Aniketh/rosbags/NovemberTrial_1/snr_0_2.pickle\n"
     ]
    },
    {
     "name": "stderr",
     "output_type": "stream",
     "text": [
      "/Users/anikethramesh/anaconda3/envs/py36/lib/python3.6/site-packages/pandas/core/indexing.py:670: SettingWithCopyWarning: \n",
      "A value is trying to be set on a copy of a slice from a DataFrame\n",
      "\n",
      "See the caveats in the documentation: https://pandas.pydata.org/pandas-docs/stable/user_guide/indexing.html#returning-a-view-versus-a-copy\n",
      "  iloc._setitem_with_indexer(indexer, value)\n"
     ]
    },
    {
     "name": "stdout",
     "output_type": "stream",
     "text": [
      "Parsing pickle file /Volumes/Aniketh/rosbags/NovemberTrial_1/snr_0_3.pickle\n"
     ]
    },
    {
     "name": "stderr",
     "output_type": "stream",
     "text": [
      "/Users/anikethramesh/anaconda3/envs/py36/lib/python3.6/site-packages/pandas/core/indexing.py:670: SettingWithCopyWarning: \n",
      "A value is trying to be set on a copy of a slice from a DataFrame\n",
      "\n",
      "See the caveats in the documentation: https://pandas.pydata.org/pandas-docs/stable/user_guide/indexing.html#returning-a-view-versus-a-copy\n",
      "  iloc._setitem_with_indexer(indexer, value)\n"
     ]
    },
    {
     "name": "stdout",
     "output_type": "stream",
     "text": [
      "Parsing pickle file /Volumes/Aniketh/rosbags/NovemberTrial_1/snr_0_4.pickle\n"
     ]
    },
    {
     "name": "stderr",
     "output_type": "stream",
     "text": [
      "/Users/anikethramesh/anaconda3/envs/py36/lib/python3.6/site-packages/pandas/core/indexing.py:670: SettingWithCopyWarning: \n",
      "A value is trying to be set on a copy of a slice from a DataFrame\n",
      "\n",
      "See the caveats in the documentation: https://pandas.pydata.org/pandas-docs/stable/user_guide/indexing.html#returning-a-view-versus-a-copy\n",
      "  iloc._setitem_with_indexer(indexer, value)\n"
     ]
    },
    {
     "name": "stdout",
     "output_type": "stream",
     "text": [
      "Parsing pickle file /Volumes/Aniketh/rosbags/NovemberTrial_1/snr_0_5.pickle\n"
     ]
    },
    {
     "name": "stderr",
     "output_type": "stream",
     "text": [
      "/Users/anikethramesh/anaconda3/envs/py36/lib/python3.6/site-packages/pandas/core/indexing.py:670: SettingWithCopyWarning: \n",
      "A value is trying to be set on a copy of a slice from a DataFrame\n",
      "\n",
      "See the caveats in the documentation: https://pandas.pydata.org/pandas-docs/stable/user_guide/indexing.html#returning-a-view-versus-a-copy\n",
      "  iloc._setitem_with_indexer(indexer, value)\n"
     ]
    },
    {
     "name": "stdout",
     "output_type": "stream",
     "text": [
      "Parsing pickle file /Volumes/Aniketh/rosbags/NovemberTrial_1/snr_03_1.pickle\n"
     ]
    },
    {
     "name": "stderr",
     "output_type": "stream",
     "text": [
      "/Users/anikethramesh/anaconda3/envs/py36/lib/python3.6/site-packages/pandas/core/indexing.py:670: SettingWithCopyWarning: \n",
      "A value is trying to be set on a copy of a slice from a DataFrame\n",
      "\n",
      "See the caveats in the documentation: https://pandas.pydata.org/pandas-docs/stable/user_guide/indexing.html#returning-a-view-versus-a-copy\n",
      "  iloc._setitem_with_indexer(indexer, value)\n"
     ]
    },
    {
     "name": "stdout",
     "output_type": "stream",
     "text": [
      "Parsing pickle file /Volumes/Aniketh/rosbags/NovemberTrial_1/snr_03_2.pickle\n"
     ]
    },
    {
     "name": "stderr",
     "output_type": "stream",
     "text": [
      "/Users/anikethramesh/anaconda3/envs/py36/lib/python3.6/site-packages/pandas/core/indexing.py:670: SettingWithCopyWarning: \n",
      "A value is trying to be set on a copy of a slice from a DataFrame\n",
      "\n",
      "See the caveats in the documentation: https://pandas.pydata.org/pandas-docs/stable/user_guide/indexing.html#returning-a-view-versus-a-copy\n",
      "  iloc._setitem_with_indexer(indexer, value)\n"
     ]
    },
    {
     "name": "stdout",
     "output_type": "stream",
     "text": [
      "Parsing pickle file /Volumes/Aniketh/rosbags/NovemberTrial_1/snr_03_3.pickle\n"
     ]
    },
    {
     "name": "stderr",
     "output_type": "stream",
     "text": [
      "/Users/anikethramesh/anaconda3/envs/py36/lib/python3.6/site-packages/pandas/core/indexing.py:670: SettingWithCopyWarning: \n",
      "A value is trying to be set on a copy of a slice from a DataFrame\n",
      "\n",
      "See the caveats in the documentation: https://pandas.pydata.org/pandas-docs/stable/user_guide/indexing.html#returning-a-view-versus-a-copy\n",
      "  iloc._setitem_with_indexer(indexer, value)\n"
     ]
    },
    {
     "name": "stdout",
     "output_type": "stream",
     "text": [
      "Parsing pickle file /Volumes/Aniketh/rosbags/NovemberTrial_1/snr_03_4.pickle\n"
     ]
    },
    {
     "name": "stderr",
     "output_type": "stream",
     "text": [
      "/Users/anikethramesh/anaconda3/envs/py36/lib/python3.6/site-packages/pandas/core/indexing.py:670: SettingWithCopyWarning: \n",
      "A value is trying to be set on a copy of a slice from a DataFrame\n",
      "\n",
      "See the caveats in the documentation: https://pandas.pydata.org/pandas-docs/stable/user_guide/indexing.html#returning-a-view-versus-a-copy\n",
      "  iloc._setitem_with_indexer(indexer, value)\n"
     ]
    },
    {
     "name": "stdout",
     "output_type": "stream",
     "text": [
      "Parsing pickle file /Volumes/Aniketh/rosbags/NovemberTrial_1/snr_03_5.pickle\n"
     ]
    },
    {
     "name": "stderr",
     "output_type": "stream",
     "text": [
      "/Users/anikethramesh/anaconda3/envs/py36/lib/python3.6/site-packages/pandas/core/indexing.py:670: SettingWithCopyWarning: \n",
      "A value is trying to be set on a copy of a slice from a DataFrame\n",
      "\n",
      "See the caveats in the documentation: https://pandas.pydata.org/pandas-docs/stable/user_guide/indexing.html#returning-a-view-versus-a-copy\n",
      "  iloc._setitem_with_indexer(indexer, value)\n"
     ]
    },
    {
     "name": "stdout",
     "output_type": "stream",
     "text": [
      "Parsing pickle file /Volumes/Aniketh/rosbags/NovemberTrial_1/snr_04_1.pickle\n"
     ]
    },
    {
     "name": "stderr",
     "output_type": "stream",
     "text": [
      "/Users/anikethramesh/anaconda3/envs/py36/lib/python3.6/site-packages/pandas/core/indexing.py:670: SettingWithCopyWarning: \n",
      "A value is trying to be set on a copy of a slice from a DataFrame\n",
      "\n",
      "See the caveats in the documentation: https://pandas.pydata.org/pandas-docs/stable/user_guide/indexing.html#returning-a-view-versus-a-copy\n",
      "  iloc._setitem_with_indexer(indexer, value)\n"
     ]
    },
    {
     "name": "stdout",
     "output_type": "stream",
     "text": [
      "Parsing pickle file /Volumes/Aniketh/rosbags/NovemberTrial_1/snr_04_2.pickle\n"
     ]
    },
    {
     "name": "stderr",
     "output_type": "stream",
     "text": [
      "/Users/anikethramesh/anaconda3/envs/py36/lib/python3.6/site-packages/pandas/core/indexing.py:670: SettingWithCopyWarning: \n",
      "A value is trying to be set on a copy of a slice from a DataFrame\n",
      "\n",
      "See the caveats in the documentation: https://pandas.pydata.org/pandas-docs/stable/user_guide/indexing.html#returning-a-view-versus-a-copy\n",
      "  iloc._setitem_with_indexer(indexer, value)\n"
     ]
    },
    {
     "name": "stdout",
     "output_type": "stream",
     "text": [
      "Parsing pickle file /Volumes/Aniketh/rosbags/NovemberTrial_1/snr_04_3.pickle\n"
     ]
    },
    {
     "name": "stderr",
     "output_type": "stream",
     "text": [
      "/Users/anikethramesh/anaconda3/envs/py36/lib/python3.6/site-packages/pandas/core/indexing.py:670: SettingWithCopyWarning: \n",
      "A value is trying to be set on a copy of a slice from a DataFrame\n",
      "\n",
      "See the caveats in the documentation: https://pandas.pydata.org/pandas-docs/stable/user_guide/indexing.html#returning-a-view-versus-a-copy\n",
      "  iloc._setitem_with_indexer(indexer, value)\n"
     ]
    },
    {
     "name": "stdout",
     "output_type": "stream",
     "text": [
      "Parsing pickle file /Volumes/Aniketh/rosbags/NovemberTrial_1/snr_04_4.pickle\n"
     ]
    },
    {
     "name": "stderr",
     "output_type": "stream",
     "text": [
      "/Users/anikethramesh/anaconda3/envs/py36/lib/python3.6/site-packages/pandas/core/indexing.py:670: SettingWithCopyWarning: \n",
      "A value is trying to be set on a copy of a slice from a DataFrame\n",
      "\n",
      "See the caveats in the documentation: https://pandas.pydata.org/pandas-docs/stable/user_guide/indexing.html#returning-a-view-versus-a-copy\n",
      "  iloc._setitem_with_indexer(indexer, value)\n"
     ]
    },
    {
     "name": "stdout",
     "output_type": "stream",
     "text": [
      "Parsing pickle file /Volumes/Aniketh/rosbags/NovemberTrial_1/snr_04_5.pickle\n"
     ]
    },
    {
     "name": "stderr",
     "output_type": "stream",
     "text": [
      "/Users/anikethramesh/anaconda3/envs/py36/lib/python3.6/site-packages/pandas/core/indexing.py:670: SettingWithCopyWarning: \n",
      "A value is trying to be set on a copy of a slice from a DataFrame\n",
      "\n",
      "See the caveats in the documentation: https://pandas.pydata.org/pandas-docs/stable/user_guide/indexing.html#returning-a-view-versus-a-copy\n",
      "  iloc._setitem_with_indexer(indexer, value)\n"
     ]
    },
    {
     "name": "stdout",
     "output_type": "stream",
     "text": [
      "Parsing pickle file /Volumes/Aniketh/rosbags/NovemberTrial_1/snr_05_1.pickle\n"
     ]
    },
    {
     "name": "stderr",
     "output_type": "stream",
     "text": [
      "/Users/anikethramesh/anaconda3/envs/py36/lib/python3.6/site-packages/pandas/core/indexing.py:670: SettingWithCopyWarning: \n",
      "A value is trying to be set on a copy of a slice from a DataFrame\n",
      "\n",
      "See the caveats in the documentation: https://pandas.pydata.org/pandas-docs/stable/user_guide/indexing.html#returning-a-view-versus-a-copy\n",
      "  iloc._setitem_with_indexer(indexer, value)\n"
     ]
    },
    {
     "name": "stdout",
     "output_type": "stream",
     "text": [
      "Parsing pickle file /Volumes/Aniketh/rosbags/NovemberTrial_1/snr_05_2.pickle\n"
     ]
    },
    {
     "name": "stderr",
     "output_type": "stream",
     "text": [
      "/Users/anikethramesh/anaconda3/envs/py36/lib/python3.6/site-packages/pandas/core/indexing.py:670: SettingWithCopyWarning: \n",
      "A value is trying to be set on a copy of a slice from a DataFrame\n",
      "\n",
      "See the caveats in the documentation: https://pandas.pydata.org/pandas-docs/stable/user_guide/indexing.html#returning-a-view-versus-a-copy\n",
      "  iloc._setitem_with_indexer(indexer, value)\n"
     ]
    },
    {
     "name": "stdout",
     "output_type": "stream",
     "text": [
      "Parsing pickle file /Volumes/Aniketh/rosbags/NovemberTrial_1/snr_05_3.pickle\n"
     ]
    },
    {
     "name": "stderr",
     "output_type": "stream",
     "text": [
      "/Users/anikethramesh/anaconda3/envs/py36/lib/python3.6/site-packages/pandas/core/indexing.py:670: SettingWithCopyWarning: \n",
      "A value is trying to be set on a copy of a slice from a DataFrame\n",
      "\n",
      "See the caveats in the documentation: https://pandas.pydata.org/pandas-docs/stable/user_guide/indexing.html#returning-a-view-versus-a-copy\n",
      "  iloc._setitem_with_indexer(indexer, value)\n"
     ]
    },
    {
     "name": "stdout",
     "output_type": "stream",
     "text": [
      "Parsing pickle file /Volumes/Aniketh/rosbags/NovemberTrial_1/snr_05_4.pickle\n"
     ]
    },
    {
     "name": "stderr",
     "output_type": "stream",
     "text": [
      "/Users/anikethramesh/anaconda3/envs/py36/lib/python3.6/site-packages/pandas/core/indexing.py:670: SettingWithCopyWarning: \n",
      "A value is trying to be set on a copy of a slice from a DataFrame\n",
      "\n",
      "See the caveats in the documentation: https://pandas.pydata.org/pandas-docs/stable/user_guide/indexing.html#returning-a-view-versus-a-copy\n",
      "  iloc._setitem_with_indexer(indexer, value)\n"
     ]
    },
    {
     "name": "stdout",
     "output_type": "stream",
     "text": [
      "Parsing pickle file /Volumes/Aniketh/rosbags/NovemberTrial_1/snr_05_5.pickle\n"
     ]
    },
    {
     "name": "stderr",
     "output_type": "stream",
     "text": [
      "/Users/anikethramesh/anaconda3/envs/py36/lib/python3.6/site-packages/pandas/core/indexing.py:670: SettingWithCopyWarning: \n",
      "A value is trying to be set on a copy of a slice from a DataFrame\n",
      "\n",
      "See the caveats in the documentation: https://pandas.pydata.org/pandas-docs/stable/user_guide/indexing.html#returning-a-view-versus-a-copy\n",
      "  iloc._setitem_with_indexer(indexer, value)\n"
     ]
    },
    {
     "name": "stdout",
     "output_type": "stream",
     "text": [
      "Parsing pickle file /Volumes/Aniketh/rosbags/NovemberTrial_1/snr_06_1.pickle\n"
     ]
    },
    {
     "name": "stderr",
     "output_type": "stream",
     "text": [
      "/Users/anikethramesh/anaconda3/envs/py36/lib/python3.6/site-packages/pandas/core/indexing.py:670: SettingWithCopyWarning: \n",
      "A value is trying to be set on a copy of a slice from a DataFrame\n",
      "\n",
      "See the caveats in the documentation: https://pandas.pydata.org/pandas-docs/stable/user_guide/indexing.html#returning-a-view-versus-a-copy\n",
      "  iloc._setitem_with_indexer(indexer, value)\n"
     ]
    },
    {
     "name": "stdout",
     "output_type": "stream",
     "text": [
      "Parsing pickle file /Volumes/Aniketh/rosbags/NovemberTrial_1/snr_06_2.pickle\n"
     ]
    },
    {
     "name": "stderr",
     "output_type": "stream",
     "text": [
      "/Users/anikethramesh/anaconda3/envs/py36/lib/python3.6/site-packages/pandas/core/indexing.py:670: SettingWithCopyWarning: \n",
      "A value is trying to be set on a copy of a slice from a DataFrame\n",
      "\n",
      "See the caveats in the documentation: https://pandas.pydata.org/pandas-docs/stable/user_guide/indexing.html#returning-a-view-versus-a-copy\n",
      "  iloc._setitem_with_indexer(indexer, value)\n"
     ]
    },
    {
     "name": "stdout",
     "output_type": "stream",
     "text": [
      "Parsing pickle file /Volumes/Aniketh/rosbags/NovemberTrial_1/snr_06_3.pickle\n"
     ]
    },
    {
     "name": "stderr",
     "output_type": "stream",
     "text": [
      "/Users/anikethramesh/anaconda3/envs/py36/lib/python3.6/site-packages/pandas/core/indexing.py:670: SettingWithCopyWarning: \n",
      "A value is trying to be set on a copy of a slice from a DataFrame\n",
      "\n",
      "See the caveats in the documentation: https://pandas.pydata.org/pandas-docs/stable/user_guide/indexing.html#returning-a-view-versus-a-copy\n",
      "  iloc._setitem_with_indexer(indexer, value)\n"
     ]
    },
    {
     "name": "stdout",
     "output_type": "stream",
     "text": [
      "Parsing pickle file /Volumes/Aniketh/rosbags/NovemberTrial_1/snr_06_4.pickle\n"
     ]
    },
    {
     "name": "stderr",
     "output_type": "stream",
     "text": [
      "/Users/anikethramesh/anaconda3/envs/py36/lib/python3.6/site-packages/pandas/core/indexing.py:670: SettingWithCopyWarning: \n",
      "A value is trying to be set on a copy of a slice from a DataFrame\n",
      "\n",
      "See the caveats in the documentation: https://pandas.pydata.org/pandas-docs/stable/user_guide/indexing.html#returning-a-view-versus-a-copy\n",
      "  iloc._setitem_with_indexer(indexer, value)\n"
     ]
    },
    {
     "name": "stdout",
     "output_type": "stream",
     "text": [
      "Parsing pickle file /Volumes/Aniketh/rosbags/NovemberTrial_1/snr_06_5.pickle\n"
     ]
    },
    {
     "name": "stderr",
     "output_type": "stream",
     "text": [
      "/Users/anikethramesh/anaconda3/envs/py36/lib/python3.6/site-packages/pandas/core/indexing.py:670: SettingWithCopyWarning: \n",
      "A value is trying to be set on a copy of a slice from a DataFrame\n",
      "\n",
      "See the caveats in the documentation: https://pandas.pydata.org/pandas-docs/stable/user_guide/indexing.html#returning-a-view-versus-a-copy\n",
      "  iloc._setitem_with_indexer(indexer, value)\n"
     ]
    },
    {
     "name": "stdout",
     "output_type": "stream",
     "text": [
      "Parsing pickle file /Volumes/Aniketh/rosbags/NovemberTrial_1/obstaclesRoughTerrainLaserNoise_easy_1.pickle\n"
     ]
    },
    {
     "name": "stderr",
     "output_type": "stream",
     "text": [
      "/Users/anikethramesh/anaconda3/envs/py36/lib/python3.6/site-packages/pandas/core/indexing.py:670: SettingWithCopyWarning: \n",
      "A value is trying to be set on a copy of a slice from a DataFrame\n",
      "\n",
      "See the caveats in the documentation: https://pandas.pydata.org/pandas-docs/stable/user_guide/indexing.html#returning-a-view-versus-a-copy\n",
      "  iloc._setitem_with_indexer(indexer, value)\n"
     ]
    },
    {
     "name": "stdout",
     "output_type": "stream",
     "text": [
      "Parsing pickle file /Volumes/Aniketh/rosbags/NovemberTrial_1/obstaclesRoughTerrainLaserNoise_easy_2.pickle\n"
     ]
    },
    {
     "name": "stderr",
     "output_type": "stream",
     "text": [
      "/Users/anikethramesh/anaconda3/envs/py36/lib/python3.6/site-packages/pandas/core/indexing.py:670: SettingWithCopyWarning: \n",
      "A value is trying to be set on a copy of a slice from a DataFrame\n",
      "\n",
      "See the caveats in the documentation: https://pandas.pydata.org/pandas-docs/stable/user_guide/indexing.html#returning-a-view-versus-a-copy\n",
      "  iloc._setitem_with_indexer(indexer, value)\n"
     ]
    },
    {
     "name": "stdout",
     "output_type": "stream",
     "text": [
      "Parsing pickle file /Volumes/Aniketh/rosbags/NovemberTrial_1/obstaclesRoughTerrainLaserNoise_easy_3.pickle\n"
     ]
    },
    {
     "name": "stderr",
     "output_type": "stream",
     "text": [
      "/Users/anikethramesh/anaconda3/envs/py36/lib/python3.6/site-packages/pandas/core/indexing.py:670: SettingWithCopyWarning: \n",
      "A value is trying to be set on a copy of a slice from a DataFrame\n",
      "\n",
      "See the caveats in the documentation: https://pandas.pydata.org/pandas-docs/stable/user_guide/indexing.html#returning-a-view-versus-a-copy\n",
      "  iloc._setitem_with_indexer(indexer, value)\n"
     ]
    },
    {
     "name": "stdout",
     "output_type": "stream",
     "text": [
      "Parsing pickle file /Volumes/Aniketh/rosbags/NovemberTrial_1/obstaclesRoughTerrainLaserNoise_easy_4.pickle\n"
     ]
    },
    {
     "name": "stderr",
     "output_type": "stream",
     "text": [
      "/Users/anikethramesh/anaconda3/envs/py36/lib/python3.6/site-packages/pandas/core/indexing.py:670: SettingWithCopyWarning: \n",
      "A value is trying to be set on a copy of a slice from a DataFrame\n",
      "\n",
      "See the caveats in the documentation: https://pandas.pydata.org/pandas-docs/stable/user_guide/indexing.html#returning-a-view-versus-a-copy\n",
      "  iloc._setitem_with_indexer(indexer, value)\n"
     ]
    },
    {
     "name": "stdout",
     "output_type": "stream",
     "text": [
      "Parsing pickle file /Volumes/Aniketh/rosbags/NovemberTrial_1/obstaclesRoughTerrainLaserNoise_easy_5.pickle\n"
     ]
    },
    {
     "name": "stderr",
     "output_type": "stream",
     "text": [
      "/Users/anikethramesh/anaconda3/envs/py36/lib/python3.6/site-packages/pandas/core/indexing.py:670: SettingWithCopyWarning: \n",
      "A value is trying to be set on a copy of a slice from a DataFrame\n",
      "\n",
      "See the caveats in the documentation: https://pandas.pydata.org/pandas-docs/stable/user_guide/indexing.html#returning-a-view-versus-a-copy\n",
      "  iloc._setitem_with_indexer(indexer, value)\n"
     ]
    },
    {
     "name": "stdout",
     "output_type": "stream",
     "text": [
      "Parsing pickle file /Volumes/Aniketh/rosbags/NovemberTrial_1/obstaclesRoughTerrainLaserNoise_medium_1.pickle\n"
     ]
    },
    {
     "name": "stderr",
     "output_type": "stream",
     "text": [
      "/Users/anikethramesh/anaconda3/envs/py36/lib/python3.6/site-packages/pandas/core/indexing.py:670: SettingWithCopyWarning: \n",
      "A value is trying to be set on a copy of a slice from a DataFrame\n",
      "\n",
      "See the caveats in the documentation: https://pandas.pydata.org/pandas-docs/stable/user_guide/indexing.html#returning-a-view-versus-a-copy\n",
      "  iloc._setitem_with_indexer(indexer, value)\n"
     ]
    },
    {
     "name": "stdout",
     "output_type": "stream",
     "text": [
      "Parsing pickle file /Volumes/Aniketh/rosbags/NovemberTrial_1/obstaclesRoughTerrainLaserNoise_medium_2.pickle\n"
     ]
    },
    {
     "name": "stderr",
     "output_type": "stream",
     "text": [
      "/Users/anikethramesh/anaconda3/envs/py36/lib/python3.6/site-packages/pandas/core/indexing.py:670: SettingWithCopyWarning: \n",
      "A value is trying to be set on a copy of a slice from a DataFrame\n",
      "\n",
      "See the caveats in the documentation: https://pandas.pydata.org/pandas-docs/stable/user_guide/indexing.html#returning-a-view-versus-a-copy\n",
      "  iloc._setitem_with_indexer(indexer, value)\n"
     ]
    },
    {
     "name": "stdout",
     "output_type": "stream",
     "text": [
      "Parsing pickle file /Volumes/Aniketh/rosbags/NovemberTrial_1/obstaclesRoughTerrainLaserNoise_medium_3.pickle\n"
     ]
    },
    {
     "name": "stderr",
     "output_type": "stream",
     "text": [
      "/Users/anikethramesh/anaconda3/envs/py36/lib/python3.6/site-packages/pandas/core/indexing.py:670: SettingWithCopyWarning: \n",
      "A value is trying to be set on a copy of a slice from a DataFrame\n",
      "\n",
      "See the caveats in the documentation: https://pandas.pydata.org/pandas-docs/stable/user_guide/indexing.html#returning-a-view-versus-a-copy\n",
      "  iloc._setitem_with_indexer(indexer, value)\n"
     ]
    },
    {
     "name": "stdout",
     "output_type": "stream",
     "text": [
      "Parsing pickle file /Volumes/Aniketh/rosbags/NovemberTrial_1/obstaclesRoughTerrainLaserNoise_medium_4.pickle\n"
     ]
    },
    {
     "name": "stderr",
     "output_type": "stream",
     "text": [
      "/Users/anikethramesh/anaconda3/envs/py36/lib/python3.6/site-packages/pandas/core/indexing.py:670: SettingWithCopyWarning: \n",
      "A value is trying to be set on a copy of a slice from a DataFrame\n",
      "\n",
      "See the caveats in the documentation: https://pandas.pydata.org/pandas-docs/stable/user_guide/indexing.html#returning-a-view-versus-a-copy\n",
      "  iloc._setitem_with_indexer(indexer, value)\n"
     ]
    },
    {
     "name": "stdout",
     "output_type": "stream",
     "text": [
      "Parsing pickle file /Volumes/Aniketh/rosbags/NovemberTrial_1/obstaclesRoughTerrainLaserNoise_medium_5.pickle\n"
     ]
    },
    {
     "name": "stderr",
     "output_type": "stream",
     "text": [
      "/Users/anikethramesh/anaconda3/envs/py36/lib/python3.6/site-packages/pandas/core/indexing.py:670: SettingWithCopyWarning: \n",
      "A value is trying to be set on a copy of a slice from a DataFrame\n",
      "\n",
      "See the caveats in the documentation: https://pandas.pydata.org/pandas-docs/stable/user_guide/indexing.html#returning-a-view-versus-a-copy\n",
      "  iloc._setitem_with_indexer(indexer, value)\n"
     ]
    },
    {
     "name": "stdout",
     "output_type": "stream",
     "text": [
      "Parsing pickle file /Volumes/Aniketh/rosbags/NovemberTrial_1/obstaclesRoughTerrainLaserNoise_hard_1.pickle\n"
     ]
    },
    {
     "name": "stderr",
     "output_type": "stream",
     "text": [
      "/Users/anikethramesh/anaconda3/envs/py36/lib/python3.6/site-packages/pandas/core/indexing.py:670: SettingWithCopyWarning: \n",
      "A value is trying to be set on a copy of a slice from a DataFrame\n",
      "\n",
      "See the caveats in the documentation: https://pandas.pydata.org/pandas-docs/stable/user_guide/indexing.html#returning-a-view-versus-a-copy\n",
      "  iloc._setitem_with_indexer(indexer, value)\n"
     ]
    },
    {
     "name": "stdout",
     "output_type": "stream",
     "text": [
      "Parsing pickle file /Volumes/Aniketh/rosbags/NovemberTrial_1/obstaclesRoughTerrainLaserNoise_hard_2.pickle\n"
     ]
    },
    {
     "name": "stderr",
     "output_type": "stream",
     "text": [
      "/Users/anikethramesh/anaconda3/envs/py36/lib/python3.6/site-packages/pandas/core/indexing.py:670: SettingWithCopyWarning: \n",
      "A value is trying to be set on a copy of a slice from a DataFrame\n",
      "\n",
      "See the caveats in the documentation: https://pandas.pydata.org/pandas-docs/stable/user_guide/indexing.html#returning-a-view-versus-a-copy\n",
      "  iloc._setitem_with_indexer(indexer, value)\n"
     ]
    },
    {
     "name": "stdout",
     "output_type": "stream",
     "text": [
      "Parsing pickle file /Volumes/Aniketh/rosbags/NovemberTrial_1/obstaclesRoughTerrainLaserNoise_hard_3.pickle\n"
     ]
    },
    {
     "name": "stderr",
     "output_type": "stream",
     "text": [
      "/Users/anikethramesh/anaconda3/envs/py36/lib/python3.6/site-packages/pandas/core/indexing.py:670: SettingWithCopyWarning: \n",
      "A value is trying to be set on a copy of a slice from a DataFrame\n",
      "\n",
      "See the caveats in the documentation: https://pandas.pydata.org/pandas-docs/stable/user_guide/indexing.html#returning-a-view-versus-a-copy\n",
      "  iloc._setitem_with_indexer(indexer, value)\n"
     ]
    },
    {
     "name": "stdout",
     "output_type": "stream",
     "text": [
      "Parsing pickle file /Volumes/Aniketh/rosbags/NovemberTrial_1/obstaclesRoughTerrainLaserNoise_hard_4.pickle\n"
     ]
    },
    {
     "name": "stderr",
     "output_type": "stream",
     "text": [
      "/Users/anikethramesh/anaconda3/envs/py36/lib/python3.6/site-packages/pandas/core/indexing.py:670: SettingWithCopyWarning: \n",
      "A value is trying to be set on a copy of a slice from a DataFrame\n",
      "\n",
      "See the caveats in the documentation: https://pandas.pydata.org/pandas-docs/stable/user_guide/indexing.html#returning-a-view-versus-a-copy\n",
      "  iloc._setitem_with_indexer(indexer, value)\n"
     ]
    },
    {
     "name": "stdout",
     "output_type": "stream",
     "text": [
      "Parsing pickle file /Volumes/Aniketh/rosbags/NovemberTrial_1/obstaclesRoughTerrainLaserNoise_hard_5.pickle\n"
     ]
    },
    {
     "name": "stderr",
     "output_type": "stream",
     "text": [
      "/Users/anikethramesh/anaconda3/envs/py36/lib/python3.6/site-packages/pandas/core/indexing.py:670: SettingWithCopyWarning: \n",
      "A value is trying to be set on a copy of a slice from a DataFrame\n",
      "\n",
      "See the caveats in the documentation: https://pandas.pydata.org/pandas-docs/stable/user_guide/indexing.html#returning-a-view-versus-a-copy\n",
      "  iloc._setitem_with_indexer(indexer, value)\n"
     ]
    }
   ],
   "source": [
    "import os\n",
    "directory = r'/Volumes/Aniketh/rosbags/NovemberTrial_1'\n",
    "# n = len(os.listdir(directory))\n",
    "matrix = []\n",
    "# count = 0\n",
    "for filename in os.listdir(directory):\n",
    "    if filename.endswith('bag'):\n",
    "        df_filename = filename[:-3]+'pickle'\n",
    "        info_dict_filename = filename[:-4]+'__info_dict.pickle'\n",
    "        myList = dataframe_parser(os.path.join(directory, df_filename),os.path.join(directory, info_dict_filename),filename.split('_')[0],filename.split('_')[1],filename.split('_')[2][:-4])\n",
    "        matrix.append(myList)\n",
    "#         matrix[count,1] = myArray[1]\n",
    "#         count = count + 1\n",
    "\n",
    "df = pd.DataFrame(matrix,columns = ['average_robotHealth','timeTaken','Arena','Difficulty','Trial'])\n"
   ]
  },
  {
   "cell_type": "code",
   "execution_count": 33,
   "metadata": {},
   "outputs": [],
   "source": [
    "df['Arena'] = df['Arena'].replace('obstacles','Uneven Terrain')\n",
    "df['Arena'] = df['Arena'].replace('snr','Laser Noise')\n",
    "df['Arena'] = df['Arena'].replace('obstaclesRoughTerrainLaserNoise','Noise and Uneven Terrain')\n"
   ]
  },
  {
   "cell_type": "code",
   "execution_count": 34,
   "metadata": {},
   "outputs": [
    {
     "data": {
      "text/html": [
       "<div>\n",
       "<style scoped>\n",
       "    .dataframe tbody tr th:only-of-type {\n",
       "        vertical-align: middle;\n",
       "    }\n",
       "\n",
       "    .dataframe tbody tr th {\n",
       "        vertical-align: top;\n",
       "    }\n",
       "\n",
       "    .dataframe thead th {\n",
       "        text-align: right;\n",
       "    }\n",
       "</style>\n",
       "<table border=\"1\" class=\"dataframe\">\n",
       "  <thead>\n",
       "    <tr style=\"text-align: right;\">\n",
       "      <th></th>\n",
       "      <th>average_robotHealth</th>\n",
       "      <th>timeTaken</th>\n",
       "      <th>Arena</th>\n",
       "      <th>Difficulty</th>\n",
       "      <th>Trial</th>\n",
       "    </tr>\n",
       "  </thead>\n",
       "  <tbody>\n",
       "    <tr>\n",
       "      <th>0</th>\n",
       "      <td>-0.728020</td>\n",
       "      <td>42.635945</td>\n",
       "      <td>Uneven Terrain</td>\n",
       "      <td>0</td>\n",
       "      <td>1</td>\n",
       "    </tr>\n",
       "    <tr>\n",
       "      <th>1</th>\n",
       "      <td>-0.691093</td>\n",
       "      <td>40.567000</td>\n",
       "      <td>Uneven Terrain</td>\n",
       "      <td>0</td>\n",
       "      <td>2</td>\n",
       "    </tr>\n",
       "    <tr>\n",
       "      <th>2</th>\n",
       "      <td>-0.685066</td>\n",
       "      <td>39.631885</td>\n",
       "      <td>Uneven Terrain</td>\n",
       "      <td>0</td>\n",
       "      <td>3</td>\n",
       "    </tr>\n",
       "    <tr>\n",
       "      <th>3</th>\n",
       "      <td>-0.692744</td>\n",
       "      <td>39.702954</td>\n",
       "      <td>Uneven Terrain</td>\n",
       "      <td>0</td>\n",
       "      <td>4</td>\n",
       "    </tr>\n",
       "    <tr>\n",
       "      <th>4</th>\n",
       "      <td>-0.686723</td>\n",
       "      <td>39.507461</td>\n",
       "      <td>Uneven Terrain</td>\n",
       "      <td>0</td>\n",
       "      <td>5</td>\n",
       "    </tr>\n",
       "    <tr>\n",
       "      <th>5</th>\n",
       "      <td>-1.050454</td>\n",
       "      <td>64.546000</td>\n",
       "      <td>Uneven Terrain</td>\n",
       "      <td>10</td>\n",
       "      <td>1</td>\n",
       "    </tr>\n",
       "    <tr>\n",
       "      <th>6</th>\n",
       "      <td>-1.269821</td>\n",
       "      <td>108.354245</td>\n",
       "      <td>Uneven Terrain</td>\n",
       "      <td>10</td>\n",
       "      <td>2</td>\n",
       "    </tr>\n",
       "    <tr>\n",
       "      <th>7</th>\n",
       "      <td>-1.229904</td>\n",
       "      <td>131.301577</td>\n",
       "      <td>Uneven Terrain</td>\n",
       "      <td>10</td>\n",
       "      <td>3</td>\n",
       "    </tr>\n",
       "    <tr>\n",
       "      <th>8</th>\n",
       "      <td>-1.169083</td>\n",
       "      <td>109.853087</td>\n",
       "      <td>Uneven Terrain</td>\n",
       "      <td>10</td>\n",
       "      <td>4</td>\n",
       "    </tr>\n",
       "    <tr>\n",
       "      <th>9</th>\n",
       "      <td>-1.258128</td>\n",
       "      <td>184.391000</td>\n",
       "      <td>Uneven Terrain</td>\n",
       "      <td>10</td>\n",
       "      <td>5</td>\n",
       "    </tr>\n",
       "    <tr>\n",
       "      <th>10</th>\n",
       "      <td>-1.158598</td>\n",
       "      <td>97.519802</td>\n",
       "      <td>Uneven Terrain</td>\n",
       "      <td>20</td>\n",
       "      <td>1</td>\n",
       "    </tr>\n",
       "    <tr>\n",
       "      <th>11</th>\n",
       "      <td>-1.178418</td>\n",
       "      <td>93.935477</td>\n",
       "      <td>Uneven Terrain</td>\n",
       "      <td>20</td>\n",
       "      <td>2</td>\n",
       "    </tr>\n",
       "    <tr>\n",
       "      <th>12</th>\n",
       "      <td>-1.294427</td>\n",
       "      <td>102.037606</td>\n",
       "      <td>Uneven Terrain</td>\n",
       "      <td>20</td>\n",
       "      <td>3</td>\n",
       "    </tr>\n",
       "    <tr>\n",
       "      <th>13</th>\n",
       "      <td>-0.817653</td>\n",
       "      <td>42.177778</td>\n",
       "      <td>Uneven Terrain</td>\n",
       "      <td>20</td>\n",
       "      <td>4</td>\n",
       "    </tr>\n",
       "    <tr>\n",
       "      <th>14</th>\n",
       "      <td>-1.348634</td>\n",
       "      <td>290.827443</td>\n",
       "      <td>Uneven Terrain</td>\n",
       "      <td>20</td>\n",
       "      <td>5</td>\n",
       "    </tr>\n",
       "    <tr>\n",
       "      <th>15</th>\n",
       "      <td>-1.253462</td>\n",
       "      <td>135.828165</td>\n",
       "      <td>Uneven Terrain</td>\n",
       "      <td>40</td>\n",
       "      <td>1</td>\n",
       "    </tr>\n",
       "    <tr>\n",
       "      <th>16</th>\n",
       "      <td>-1.273249</td>\n",
       "      <td>132.663782</td>\n",
       "      <td>Uneven Terrain</td>\n",
       "      <td>40</td>\n",
       "      <td>2</td>\n",
       "    </tr>\n",
       "    <tr>\n",
       "      <th>17</th>\n",
       "      <td>-1.070601</td>\n",
       "      <td>68.973734</td>\n",
       "      <td>Uneven Terrain</td>\n",
       "      <td>40</td>\n",
       "      <td>3</td>\n",
       "    </tr>\n",
       "    <tr>\n",
       "      <th>18</th>\n",
       "      <td>-1.501470</td>\n",
       "      <td>250.018476</td>\n",
       "      <td>Uneven Terrain</td>\n",
       "      <td>40</td>\n",
       "      <td>4</td>\n",
       "    </tr>\n",
       "    <tr>\n",
       "      <th>19</th>\n",
       "      <td>-1.341835</td>\n",
       "      <td>128.474000</td>\n",
       "      <td>Uneven Terrain</td>\n",
       "      <td>40</td>\n",
       "      <td>5</td>\n",
       "    </tr>\n",
       "    <tr>\n",
       "      <th>20</th>\n",
       "      <td>-0.728020</td>\n",
       "      <td>42.635945</td>\n",
       "      <td>Laser Noise</td>\n",
       "      <td>0</td>\n",
       "      <td>1</td>\n",
       "    </tr>\n",
       "    <tr>\n",
       "      <th>21</th>\n",
       "      <td>-0.691093</td>\n",
       "      <td>40.567000</td>\n",
       "      <td>Laser Noise</td>\n",
       "      <td>0</td>\n",
       "      <td>2</td>\n",
       "    </tr>\n",
       "    <tr>\n",
       "      <th>22</th>\n",
       "      <td>-0.685066</td>\n",
       "      <td>39.631885</td>\n",
       "      <td>Laser Noise</td>\n",
       "      <td>0</td>\n",
       "      <td>3</td>\n",
       "    </tr>\n",
       "    <tr>\n",
       "      <th>23</th>\n",
       "      <td>-0.692744</td>\n",
       "      <td>39.702954</td>\n",
       "      <td>Laser Noise</td>\n",
       "      <td>0</td>\n",
       "      <td>4</td>\n",
       "    </tr>\n",
       "    <tr>\n",
       "      <th>24</th>\n",
       "      <td>-0.686723</td>\n",
       "      <td>39.507461</td>\n",
       "      <td>Laser Noise</td>\n",
       "      <td>0</td>\n",
       "      <td>5</td>\n",
       "    </tr>\n",
       "    <tr>\n",
       "      <th>25</th>\n",
       "      <td>-1.000406</td>\n",
       "      <td>47.842000</td>\n",
       "      <td>Laser Noise</td>\n",
       "      <td>03</td>\n",
       "      <td>1</td>\n",
       "    </tr>\n",
       "    <tr>\n",
       "      <th>26</th>\n",
       "      <td>-1.164704</td>\n",
       "      <td>87.159492</td>\n",
       "      <td>Laser Noise</td>\n",
       "      <td>03</td>\n",
       "      <td>2</td>\n",
       "    </tr>\n",
       "    <tr>\n",
       "      <th>27</th>\n",
       "      <td>-1.010845</td>\n",
       "      <td>51.505038</td>\n",
       "      <td>Laser Noise</td>\n",
       "      <td>03</td>\n",
       "      <td>3</td>\n",
       "    </tr>\n",
       "    <tr>\n",
       "      <th>28</th>\n",
       "      <td>-0.974892</td>\n",
       "      <td>54.404555</td>\n",
       "      <td>Laser Noise</td>\n",
       "      <td>03</td>\n",
       "      <td>4</td>\n",
       "    </tr>\n",
       "    <tr>\n",
       "      <th>29</th>\n",
       "      <td>-1.118588</td>\n",
       "      <td>82.557453</td>\n",
       "      <td>Laser Noise</td>\n",
       "      <td>03</td>\n",
       "      <td>5</td>\n",
       "    </tr>\n",
       "    <tr>\n",
       "      <th>30</th>\n",
       "      <td>-1.213802</td>\n",
       "      <td>99.143432</td>\n",
       "      <td>Laser Noise</td>\n",
       "      <td>04</td>\n",
       "      <td>1</td>\n",
       "    </tr>\n",
       "    <tr>\n",
       "      <th>31</th>\n",
       "      <td>-0.976394</td>\n",
       "      <td>56.405975</td>\n",
       "      <td>Laser Noise</td>\n",
       "      <td>04</td>\n",
       "      <td>2</td>\n",
       "    </tr>\n",
       "    <tr>\n",
       "      <th>32</th>\n",
       "      <td>-0.984423</td>\n",
       "      <td>57.817506</td>\n",
       "      <td>Laser Noise</td>\n",
       "      <td>04</td>\n",
       "      <td>3</td>\n",
       "    </tr>\n",
       "    <tr>\n",
       "      <th>33</th>\n",
       "      <td>-1.167918</td>\n",
       "      <td>91.789727</td>\n",
       "      <td>Laser Noise</td>\n",
       "      <td>04</td>\n",
       "      <td>4</td>\n",
       "    </tr>\n",
       "    <tr>\n",
       "      <th>34</th>\n",
       "      <td>-1.094489</td>\n",
       "      <td>77.565551</td>\n",
       "      <td>Laser Noise</td>\n",
       "      <td>04</td>\n",
       "      <td>5</td>\n",
       "    </tr>\n",
       "    <tr>\n",
       "      <th>35</th>\n",
       "      <td>-0.982805</td>\n",
       "      <td>54.804449</td>\n",
       "      <td>Laser Noise</td>\n",
       "      <td>05</td>\n",
       "      <td>1</td>\n",
       "    </tr>\n",
       "    <tr>\n",
       "      <th>36</th>\n",
       "      <td>-1.042948</td>\n",
       "      <td>77.892748</td>\n",
       "      <td>Laser Noise</td>\n",
       "      <td>05</td>\n",
       "      <td>2</td>\n",
       "    </tr>\n",
       "    <tr>\n",
       "      <th>37</th>\n",
       "      <td>-1.217990</td>\n",
       "      <td>101.440850</td>\n",
       "      <td>Laser Noise</td>\n",
       "      <td>05</td>\n",
       "      <td>3</td>\n",
       "    </tr>\n",
       "    <tr>\n",
       "      <th>38</th>\n",
       "      <td>-1.071397</td>\n",
       "      <td>74.689012</td>\n",
       "      <td>Laser Noise</td>\n",
       "      <td>05</td>\n",
       "      <td>4</td>\n",
       "    </tr>\n",
       "    <tr>\n",
       "      <th>39</th>\n",
       "      <td>-1.194908</td>\n",
       "      <td>147.001467</td>\n",
       "      <td>Laser Noise</td>\n",
       "      <td>05</td>\n",
       "      <td>5</td>\n",
       "    </tr>\n",
       "    <tr>\n",
       "      <th>40</th>\n",
       "      <td>-1.152214</td>\n",
       "      <td>79.812096</td>\n",
       "      <td>Laser Noise</td>\n",
       "      <td>06</td>\n",
       "      <td>1</td>\n",
       "    </tr>\n",
       "    <tr>\n",
       "      <th>41</th>\n",
       "      <td>-1.194021</td>\n",
       "      <td>94.866685</td>\n",
       "      <td>Laser Noise</td>\n",
       "      <td>06</td>\n",
       "      <td>2</td>\n",
       "    </tr>\n",
       "    <tr>\n",
       "      <th>42</th>\n",
       "      <td>-1.142989</td>\n",
       "      <td>91.686198</td>\n",
       "      <td>Laser Noise</td>\n",
       "      <td>06</td>\n",
       "      <td>3</td>\n",
       "    </tr>\n",
       "    <tr>\n",
       "      <th>43</th>\n",
       "      <td>-1.073188</td>\n",
       "      <td>79.966552</td>\n",
       "      <td>Laser Noise</td>\n",
       "      <td>06</td>\n",
       "      <td>4</td>\n",
       "    </tr>\n",
       "    <tr>\n",
       "      <th>44</th>\n",
       "      <td>-1.103076</td>\n",
       "      <td>78.077144</td>\n",
       "      <td>Laser Noise</td>\n",
       "      <td>06</td>\n",
       "      <td>5</td>\n",
       "    </tr>\n",
       "    <tr>\n",
       "      <th>45</th>\n",
       "      <td>-1.267239</td>\n",
       "      <td>115.451098</td>\n",
       "      <td>Noise and Uneven Terrain</td>\n",
       "      <td>easy</td>\n",
       "      <td>1</td>\n",
       "    </tr>\n",
       "    <tr>\n",
       "      <th>46</th>\n",
       "      <td>-1.169573</td>\n",
       "      <td>86.052398</td>\n",
       "      <td>Noise and Uneven Terrain</td>\n",
       "      <td>easy</td>\n",
       "      <td>2</td>\n",
       "    </tr>\n",
       "    <tr>\n",
       "      <th>47</th>\n",
       "      <td>-1.036441</td>\n",
       "      <td>61.442445</td>\n",
       "      <td>Noise and Uneven Terrain</td>\n",
       "      <td>easy</td>\n",
       "      <td>3</td>\n",
       "    </tr>\n",
       "    <tr>\n",
       "      <th>48</th>\n",
       "      <td>-1.279095</td>\n",
       "      <td>110.009000</td>\n",
       "      <td>Noise and Uneven Terrain</td>\n",
       "      <td>easy</td>\n",
       "      <td>4</td>\n",
       "    </tr>\n",
       "    <tr>\n",
       "      <th>49</th>\n",
       "      <td>-1.453156</td>\n",
       "      <td>123.425361</td>\n",
       "      <td>Noise and Uneven Terrain</td>\n",
       "      <td>easy</td>\n",
       "      <td>5</td>\n",
       "    </tr>\n",
       "    <tr>\n",
       "      <th>50</th>\n",
       "      <td>-1.203433</td>\n",
       "      <td>92.541882</td>\n",
       "      <td>Noise and Uneven Terrain</td>\n",
       "      <td>medium</td>\n",
       "      <td>1</td>\n",
       "    </tr>\n",
       "    <tr>\n",
       "      <th>51</th>\n",
       "      <td>-1.440556</td>\n",
       "      <td>210.694059</td>\n",
       "      <td>Noise and Uneven Terrain</td>\n",
       "      <td>medium</td>\n",
       "      <td>2</td>\n",
       "    </tr>\n",
       "    <tr>\n",
       "      <th>52</th>\n",
       "      <td>-1.122076</td>\n",
       "      <td>76.191828</td>\n",
       "      <td>Noise and Uneven Terrain</td>\n",
       "      <td>medium</td>\n",
       "      <td>3</td>\n",
       "    </tr>\n",
       "    <tr>\n",
       "      <th>53</th>\n",
       "      <td>-1.172541</td>\n",
       "      <td>91.417399</td>\n",
       "      <td>Noise and Uneven Terrain</td>\n",
       "      <td>medium</td>\n",
       "      <td>4</td>\n",
       "    </tr>\n",
       "    <tr>\n",
       "      <th>54</th>\n",
       "      <td>-1.152256</td>\n",
       "      <td>82.393323</td>\n",
       "      <td>Noise and Uneven Terrain</td>\n",
       "      <td>medium</td>\n",
       "      <td>5</td>\n",
       "    </tr>\n",
       "    <tr>\n",
       "      <th>55</th>\n",
       "      <td>-1.261278</td>\n",
       "      <td>121.103657</td>\n",
       "      <td>Noise and Uneven Terrain</td>\n",
       "      <td>hard</td>\n",
       "      <td>1</td>\n",
       "    </tr>\n",
       "    <tr>\n",
       "      <th>56</th>\n",
       "      <td>-1.442674</td>\n",
       "      <td>319.478478</td>\n",
       "      <td>Noise and Uneven Terrain</td>\n",
       "      <td>hard</td>\n",
       "      <td>2</td>\n",
       "    </tr>\n",
       "    <tr>\n",
       "      <th>57</th>\n",
       "      <td>-1.444337</td>\n",
       "      <td>109.143231</td>\n",
       "      <td>Noise and Uneven Terrain</td>\n",
       "      <td>hard</td>\n",
       "      <td>3</td>\n",
       "    </tr>\n",
       "    <tr>\n",
       "      <th>58</th>\n",
       "      <td>-1.393346</td>\n",
       "      <td>211.251648</td>\n",
       "      <td>Noise and Uneven Terrain</td>\n",
       "      <td>hard</td>\n",
       "      <td>4</td>\n",
       "    </tr>\n",
       "    <tr>\n",
       "      <th>59</th>\n",
       "      <td>-1.394672</td>\n",
       "      <td>256.475527</td>\n",
       "      <td>Noise and Uneven Terrain</td>\n",
       "      <td>hard</td>\n",
       "      <td>5</td>\n",
       "    </tr>\n",
       "  </tbody>\n",
       "</table>\n",
       "</div>"
      ],
      "text/plain": [
       "    average_robotHealth   timeTaken                     Arena Difficulty Trial\n",
       "0             -0.728020   42.635945            Uneven Terrain          0     1\n",
       "1             -0.691093   40.567000            Uneven Terrain          0     2\n",
       "2             -0.685066   39.631885            Uneven Terrain          0     3\n",
       "3             -0.692744   39.702954            Uneven Terrain          0     4\n",
       "4             -0.686723   39.507461            Uneven Terrain          0     5\n",
       "5             -1.050454   64.546000            Uneven Terrain         10     1\n",
       "6             -1.269821  108.354245            Uneven Terrain         10     2\n",
       "7             -1.229904  131.301577            Uneven Terrain         10     3\n",
       "8             -1.169083  109.853087            Uneven Terrain         10     4\n",
       "9             -1.258128  184.391000            Uneven Terrain         10     5\n",
       "10            -1.158598   97.519802            Uneven Terrain         20     1\n",
       "11            -1.178418   93.935477            Uneven Terrain         20     2\n",
       "12            -1.294427  102.037606            Uneven Terrain         20     3\n",
       "13            -0.817653   42.177778            Uneven Terrain         20     4\n",
       "14            -1.348634  290.827443            Uneven Terrain         20     5\n",
       "15            -1.253462  135.828165            Uneven Terrain         40     1\n",
       "16            -1.273249  132.663782            Uneven Terrain         40     2\n",
       "17            -1.070601   68.973734            Uneven Terrain         40     3\n",
       "18            -1.501470  250.018476            Uneven Terrain         40     4\n",
       "19            -1.341835  128.474000            Uneven Terrain         40     5\n",
       "20            -0.728020   42.635945               Laser Noise          0     1\n",
       "21            -0.691093   40.567000               Laser Noise          0     2\n",
       "22            -0.685066   39.631885               Laser Noise          0     3\n",
       "23            -0.692744   39.702954               Laser Noise          0     4\n",
       "24            -0.686723   39.507461               Laser Noise          0     5\n",
       "25            -1.000406   47.842000               Laser Noise         03     1\n",
       "26            -1.164704   87.159492               Laser Noise         03     2\n",
       "27            -1.010845   51.505038               Laser Noise         03     3\n",
       "28            -0.974892   54.404555               Laser Noise         03     4\n",
       "29            -1.118588   82.557453               Laser Noise         03     5\n",
       "30            -1.213802   99.143432               Laser Noise         04     1\n",
       "31            -0.976394   56.405975               Laser Noise         04     2\n",
       "32            -0.984423   57.817506               Laser Noise         04     3\n",
       "33            -1.167918   91.789727               Laser Noise         04     4\n",
       "34            -1.094489   77.565551               Laser Noise         04     5\n",
       "35            -0.982805   54.804449               Laser Noise         05     1\n",
       "36            -1.042948   77.892748               Laser Noise         05     2\n",
       "37            -1.217990  101.440850               Laser Noise         05     3\n",
       "38            -1.071397   74.689012               Laser Noise         05     4\n",
       "39            -1.194908  147.001467               Laser Noise         05     5\n",
       "40            -1.152214   79.812096               Laser Noise         06     1\n",
       "41            -1.194021   94.866685               Laser Noise         06     2\n",
       "42            -1.142989   91.686198               Laser Noise         06     3\n",
       "43            -1.073188   79.966552               Laser Noise         06     4\n",
       "44            -1.103076   78.077144               Laser Noise         06     5\n",
       "45            -1.267239  115.451098  Noise and Uneven Terrain       easy     1\n",
       "46            -1.169573   86.052398  Noise and Uneven Terrain       easy     2\n",
       "47            -1.036441   61.442445  Noise and Uneven Terrain       easy     3\n",
       "48            -1.279095  110.009000  Noise and Uneven Terrain       easy     4\n",
       "49            -1.453156  123.425361  Noise and Uneven Terrain       easy     5\n",
       "50            -1.203433   92.541882  Noise and Uneven Terrain     medium     1\n",
       "51            -1.440556  210.694059  Noise and Uneven Terrain     medium     2\n",
       "52            -1.122076   76.191828  Noise and Uneven Terrain     medium     3\n",
       "53            -1.172541   91.417399  Noise and Uneven Terrain     medium     4\n",
       "54            -1.152256   82.393323  Noise and Uneven Terrain     medium     5\n",
       "55            -1.261278  121.103657  Noise and Uneven Terrain       hard     1\n",
       "56            -1.442674  319.478478  Noise and Uneven Terrain       hard     2\n",
       "57            -1.444337  109.143231  Noise and Uneven Terrain       hard     3\n",
       "58            -1.393346  211.251648  Noise and Uneven Terrain       hard     4\n",
       "59            -1.394672  256.475527  Noise and Uneven Terrain       hard     5"
      ]
     },
     "execution_count": 34,
     "metadata": {},
     "output_type": "execute_result"
    }
   ],
   "source": [
    "df"
   ]
  },
  {
   "cell_type": "code",
   "execution_count": 41,
   "metadata": {},
   "outputs": [
    {
     "ename": "AttributeError",
     "evalue": "'DataFrame' object has no attribute 'Arena'",
     "output_type": "error",
     "traceback": [
      "\u001b[0;31m---------------------------------------------------------------------------\u001b[0m",
      "\u001b[0;31mAttributeError\u001b[0m                            Traceback (most recent call last)",
      "\u001b[0;32m<ipython-input-41-69f41e623ed2>\u001b[0m in \u001b[0;36m<module>\u001b[0;34m\u001b[0m\n\u001b[0;32m----> 1\u001b[0;31m \u001b[0mdf\u001b[0m\u001b[0;34m.\u001b[0m\u001b[0mloc\u001b[0m\u001b[0;34m[\u001b[0m\u001b[0;34m(\u001b[0m\u001b[0mdf\u001b[0m\u001b[0;34m.\u001b[0m\u001b[0mArena\u001b[0m \u001b[0;34m==\u001b[0m \u001b[0;34m'Uneven Terrain'\u001b[0m\u001b[0;34m)\u001b[0m \u001b[0;34m&\u001b[0m \u001b[0;34m(\u001b[0m\u001b[0mdf\u001b[0m\u001b[0;34m.\u001b[0m\u001b[0mDifficulty\u001b[0m \u001b[0;34m==\u001b[0m \u001b[0;34m'0'\u001b[0m\u001b[0;34m)\u001b[0m\u001b[0;34m,\u001b[0m \u001b[0;34m'Level'\u001b[0m\u001b[0;34m]\u001b[0m \u001b[0;34m=\u001b[0m \u001b[0;34m'Baseline'\u001b[0m\u001b[0;34m\u001b[0m\u001b[0;34m\u001b[0m\u001b[0m\n\u001b[0m\u001b[1;32m      2\u001b[0m \u001b[0mdf\u001b[0m\u001b[0;34m.\u001b[0m\u001b[0mloc\u001b[0m\u001b[0;34m[\u001b[0m\u001b[0;34m(\u001b[0m\u001b[0mdf\u001b[0m\u001b[0;34m.\u001b[0m\u001b[0mArena\u001b[0m \u001b[0;34m==\u001b[0m \u001b[0;34m'Laser Noise'\u001b[0m\u001b[0;34m)\u001b[0m \u001b[0;34m&\u001b[0m \u001b[0;34m(\u001b[0m\u001b[0mdf\u001b[0m\u001b[0;34m.\u001b[0m\u001b[0mDifficulty\u001b[0m \u001b[0;34m==\u001b[0m \u001b[0;34m'0'\u001b[0m\u001b[0;34m)\u001b[0m\u001b[0;34m,\u001b[0m \u001b[0;34m'Level'\u001b[0m\u001b[0;34m]\u001b[0m \u001b[0;34m=\u001b[0m \u001b[0;34m'Baseline'\u001b[0m\u001b[0;34m\u001b[0m\u001b[0;34m\u001b[0m\u001b[0m\n\u001b[1;32m      3\u001b[0m \u001b[0;34m\u001b[0m\u001b[0m\n\u001b[1;32m      4\u001b[0m \u001b[0mdf\u001b[0m\u001b[0;34m.\u001b[0m\u001b[0mloc\u001b[0m\u001b[0;34m[\u001b[0m\u001b[0;34m(\u001b[0m\u001b[0mdf\u001b[0m\u001b[0;34m.\u001b[0m\u001b[0mArena\u001b[0m \u001b[0;34m==\u001b[0m \u001b[0;34m'Uneven Terrain'\u001b[0m\u001b[0;34m)\u001b[0m \u001b[0;34m&\u001b[0m \u001b[0;34m(\u001b[0m\u001b[0mdf\u001b[0m\u001b[0;34m.\u001b[0m\u001b[0mDifficulty\u001b[0m \u001b[0;34m==\u001b[0m \u001b[0;34m'10'\u001b[0m\u001b[0;34m)\u001b[0m\u001b[0;34m,\u001b[0m \u001b[0;34m'Level'\u001b[0m\u001b[0;34m]\u001b[0m \u001b[0;34m=\u001b[0m \u001b[0;34m'Level 1'\u001b[0m\u001b[0;34m\u001b[0m\u001b[0;34m\u001b[0m\u001b[0m\n\u001b[1;32m      5\u001b[0m \u001b[0mdf\u001b[0m\u001b[0;34m.\u001b[0m\u001b[0mloc\u001b[0m\u001b[0;34m[\u001b[0m\u001b[0;34m(\u001b[0m\u001b[0mdf\u001b[0m\u001b[0;34m.\u001b[0m\u001b[0mArena\u001b[0m \u001b[0;34m==\u001b[0m \u001b[0;34m'Uneven Terrain'\u001b[0m\u001b[0;34m)\u001b[0m \u001b[0;34m&\u001b[0m \u001b[0;34m(\u001b[0m\u001b[0mdf\u001b[0m\u001b[0;34m.\u001b[0m\u001b[0mDifficulty\u001b[0m \u001b[0;34m==\u001b[0m \u001b[0;34m'20'\u001b[0m\u001b[0;34m)\u001b[0m\u001b[0;34m,\u001b[0m \u001b[0;34m'Level'\u001b[0m\u001b[0;34m]\u001b[0m \u001b[0;34m=\u001b[0m \u001b[0;34m'Level 2'\u001b[0m\u001b[0;34m\u001b[0m\u001b[0;34m\u001b[0m\u001b[0m\n",
      "\u001b[0;32m~/anaconda3/envs/py36/lib/python3.6/site-packages/pandas/core/generic.py\u001b[0m in \u001b[0;36m__getattr__\u001b[0;34m(self, name)\u001b[0m\n\u001b[1;32m   5139\u001b[0m             \u001b[0;32mif\u001b[0m \u001b[0mself\u001b[0m\u001b[0;34m.\u001b[0m\u001b[0m_info_axis\u001b[0m\u001b[0;34m.\u001b[0m\u001b[0m_can_hold_identifiers_and_holds_name\u001b[0m\u001b[0;34m(\u001b[0m\u001b[0mname\u001b[0m\u001b[0;34m)\u001b[0m\u001b[0;34m:\u001b[0m\u001b[0;34m\u001b[0m\u001b[0;34m\u001b[0m\u001b[0m\n\u001b[1;32m   5140\u001b[0m                 \u001b[0;32mreturn\u001b[0m \u001b[0mself\u001b[0m\u001b[0;34m[\u001b[0m\u001b[0mname\u001b[0m\u001b[0;34m]\u001b[0m\u001b[0;34m\u001b[0m\u001b[0;34m\u001b[0m\u001b[0m\n\u001b[0;32m-> 5141\u001b[0;31m             \u001b[0;32mreturn\u001b[0m \u001b[0mobject\u001b[0m\u001b[0;34m.\u001b[0m\u001b[0m__getattribute__\u001b[0m\u001b[0;34m(\u001b[0m\u001b[0mself\u001b[0m\u001b[0;34m,\u001b[0m \u001b[0mname\u001b[0m\u001b[0;34m)\u001b[0m\u001b[0;34m\u001b[0m\u001b[0;34m\u001b[0m\u001b[0m\n\u001b[0m\u001b[1;32m   5142\u001b[0m \u001b[0;34m\u001b[0m\u001b[0m\n\u001b[1;32m   5143\u001b[0m     \u001b[0;32mdef\u001b[0m \u001b[0m__setattr__\u001b[0m\u001b[0;34m(\u001b[0m\u001b[0mself\u001b[0m\u001b[0;34m,\u001b[0m \u001b[0mname\u001b[0m\u001b[0;34m:\u001b[0m \u001b[0mstr\u001b[0m\u001b[0;34m,\u001b[0m \u001b[0mvalue\u001b[0m\u001b[0;34m)\u001b[0m \u001b[0;34m->\u001b[0m \u001b[0;32mNone\u001b[0m\u001b[0;34m:\u001b[0m\u001b[0;34m\u001b[0m\u001b[0;34m\u001b[0m\u001b[0m\n",
      "\u001b[0;31mAttributeError\u001b[0m: 'DataFrame' object has no attribute 'Arena'"
     ]
    }
   ],
   "source": [
    "df.loc[(df.Arena == 'Uneven Terrain') & (df.Difficulty == '0'), 'Level'] = 'Baseline'\n",
    "df.loc[(df.Arena == 'Laser Noise') & (df.Difficulty == '0'), 'Level'] = 'Baseline'\n",
    "\n",
    "df.loc[(df.Arena == 'Uneven Terrain') & (df.Difficulty == '10'), 'Level'] = 'Level 1'\n",
    "df.loc[(df.Arena == 'Uneven Terrain') & (df.Difficulty == '20'), 'Level'] = 'Level 2'\n",
    "df.loc[(df.Arena == 'Uneven Terrain') & (df.Difficulty == '40'), 'Level'] = 'Level 3'\n",
    "\n",
    "df.loc[(df.Arena == 'Laser Noise') & (df.Difficulty == '04'), 'Level'] = 'Level 1'\n",
    "df.loc[(df.Arena == 'Laser Noise') & (df.Difficulty == '05'), 'Level'] = 'Level 2'\n",
    "df.loc[(df.Arena == 'Laser Noise') & (df.Difficulty == '06'), 'Level'] = 'Level 3'\n",
    "\n",
    "df.loc[(df.Arena == 'Noise and Uneven Terrain') & (df.Difficulty == 'easy')  , 'Level'] = 'Level 1'\n",
    "df.loc[(df.Arena == 'Noise and Uneven Terrain') & (df.Difficulty == 'medium'), 'Level'] = 'Level 2'\n",
    "df.loc[(df.Arena == 'Noise and Uneven Terrain') & (df.Difficulty == 'hard'  ), 'Level'] = 'Level 3'"
   ]
  },
  {
   "cell_type": "code",
   "execution_count": 42,
   "metadata": {},
   "outputs": [
    {
     "data": {
      "text/html": [
       "<div>\n",
       "<style scoped>\n",
       "    .dataframe tbody tr th:only-of-type {\n",
       "        vertical-align: middle;\n",
       "    }\n",
       "\n",
       "    .dataframe tbody tr th {\n",
       "        vertical-align: top;\n",
       "    }\n",
       "\n",
       "    .dataframe thead th {\n",
       "        text-align: right;\n",
       "    }\n",
       "</style>\n",
       "<table border=\"1\" class=\"dataframe\">\n",
       "  <thead>\n",
       "    <tr style=\"text-align: right;\">\n",
       "      <th></th>\n",
       "      <th>average_robotHealth</th>\n",
       "      <th>timeTaken</th>\n",
       "      <th>Condition</th>\n",
       "      <th>Difficulty</th>\n",
       "      <th>Trial</th>\n",
       "      <th>Level</th>\n",
       "    </tr>\n",
       "  </thead>\n",
       "  <tbody>\n",
       "    <tr>\n",
       "      <th>0</th>\n",
       "      <td>-0.728020</td>\n",
       "      <td>42.635945</td>\n",
       "      <td>Uneven Terrain</td>\n",
       "      <td>0</td>\n",
       "      <td>1</td>\n",
       "      <td>Baseline</td>\n",
       "    </tr>\n",
       "    <tr>\n",
       "      <th>1</th>\n",
       "      <td>-0.691093</td>\n",
       "      <td>40.567000</td>\n",
       "      <td>Uneven Terrain</td>\n",
       "      <td>0</td>\n",
       "      <td>2</td>\n",
       "      <td>Baseline</td>\n",
       "    </tr>\n",
       "    <tr>\n",
       "      <th>2</th>\n",
       "      <td>-0.685066</td>\n",
       "      <td>39.631885</td>\n",
       "      <td>Uneven Terrain</td>\n",
       "      <td>0</td>\n",
       "      <td>3</td>\n",
       "      <td>Baseline</td>\n",
       "    </tr>\n",
       "    <tr>\n",
       "      <th>3</th>\n",
       "      <td>-0.692744</td>\n",
       "      <td>39.702954</td>\n",
       "      <td>Uneven Terrain</td>\n",
       "      <td>0</td>\n",
       "      <td>4</td>\n",
       "      <td>Baseline</td>\n",
       "    </tr>\n",
       "    <tr>\n",
       "      <th>4</th>\n",
       "      <td>-0.686723</td>\n",
       "      <td>39.507461</td>\n",
       "      <td>Uneven Terrain</td>\n",
       "      <td>0</td>\n",
       "      <td>5</td>\n",
       "      <td>Baseline</td>\n",
       "    </tr>\n",
       "    <tr>\n",
       "      <th>5</th>\n",
       "      <td>-1.050454</td>\n",
       "      <td>64.546000</td>\n",
       "      <td>Uneven Terrain</td>\n",
       "      <td>10</td>\n",
       "      <td>1</td>\n",
       "      <td>Level 1</td>\n",
       "    </tr>\n",
       "    <tr>\n",
       "      <th>6</th>\n",
       "      <td>-1.269821</td>\n",
       "      <td>108.354245</td>\n",
       "      <td>Uneven Terrain</td>\n",
       "      <td>10</td>\n",
       "      <td>2</td>\n",
       "      <td>Level 1</td>\n",
       "    </tr>\n",
       "    <tr>\n",
       "      <th>7</th>\n",
       "      <td>-1.229904</td>\n",
       "      <td>131.301577</td>\n",
       "      <td>Uneven Terrain</td>\n",
       "      <td>10</td>\n",
       "      <td>3</td>\n",
       "      <td>Level 1</td>\n",
       "    </tr>\n",
       "    <tr>\n",
       "      <th>8</th>\n",
       "      <td>-1.169083</td>\n",
       "      <td>109.853087</td>\n",
       "      <td>Uneven Terrain</td>\n",
       "      <td>10</td>\n",
       "      <td>4</td>\n",
       "      <td>Level 1</td>\n",
       "    </tr>\n",
       "    <tr>\n",
       "      <th>9</th>\n",
       "      <td>-1.258128</td>\n",
       "      <td>184.391000</td>\n",
       "      <td>Uneven Terrain</td>\n",
       "      <td>10</td>\n",
       "      <td>5</td>\n",
       "      <td>Level 1</td>\n",
       "    </tr>\n",
       "    <tr>\n",
       "      <th>10</th>\n",
       "      <td>-1.158598</td>\n",
       "      <td>97.519802</td>\n",
       "      <td>Uneven Terrain</td>\n",
       "      <td>20</td>\n",
       "      <td>1</td>\n",
       "      <td>Level 2</td>\n",
       "    </tr>\n",
       "    <tr>\n",
       "      <th>11</th>\n",
       "      <td>-1.178418</td>\n",
       "      <td>93.935477</td>\n",
       "      <td>Uneven Terrain</td>\n",
       "      <td>20</td>\n",
       "      <td>2</td>\n",
       "      <td>Level 2</td>\n",
       "    </tr>\n",
       "    <tr>\n",
       "      <th>12</th>\n",
       "      <td>-1.294427</td>\n",
       "      <td>102.037606</td>\n",
       "      <td>Uneven Terrain</td>\n",
       "      <td>20</td>\n",
       "      <td>3</td>\n",
       "      <td>Level 2</td>\n",
       "    </tr>\n",
       "    <tr>\n",
       "      <th>13</th>\n",
       "      <td>-0.817653</td>\n",
       "      <td>42.177778</td>\n",
       "      <td>Uneven Terrain</td>\n",
       "      <td>20</td>\n",
       "      <td>4</td>\n",
       "      <td>Level 2</td>\n",
       "    </tr>\n",
       "    <tr>\n",
       "      <th>14</th>\n",
       "      <td>-1.348634</td>\n",
       "      <td>290.827443</td>\n",
       "      <td>Uneven Terrain</td>\n",
       "      <td>20</td>\n",
       "      <td>5</td>\n",
       "      <td>Level 2</td>\n",
       "    </tr>\n",
       "    <tr>\n",
       "      <th>15</th>\n",
       "      <td>-1.253462</td>\n",
       "      <td>135.828165</td>\n",
       "      <td>Uneven Terrain</td>\n",
       "      <td>40</td>\n",
       "      <td>1</td>\n",
       "      <td>Level 3</td>\n",
       "    </tr>\n",
       "    <tr>\n",
       "      <th>16</th>\n",
       "      <td>-1.273249</td>\n",
       "      <td>132.663782</td>\n",
       "      <td>Uneven Terrain</td>\n",
       "      <td>40</td>\n",
       "      <td>2</td>\n",
       "      <td>Level 3</td>\n",
       "    </tr>\n",
       "    <tr>\n",
       "      <th>17</th>\n",
       "      <td>-1.070601</td>\n",
       "      <td>68.973734</td>\n",
       "      <td>Uneven Terrain</td>\n",
       "      <td>40</td>\n",
       "      <td>3</td>\n",
       "      <td>Level 3</td>\n",
       "    </tr>\n",
       "    <tr>\n",
       "      <th>18</th>\n",
       "      <td>-1.501470</td>\n",
       "      <td>250.018476</td>\n",
       "      <td>Uneven Terrain</td>\n",
       "      <td>40</td>\n",
       "      <td>4</td>\n",
       "      <td>Level 3</td>\n",
       "    </tr>\n",
       "    <tr>\n",
       "      <th>19</th>\n",
       "      <td>-1.341835</td>\n",
       "      <td>128.474000</td>\n",
       "      <td>Uneven Terrain</td>\n",
       "      <td>40</td>\n",
       "      <td>5</td>\n",
       "      <td>Level 3</td>\n",
       "    </tr>\n",
       "    <tr>\n",
       "      <th>20</th>\n",
       "      <td>-0.728020</td>\n",
       "      <td>42.635945</td>\n",
       "      <td>Laser Noise</td>\n",
       "      <td>0</td>\n",
       "      <td>1</td>\n",
       "      <td>Baseline</td>\n",
       "    </tr>\n",
       "    <tr>\n",
       "      <th>21</th>\n",
       "      <td>-0.691093</td>\n",
       "      <td>40.567000</td>\n",
       "      <td>Laser Noise</td>\n",
       "      <td>0</td>\n",
       "      <td>2</td>\n",
       "      <td>Baseline</td>\n",
       "    </tr>\n",
       "    <tr>\n",
       "      <th>22</th>\n",
       "      <td>-0.685066</td>\n",
       "      <td>39.631885</td>\n",
       "      <td>Laser Noise</td>\n",
       "      <td>0</td>\n",
       "      <td>3</td>\n",
       "      <td>Baseline</td>\n",
       "    </tr>\n",
       "    <tr>\n",
       "      <th>23</th>\n",
       "      <td>-0.692744</td>\n",
       "      <td>39.702954</td>\n",
       "      <td>Laser Noise</td>\n",
       "      <td>0</td>\n",
       "      <td>4</td>\n",
       "      <td>Baseline</td>\n",
       "    </tr>\n",
       "    <tr>\n",
       "      <th>24</th>\n",
       "      <td>-0.686723</td>\n",
       "      <td>39.507461</td>\n",
       "      <td>Laser Noise</td>\n",
       "      <td>0</td>\n",
       "      <td>5</td>\n",
       "      <td>Baseline</td>\n",
       "    </tr>\n",
       "    <tr>\n",
       "      <th>25</th>\n",
       "      <td>-1.000406</td>\n",
       "      <td>47.842000</td>\n",
       "      <td>Laser Noise</td>\n",
       "      <td>03</td>\n",
       "      <td>1</td>\n",
       "      <td>NaN</td>\n",
       "    </tr>\n",
       "    <tr>\n",
       "      <th>26</th>\n",
       "      <td>-1.164704</td>\n",
       "      <td>87.159492</td>\n",
       "      <td>Laser Noise</td>\n",
       "      <td>03</td>\n",
       "      <td>2</td>\n",
       "      <td>NaN</td>\n",
       "    </tr>\n",
       "    <tr>\n",
       "      <th>27</th>\n",
       "      <td>-1.010845</td>\n",
       "      <td>51.505038</td>\n",
       "      <td>Laser Noise</td>\n",
       "      <td>03</td>\n",
       "      <td>3</td>\n",
       "      <td>NaN</td>\n",
       "    </tr>\n",
       "    <tr>\n",
       "      <th>28</th>\n",
       "      <td>-0.974892</td>\n",
       "      <td>54.404555</td>\n",
       "      <td>Laser Noise</td>\n",
       "      <td>03</td>\n",
       "      <td>4</td>\n",
       "      <td>NaN</td>\n",
       "    </tr>\n",
       "    <tr>\n",
       "      <th>29</th>\n",
       "      <td>-1.118588</td>\n",
       "      <td>82.557453</td>\n",
       "      <td>Laser Noise</td>\n",
       "      <td>03</td>\n",
       "      <td>5</td>\n",
       "      <td>NaN</td>\n",
       "    </tr>\n",
       "    <tr>\n",
       "      <th>30</th>\n",
       "      <td>-1.213802</td>\n",
       "      <td>99.143432</td>\n",
       "      <td>Laser Noise</td>\n",
       "      <td>04</td>\n",
       "      <td>1</td>\n",
       "      <td>Level 1</td>\n",
       "    </tr>\n",
       "    <tr>\n",
       "      <th>31</th>\n",
       "      <td>-0.976394</td>\n",
       "      <td>56.405975</td>\n",
       "      <td>Laser Noise</td>\n",
       "      <td>04</td>\n",
       "      <td>2</td>\n",
       "      <td>Level 1</td>\n",
       "    </tr>\n",
       "    <tr>\n",
       "      <th>32</th>\n",
       "      <td>-0.984423</td>\n",
       "      <td>57.817506</td>\n",
       "      <td>Laser Noise</td>\n",
       "      <td>04</td>\n",
       "      <td>3</td>\n",
       "      <td>Level 1</td>\n",
       "    </tr>\n",
       "    <tr>\n",
       "      <th>33</th>\n",
       "      <td>-1.167918</td>\n",
       "      <td>91.789727</td>\n",
       "      <td>Laser Noise</td>\n",
       "      <td>04</td>\n",
       "      <td>4</td>\n",
       "      <td>Level 1</td>\n",
       "    </tr>\n",
       "    <tr>\n",
       "      <th>34</th>\n",
       "      <td>-1.094489</td>\n",
       "      <td>77.565551</td>\n",
       "      <td>Laser Noise</td>\n",
       "      <td>04</td>\n",
       "      <td>5</td>\n",
       "      <td>Level 1</td>\n",
       "    </tr>\n",
       "    <tr>\n",
       "      <th>35</th>\n",
       "      <td>-0.982805</td>\n",
       "      <td>54.804449</td>\n",
       "      <td>Laser Noise</td>\n",
       "      <td>05</td>\n",
       "      <td>1</td>\n",
       "      <td>Level 2</td>\n",
       "    </tr>\n",
       "    <tr>\n",
       "      <th>36</th>\n",
       "      <td>-1.042948</td>\n",
       "      <td>77.892748</td>\n",
       "      <td>Laser Noise</td>\n",
       "      <td>05</td>\n",
       "      <td>2</td>\n",
       "      <td>Level 2</td>\n",
       "    </tr>\n",
       "    <tr>\n",
       "      <th>37</th>\n",
       "      <td>-1.217990</td>\n",
       "      <td>101.440850</td>\n",
       "      <td>Laser Noise</td>\n",
       "      <td>05</td>\n",
       "      <td>3</td>\n",
       "      <td>Level 2</td>\n",
       "    </tr>\n",
       "    <tr>\n",
       "      <th>38</th>\n",
       "      <td>-1.071397</td>\n",
       "      <td>74.689012</td>\n",
       "      <td>Laser Noise</td>\n",
       "      <td>05</td>\n",
       "      <td>4</td>\n",
       "      <td>Level 2</td>\n",
       "    </tr>\n",
       "    <tr>\n",
       "      <th>39</th>\n",
       "      <td>-1.194908</td>\n",
       "      <td>147.001467</td>\n",
       "      <td>Laser Noise</td>\n",
       "      <td>05</td>\n",
       "      <td>5</td>\n",
       "      <td>Level 2</td>\n",
       "    </tr>\n",
       "    <tr>\n",
       "      <th>40</th>\n",
       "      <td>-1.152214</td>\n",
       "      <td>79.812096</td>\n",
       "      <td>Laser Noise</td>\n",
       "      <td>06</td>\n",
       "      <td>1</td>\n",
       "      <td>Level 3</td>\n",
       "    </tr>\n",
       "    <tr>\n",
       "      <th>41</th>\n",
       "      <td>-1.194021</td>\n",
       "      <td>94.866685</td>\n",
       "      <td>Laser Noise</td>\n",
       "      <td>06</td>\n",
       "      <td>2</td>\n",
       "      <td>Level 3</td>\n",
       "    </tr>\n",
       "    <tr>\n",
       "      <th>42</th>\n",
       "      <td>-1.142989</td>\n",
       "      <td>91.686198</td>\n",
       "      <td>Laser Noise</td>\n",
       "      <td>06</td>\n",
       "      <td>3</td>\n",
       "      <td>Level 3</td>\n",
       "    </tr>\n",
       "    <tr>\n",
       "      <th>43</th>\n",
       "      <td>-1.073188</td>\n",
       "      <td>79.966552</td>\n",
       "      <td>Laser Noise</td>\n",
       "      <td>06</td>\n",
       "      <td>4</td>\n",
       "      <td>Level 3</td>\n",
       "    </tr>\n",
       "    <tr>\n",
       "      <th>44</th>\n",
       "      <td>-1.103076</td>\n",
       "      <td>78.077144</td>\n",
       "      <td>Laser Noise</td>\n",
       "      <td>06</td>\n",
       "      <td>5</td>\n",
       "      <td>Level 3</td>\n",
       "    </tr>\n",
       "    <tr>\n",
       "      <th>45</th>\n",
       "      <td>-1.267239</td>\n",
       "      <td>115.451098</td>\n",
       "      <td>Noise and Uneven Terrain</td>\n",
       "      <td>easy</td>\n",
       "      <td>1</td>\n",
       "      <td>Level 1</td>\n",
       "    </tr>\n",
       "    <tr>\n",
       "      <th>46</th>\n",
       "      <td>-1.169573</td>\n",
       "      <td>86.052398</td>\n",
       "      <td>Noise and Uneven Terrain</td>\n",
       "      <td>easy</td>\n",
       "      <td>2</td>\n",
       "      <td>Level 1</td>\n",
       "    </tr>\n",
       "    <tr>\n",
       "      <th>47</th>\n",
       "      <td>-1.036441</td>\n",
       "      <td>61.442445</td>\n",
       "      <td>Noise and Uneven Terrain</td>\n",
       "      <td>easy</td>\n",
       "      <td>3</td>\n",
       "      <td>Level 1</td>\n",
       "    </tr>\n",
       "    <tr>\n",
       "      <th>48</th>\n",
       "      <td>-1.279095</td>\n",
       "      <td>110.009000</td>\n",
       "      <td>Noise and Uneven Terrain</td>\n",
       "      <td>easy</td>\n",
       "      <td>4</td>\n",
       "      <td>Level 1</td>\n",
       "    </tr>\n",
       "    <tr>\n",
       "      <th>49</th>\n",
       "      <td>-1.453156</td>\n",
       "      <td>123.425361</td>\n",
       "      <td>Noise and Uneven Terrain</td>\n",
       "      <td>easy</td>\n",
       "      <td>5</td>\n",
       "      <td>Level 1</td>\n",
       "    </tr>\n",
       "    <tr>\n",
       "      <th>50</th>\n",
       "      <td>-1.203433</td>\n",
       "      <td>92.541882</td>\n",
       "      <td>Noise and Uneven Terrain</td>\n",
       "      <td>medium</td>\n",
       "      <td>1</td>\n",
       "      <td>Level 2</td>\n",
       "    </tr>\n",
       "    <tr>\n",
       "      <th>51</th>\n",
       "      <td>-1.440556</td>\n",
       "      <td>210.694059</td>\n",
       "      <td>Noise and Uneven Terrain</td>\n",
       "      <td>medium</td>\n",
       "      <td>2</td>\n",
       "      <td>Level 2</td>\n",
       "    </tr>\n",
       "    <tr>\n",
       "      <th>52</th>\n",
       "      <td>-1.122076</td>\n",
       "      <td>76.191828</td>\n",
       "      <td>Noise and Uneven Terrain</td>\n",
       "      <td>medium</td>\n",
       "      <td>3</td>\n",
       "      <td>Level 2</td>\n",
       "    </tr>\n",
       "    <tr>\n",
       "      <th>53</th>\n",
       "      <td>-1.172541</td>\n",
       "      <td>91.417399</td>\n",
       "      <td>Noise and Uneven Terrain</td>\n",
       "      <td>medium</td>\n",
       "      <td>4</td>\n",
       "      <td>Level 2</td>\n",
       "    </tr>\n",
       "    <tr>\n",
       "      <th>54</th>\n",
       "      <td>-1.152256</td>\n",
       "      <td>82.393323</td>\n",
       "      <td>Noise and Uneven Terrain</td>\n",
       "      <td>medium</td>\n",
       "      <td>5</td>\n",
       "      <td>Level 2</td>\n",
       "    </tr>\n",
       "    <tr>\n",
       "      <th>55</th>\n",
       "      <td>-1.261278</td>\n",
       "      <td>121.103657</td>\n",
       "      <td>Noise and Uneven Terrain</td>\n",
       "      <td>hard</td>\n",
       "      <td>1</td>\n",
       "      <td>Level 3</td>\n",
       "    </tr>\n",
       "    <tr>\n",
       "      <th>56</th>\n",
       "      <td>-1.442674</td>\n",
       "      <td>319.478478</td>\n",
       "      <td>Noise and Uneven Terrain</td>\n",
       "      <td>hard</td>\n",
       "      <td>2</td>\n",
       "      <td>Level 3</td>\n",
       "    </tr>\n",
       "    <tr>\n",
       "      <th>57</th>\n",
       "      <td>-1.444337</td>\n",
       "      <td>109.143231</td>\n",
       "      <td>Noise and Uneven Terrain</td>\n",
       "      <td>hard</td>\n",
       "      <td>3</td>\n",
       "      <td>Level 3</td>\n",
       "    </tr>\n",
       "    <tr>\n",
       "      <th>58</th>\n",
       "      <td>-1.393346</td>\n",
       "      <td>211.251648</td>\n",
       "      <td>Noise and Uneven Terrain</td>\n",
       "      <td>hard</td>\n",
       "      <td>4</td>\n",
       "      <td>Level 3</td>\n",
       "    </tr>\n",
       "    <tr>\n",
       "      <th>59</th>\n",
       "      <td>-1.394672</td>\n",
       "      <td>256.475527</td>\n",
       "      <td>Noise and Uneven Terrain</td>\n",
       "      <td>hard</td>\n",
       "      <td>5</td>\n",
       "      <td>Level 3</td>\n",
       "    </tr>\n",
       "  </tbody>\n",
       "</table>\n",
       "</div>"
      ],
      "text/plain": [
       "    average_robotHealth   timeTaken                 Condition Difficulty  \\\n",
       "0             -0.728020   42.635945            Uneven Terrain          0   \n",
       "1             -0.691093   40.567000            Uneven Terrain          0   \n",
       "2             -0.685066   39.631885            Uneven Terrain          0   \n",
       "3             -0.692744   39.702954            Uneven Terrain          0   \n",
       "4             -0.686723   39.507461            Uneven Terrain          0   \n",
       "5             -1.050454   64.546000            Uneven Terrain         10   \n",
       "6             -1.269821  108.354245            Uneven Terrain         10   \n",
       "7             -1.229904  131.301577            Uneven Terrain         10   \n",
       "8             -1.169083  109.853087            Uneven Terrain         10   \n",
       "9             -1.258128  184.391000            Uneven Terrain         10   \n",
       "10            -1.158598   97.519802            Uneven Terrain         20   \n",
       "11            -1.178418   93.935477            Uneven Terrain         20   \n",
       "12            -1.294427  102.037606            Uneven Terrain         20   \n",
       "13            -0.817653   42.177778            Uneven Terrain         20   \n",
       "14            -1.348634  290.827443            Uneven Terrain         20   \n",
       "15            -1.253462  135.828165            Uneven Terrain         40   \n",
       "16            -1.273249  132.663782            Uneven Terrain         40   \n",
       "17            -1.070601   68.973734            Uneven Terrain         40   \n",
       "18            -1.501470  250.018476            Uneven Terrain         40   \n",
       "19            -1.341835  128.474000            Uneven Terrain         40   \n",
       "20            -0.728020   42.635945               Laser Noise          0   \n",
       "21            -0.691093   40.567000               Laser Noise          0   \n",
       "22            -0.685066   39.631885               Laser Noise          0   \n",
       "23            -0.692744   39.702954               Laser Noise          0   \n",
       "24            -0.686723   39.507461               Laser Noise          0   \n",
       "25            -1.000406   47.842000               Laser Noise         03   \n",
       "26            -1.164704   87.159492               Laser Noise         03   \n",
       "27            -1.010845   51.505038               Laser Noise         03   \n",
       "28            -0.974892   54.404555               Laser Noise         03   \n",
       "29            -1.118588   82.557453               Laser Noise         03   \n",
       "30            -1.213802   99.143432               Laser Noise         04   \n",
       "31            -0.976394   56.405975               Laser Noise         04   \n",
       "32            -0.984423   57.817506               Laser Noise         04   \n",
       "33            -1.167918   91.789727               Laser Noise         04   \n",
       "34            -1.094489   77.565551               Laser Noise         04   \n",
       "35            -0.982805   54.804449               Laser Noise         05   \n",
       "36            -1.042948   77.892748               Laser Noise         05   \n",
       "37            -1.217990  101.440850               Laser Noise         05   \n",
       "38            -1.071397   74.689012               Laser Noise         05   \n",
       "39            -1.194908  147.001467               Laser Noise         05   \n",
       "40            -1.152214   79.812096               Laser Noise         06   \n",
       "41            -1.194021   94.866685               Laser Noise         06   \n",
       "42            -1.142989   91.686198               Laser Noise         06   \n",
       "43            -1.073188   79.966552               Laser Noise         06   \n",
       "44            -1.103076   78.077144               Laser Noise         06   \n",
       "45            -1.267239  115.451098  Noise and Uneven Terrain       easy   \n",
       "46            -1.169573   86.052398  Noise and Uneven Terrain       easy   \n",
       "47            -1.036441   61.442445  Noise and Uneven Terrain       easy   \n",
       "48            -1.279095  110.009000  Noise and Uneven Terrain       easy   \n",
       "49            -1.453156  123.425361  Noise and Uneven Terrain       easy   \n",
       "50            -1.203433   92.541882  Noise and Uneven Terrain     medium   \n",
       "51            -1.440556  210.694059  Noise and Uneven Terrain     medium   \n",
       "52            -1.122076   76.191828  Noise and Uneven Terrain     medium   \n",
       "53            -1.172541   91.417399  Noise and Uneven Terrain     medium   \n",
       "54            -1.152256   82.393323  Noise and Uneven Terrain     medium   \n",
       "55            -1.261278  121.103657  Noise and Uneven Terrain       hard   \n",
       "56            -1.442674  319.478478  Noise and Uneven Terrain       hard   \n",
       "57            -1.444337  109.143231  Noise and Uneven Terrain       hard   \n",
       "58            -1.393346  211.251648  Noise and Uneven Terrain       hard   \n",
       "59            -1.394672  256.475527  Noise and Uneven Terrain       hard   \n",
       "\n",
       "   Trial     Level  \n",
       "0      1  Baseline  \n",
       "1      2  Baseline  \n",
       "2      3  Baseline  \n",
       "3      4  Baseline  \n",
       "4      5  Baseline  \n",
       "5      1   Level 1  \n",
       "6      2   Level 1  \n",
       "7      3   Level 1  \n",
       "8      4   Level 1  \n",
       "9      5   Level 1  \n",
       "10     1   Level 2  \n",
       "11     2   Level 2  \n",
       "12     3   Level 2  \n",
       "13     4   Level 2  \n",
       "14     5   Level 2  \n",
       "15     1   Level 3  \n",
       "16     2   Level 3  \n",
       "17     3   Level 3  \n",
       "18     4   Level 3  \n",
       "19     5   Level 3  \n",
       "20     1  Baseline  \n",
       "21     2  Baseline  \n",
       "22     3  Baseline  \n",
       "23     4  Baseline  \n",
       "24     5  Baseline  \n",
       "25     1       NaN  \n",
       "26     2       NaN  \n",
       "27     3       NaN  \n",
       "28     4       NaN  \n",
       "29     5       NaN  \n",
       "30     1   Level 1  \n",
       "31     2   Level 1  \n",
       "32     3   Level 1  \n",
       "33     4   Level 1  \n",
       "34     5   Level 1  \n",
       "35     1   Level 2  \n",
       "36     2   Level 2  \n",
       "37     3   Level 2  \n",
       "38     4   Level 2  \n",
       "39     5   Level 2  \n",
       "40     1   Level 3  \n",
       "41     2   Level 3  \n",
       "42     3   Level 3  \n",
       "43     4   Level 3  \n",
       "44     5   Level 3  \n",
       "45     1   Level 1  \n",
       "46     2   Level 1  \n",
       "47     3   Level 1  \n",
       "48     4   Level 1  \n",
       "49     5   Level 1  \n",
       "50     1   Level 2  \n",
       "51     2   Level 2  \n",
       "52     3   Level 2  \n",
       "53     4   Level 2  \n",
       "54     5   Level 2  \n",
       "55     1   Level 3  \n",
       "56     2   Level 3  \n",
       "57     3   Level 3  \n",
       "58     4   Level 3  \n",
       "59     5   Level 3  "
      ]
     },
     "execution_count": 42,
     "metadata": {},
     "output_type": "execute_result"
    }
   ],
   "source": [
    "df_levels = df.loc[df['Level'] != '']\n",
    "df_levels"
   ]
  },
  {
   "cell_type": "code",
   "execution_count": 43,
   "metadata": {},
   "outputs": [],
   "source": [
    "df = df.rename(columns={\"Arena\":\"Condition\"})\n",
    "df_levels = df_levels.rename(columns={\"Arena\":\"Condition\"})"
   ]
  },
  {
   "cell_type": "code",
   "execution_count": 44,
   "metadata": {},
   "outputs": [
    {
     "data": {
      "text/plain": [
       "[Text(0, 0.5, 'Average Robot Health over run time'),\n",
       " Text(0.5, 0, 'Time taken to complete the task')]"
      ]
     },
     "execution_count": 44,
     "metadata": {},
     "output_type": "execute_result"
    }
   ],
   "source": [
    "%matplotlib qt\n",
    "ax =sns.scatterplot(data=df, x=\"timeTaken\", y=\"average_robotHealth\",hue='Condition',palette='deep')\n",
    "ax.set_title('Correlation Plot for Exp I. Spearman\\'s Rho Value = -0.96 ')\n",
    "ax.set(ylabel = 'Average Robot Health over run time', xlabel = 'Time taken to complete the task')\n",
    "# ax.legend(title='Condition',loc='upper right')"
   ]
  },
  {
   "cell_type": "code",
   "execution_count": 45,
   "metadata": {},
   "outputs": [],
   "source": [
    "corr_matrix = df[['timeTaken','average_robotHealth']].corr( method = 'spearman')"
   ]
  },
  {
   "cell_type": "code",
   "execution_count": 46,
   "metadata": {},
   "outputs": [
    {
     "data": {
      "text/html": [
       "<div>\n",
       "<style scoped>\n",
       "    .dataframe tbody tr th:only-of-type {\n",
       "        vertical-align: middle;\n",
       "    }\n",
       "\n",
       "    .dataframe tbody tr th {\n",
       "        vertical-align: top;\n",
       "    }\n",
       "\n",
       "    .dataframe thead th {\n",
       "        text-align: right;\n",
       "    }\n",
       "</style>\n",
       "<table border=\"1\" class=\"dataframe\">\n",
       "  <thead>\n",
       "    <tr style=\"text-align: right;\">\n",
       "      <th></th>\n",
       "      <th>timeTaken</th>\n",
       "      <th>average_robotHealth</th>\n",
       "    </tr>\n",
       "  </thead>\n",
       "  <tbody>\n",
       "    <tr>\n",
       "      <th>timeTaken</th>\n",
       "      <td>1.000000</td>\n",
       "      <td>-0.960761</td>\n",
       "    </tr>\n",
       "    <tr>\n",
       "      <th>average_robotHealth</th>\n",
       "      <td>-0.960761</td>\n",
       "      <td>1.000000</td>\n",
       "    </tr>\n",
       "  </tbody>\n",
       "</table>\n",
       "</div>"
      ],
      "text/plain": [
       "                     timeTaken  average_robotHealth\n",
       "timeTaken             1.000000            -0.960761\n",
       "average_robotHealth  -0.960761             1.000000"
      ]
     },
     "execution_count": 46,
     "metadata": {},
     "output_type": "execute_result"
    }
   ],
   "source": [
    "corr_matrix"
   ]
  },
  {
   "cell_type": "code",
   "execution_count": 15,
   "metadata": {},
   "outputs": [
    {
     "data": {
      "text/plain": [
       "array([-0.72802021, -0.69109307, -0.68506575, -0.69274364, -0.68672265,\n",
       "       -1.05045442, -1.26982094, -1.22990448, -1.16908334, -1.25812757,\n",
       "       -1.15859781, -1.17841809, -1.29442736, -0.81765331, -1.34863442,\n",
       "       -1.25346235, -1.27324943, -1.0706015 , -1.50147025, -1.34183472,\n",
       "       -0.72802021, -0.69109307, -0.68506575, -0.69274364, -0.68672265,\n",
       "       -1.00040587, -1.16470415, -1.01084484, -0.97489243, -1.11858785,\n",
       "       -1.21380156, -0.97639439, -0.98442257, -1.16791784, -1.09448883,\n",
       "       -0.98280512, -1.04294752, -1.21798997, -1.07139737, -1.19490758,\n",
       "       -1.15221374, -1.19402137, -1.14298898, -1.07318816, -1.10307555,\n",
       "       -1.26723866, -1.16957269, -1.03644149, -1.27909548, -1.45315617,\n",
       "       -1.20343342, -1.44055624, -1.12207597, -1.17254134, -1.15225589,\n",
       "       -1.2612777 , -1.44267392, -1.44433746, -1.39334634, -1.39467172])"
      ]
     },
     "execution_count": 15,
     "metadata": {},
     "output_type": "execute_result"
    }
   ],
   "source": [
    "df['average_robotHealth'].values"
   ]
  },
  {
   "cell_type": "code",
   "execution_count": 16,
   "metadata": {},
   "outputs": [
    {
     "name": "stdout",
     "output_type": "stream",
     "text": [
      "Python 3.6.9 :: Anaconda, Inc.\r\n"
     ]
    }
   ],
   "source": [
    "!python --version"
   ]
  },
  {
   "cell_type": "code",
   "execution_count": 47,
   "metadata": {},
   "outputs": [
    {
     "data": {
      "text/plain": [
       "[Text(0.5, 0, 'Levels of Performance degradation'),\n",
       " Text(0, 0.5, 'Time taken to complete the task')]"
      ]
     },
     "execution_count": 47,
     "metadata": {},
     "output_type": "execute_result"
    }
   ],
   "source": [
    "%matplotlib qt\n",
    "ax = sns.boxplot(x=\"Level\", y=\"timeTaken\",hue=\"Condition\", data=df_levels)\n",
    "ax.set_title('Time taken vs performance degradation in Exp I')\n",
    "ax.set(xlabel = 'Levels of Performance degradation', ylabel = 'Time taken to complete the task')\n",
    "# ax.legend(title='Condition',loc='upper left')"
   ]
  },
  {
   "cell_type": "code",
   "execution_count": 54,
   "metadata": {},
   "outputs": [
    {
     "data": {
      "text/plain": [
       "[Text(0.5, 0, 'Levels of Performance degradation'),\n",
       " Text(0, 0.5, 'Average Robot Health over run time')]"
      ]
     },
     "execution_count": 54,
     "metadata": {},
     "output_type": "execute_result"
    }
   ],
   "source": [
    "%matplotlib qt\n",
    "ax = sns.boxplot(x=\"Level\", y=\"average_robotHealth\",hue=\"Condition\", data=df_levels)\n",
    "ax.set_title('Run Time Average Robot Health vs performance degradation in Exp I')\n",
    "ax.set(xlabel = 'Levels of Performance degradation', ylabel = 'Average Robot Health over run time')\n",
    "# ax.legend(title='Condition',loc='upper left')"
   ]
  },
  {
   "cell_type": "code",
   "execution_count": 63,
   "metadata": {},
   "outputs": [
    {
     "data": {
      "text/plain": [
       "<matplotlib.legend.Legend at 0x7f9271bd2438>"
      ]
     },
     "execution_count": 63,
     "metadata": {},
     "output_type": "execute_result"
    }
   ],
   "source": [
    "%matplotlib qt\n",
    "\n",
    "fig, axs = plt.subplots(1,2)\n",
    "sns.boxplot(x=\"Level\", y=\"timeTaken\",hue=\"Condition\", data=df_levels, ax = axs[0])\n",
    "axs[0].set_title('Time taken vs performance degradation in Exp I', fontsize='large')\n",
    "axs[0].set_xlabel('Levels of Performance degradation',fontsize='large')\n",
    "axs[0].set_ylabel('Time taken to complete the task (in seconds)',fontsize='large')\n",
    "axs[0].legend(fontsize=14)\n",
    "\n",
    "sns.boxplot(x=\"Level\", y=\"average_robotHealth\",hue=\"Condition\", data=df_levels, ax = axs[1])\n",
    "axs[1].set_title('Run Time Average Robot Health vs performance degradation in Exp I',fontsize='large')\n",
    "axs[1].set_xlabel ('Levels of Performance degradation',fontsize='large')\n",
    "axs[1].set_ylabel ('Average Robot Health over run time',fontsize='large')\n",
    "axs[1].legend(fontsize=14)"
   ]
  },
  {
   "cell_type": "code",
   "execution_count": 63,
   "metadata": {},
   "outputs": [],
   "source": [
    "df_levels.to_csv('sim_df.csv')"
   ]
  },
  {
   "cell_type": "code",
   "execution_count": 70,
   "metadata": {},
   "outputs": [],
   "source": [
    "g = sns.catplot(x=\"sex\", y=\"total_bill\",hue=\"smoker\", col=\"time\",data=tips, kind=\"violin\", split=True, height=4, aspect=.7);"
   ]
  },
  {
   "cell_type": "code",
   "execution_count": 83,
   "metadata": {},
   "outputs": [
    {
     "data": {
      "text/plain": [
       "<AxesSubplot:xlabel='Level', ylabel='timeTaken'>"
      ]
     },
     "execution_count": 83,
     "metadata": {},
     "output_type": "execute_result"
    }
   ],
   "source": [
    "%matplotlib qt\n",
    "sns.pointplot(x=\"Level\", y=\"timeTaken\",hue=\"Condition\", data=df_levels)"
   ]
  },
  {
   "cell_type": "code",
   "execution_count": null,
   "metadata": {},
   "outputs": [],
   "source": []
  }
 ],
 "metadata": {
  "kernelspec": {
   "display_name": "Python 3",
   "language": "python",
   "name": "python3"
  },
  "language_info": {
   "codemirror_mode": {
    "name": "ipython",
    "version": 3
   },
   "file_extension": ".py",
   "mimetype": "text/x-python",
   "name": "python",
   "nbconvert_exporter": "python",
   "pygments_lexer": "ipython3",
   "version": "3.6.9"
  }
 },
 "nbformat": 4,
 "nbformat_minor": 2
}
